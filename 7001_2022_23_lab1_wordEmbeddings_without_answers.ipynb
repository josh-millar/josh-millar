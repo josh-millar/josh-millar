{
  "nbformat": 4,
  "nbformat_minor": 0,
  "metadata": {
    "colab": {
      "provenance": [],
      "toc_visible": true,
      "include_colab_link": true
    },
    "kernelspec": {
      "name": "python3",
      "display_name": "Python 3"
    }
  },
  "cells": [
    {
      "cell_type": "markdown",
      "metadata": {
        "id": "view-in-github",
        "colab_type": "text"
      },
      "source": [
        "<a href=\"https://colab.research.google.com/github/josh-millar/josh-millar/blob/main/7001_2022_23_lab1_wordEmbeddings_without_answers.ipynb\" target=\"_parent\"><img src=\"https://colab.research.google.com/assets/colab-badge.svg\" alt=\"Open In Colab\"/></a>"
      ]
    },
    {
      "cell_type": "markdown",
      "metadata": {
        "id": "t_yvQBKrD8Se"
      },
      "source": [
        "# **ECS 7001 - NN & NNLP**\n",
        "\n",
        "## **Lab 1: Skip-gram Model for Word2Vec**\n",
        "\n",
        "<br>\n",
        "\n",
        "**24th January**\n",
        "\n",
        "There are two Word2Vec architectures for creating word embeddings: the Continuous Bag of Words (CBOW) architecture and the Skip Gram architecture . In this lab, we will obtain our own word embeddings by training a skip-gram neural network model. Some of the code for this will be supplied here but in some sections, you will be required to implement the code yourself. Hints and\n",
        "tips will be provided.\n",
        "\n",
        "\n",
        "The skip gram model is essentially a feedforward neural network with one hidden layer, trained to predict the context word given a target word. There are two ways to train this model: (1) using a hierarchical softmax function and/or (2) by negative sampling. In this lab, we will be training using\n",
        "negative sampling. To train with negative sampling, the model is cast as a binary classification problem. The dataset would consist of positive and negative examples of the form:\n",
        "\n",
        "Input | label\n",
        "--| --\n",
        "(target_word, word_in_its_context)       |  1 \n",
        "(target_word, word_not_in_its_context)   |  0\n",
        "\n",
        "created from the sentences in a corpus. The exact number of positive and negative examples will depend on the window size, and the balance ratio of positive:negative examples.  \n",
        "\n",
        "As an example, consider the sentence: “ **The quick brown\n",
        "fox jumped over the lazy dog** ”. For the target word ' **fox** ' and a window size of 2, all the positive and negative examples drawn from this sentence would be:\n",
        "\n",
        "Input | label\n",
        "--| --\n",
        "(fox, the) | 0\n",
        "(fox, quick) | 1\n",
        "(fox, brown) | 1\n",
        "(fox, jumped) | 1\n",
        "(fox, over) |1\n",
        "(fox, lazy) | 0\n",
        "(fox, dog) | 0\n",
        "\n",
        "The model is trained to learn to predict 1 when a word is in the context of the target word (i.e.in the window of the target word) and 0 otherwise. The model thus learns the statistics of the given corpus: the frequency with two words appear together would determine how similar they are (similarity is usually measured using cosine distance). After training, the trained hidden layer weights are the word embeddings.\n",
        "\n"
      ]
    },
    {
      "cell_type": "markdown",
      "metadata": {
        "id": "Ep2X91YdJpkG"
      },
      "source": [
        "### **0. Prepare the environment**\n",
        "\n",
        "Open Google Colab or activate the virtual environment you’ve created"
      ]
    },
    {
      "cell_type": "markdown",
      "metadata": {
        "id": "w6Pi5uvTLRCo"
      },
      "source": [
        "### **1. Downloading the Corpus**\n",
        "\n",
        "Our training data will be comprised of 3 documents from the Gutenberg corpus. We can find this and other corpora in nltk https://www.nltk.org/book/ch02.html"
      ]
    },
    {
      "cell_type": "code",
      "metadata": {
        "colab": {
          "base_uri": "https://localhost:8080/"
        },
        "id": "xn7sWMG-KoBV",
        "outputId": "d329cf35-78ef-4fcd-ae40-4e461f6dafff"
      },
      "source": [
        "import nltk\n",
        "\n",
        "nltk.download('punkt')\n",
        "nltk.download('gutenberg')\n",
        "from nltk.corpus import gutenberg\n",
        "austen = gutenberg.sents('austen-sense.txt') + gutenberg.sents('austen-emma.txt') + gutenberg.sents('austen-persuasion.txt')"
      ],
      "execution_count": 1,
      "outputs": [
        {
          "output_type": "stream",
          "name": "stderr",
          "text": [
            "[nltk_data] Downloading package punkt to /root/nltk_data...\n",
            "[nltk_data]   Unzipping tokenizers/punkt.zip.\n",
            "[nltk_data] Downloading package gutenberg to /root/nltk_data...\n",
            "[nltk_data]   Unzipping corpora/gutenberg.zip.\n"
          ]
        }
      ]
    },
    {
      "cell_type": "markdown",
      "metadata": {
        "id": "PYD16ST1MIOf"
      },
      "source": [
        "**Sanity check:**\n",
        "\n",
        "This training corpus contains 16498 sentences. The following print statement should return 16498."
      ]
    },
    {
      "cell_type": "code",
      "metadata": {
        "colab": {
          "base_uri": "https://localhost:8080/"
        },
        "id": "yCH0PmPcL83f",
        "outputId": "fe0ce857-89fc-4e9e-bbb4-0535ca1bac8f"
      },
      "source": [
        "print(len(austen))"
      ],
      "execution_count": 2,
      "outputs": [
        {
          "output_type": "stream",
          "name": "stdout",
          "text": [
            "16463\n"
          ]
        }
      ]
    },
    {
      "cell_type": "code",
      "metadata": {
        "colab": {
          "base_uri": "https://localhost:8080/"
        },
        "id": "APFWiEejv9i5",
        "outputId": "dd8f9293-eafc-46b1-fe0f-a53af74b720e"
      },
      "source": [
        "austen[0]"
      ],
      "execution_count": 7,
      "outputs": [
        {
          "output_type": "execute_result",
          "data": {
            "text/plain": [
              "['[', 'Sense', 'and', 'Sensibility', 'by', 'Jane', 'Austen', '1811', ']']"
            ]
          },
          "metadata": {},
          "execution_count": 7
        }
      ]
    },
    {
      "cell_type": "markdown",
      "metadata": {
        "id": "4c14vElNvMGX"
      },
      "source": [
        "### **2. Preprocessing the Training Corpus**\n",
        "\n",
        "In this section, you will write code to remove special characters, empty strings, digits and\n",
        "stopwords from the sentences and put all the words into lower cases. You might also consider removing sentences with fewer than 3 words or at least empty sentences.\n",
        "\n",
        "\n",
        "**Hints:**\n",
        "*   The corpus can be accessed as you would a tokenized list, a list of lists, each inner list contains all the tokens in the sentence. Eg:\n",
        "\\>> austen[0] =['[', 'Sense', 'and', 'Sensibility', 'by','Jane', 'Austen', '1811', ']']\n",
        "\n",
        "*   the python <string> library contains a variable “punctuation”, a string containing all\n",
        "the special characters.\n",
        "\n",
        "*   You might want to write a function that takes the corpus as an argument and returns the preprocessed corpus as a list of lists.\n",
        "\n",
        " Alternatively, you can use the keras preprocessing library to preprocess the text. More information on the library can be found here:\n",
        "https://keras.io/preprocessing/text/\n",
        "\n",
        "\n",
        "**Sanity check:**\n",
        "\n",
        "After preprocessing the corpus, as a sanity check, print the following line of code. If you chose removed sentences of length with fewer than 3 words, it should be about 13651. \n",
        "\n",
        "As a test for your preprocessing function, preprocess the sample below and print the output of your function."
      ]
    },
    {
      "cell_type": "code",
      "metadata": {
        "id": "V2SIxzvwybiv",
        "colab": {
          "base_uri": "https://localhost:8080/"
        },
        "outputId": "a9c0bc0d-7f08-4913-90f7-47a8e06c17c9"
      },
      "source": [
        "from nltk.corpus.reader import SemcorSentence\n",
        "import string\n",
        "nltk.download('stopwords')\n",
        "\n",
        "def preprocess_corpus(corpus):\n",
        "    '''\n",
        "    Write code for preprocessing corpus here\n",
        "    '''\n",
        "    normalized_corpus = []\n",
        "    for sentence in corpus:\n",
        "        # remove punctuation\n",
        "        sentence = [w for w in sentence if w not in string.punctuation]\n",
        "        # remove digits:\n",
        "        sentence = [w for w in sentence if not w.isdigit()]\n",
        "        # remove empty strings:\n",
        "        sentence = [w for w in sentence if w]\n",
        "        # remove stopwords:\n",
        "        stop_words = nltk.corpus.stopwords.words(\"english\")\n",
        "        sentence = [w for w in sentence if w not in stop_words]\n",
        "        # lower-case:\n",
        "        sentence = [w.lower() for w in sentence]\n",
        "        if len(sentence) > 3:\n",
        "            normalized_corpus.append(sentence)\n",
        "    return normalized_corpus\n",
        "\n",
        "\n",
        "normalized_corpus = preprocess_corpus(austen)\n",
        "print('The new length of the preprocessed output: {}'.format(len(normalized_corpus)))"
      ],
      "execution_count": 14,
      "outputs": [
        {
          "output_type": "stream",
          "name": "stderr",
          "text": [
            "[nltk_data] Downloading package stopwords to /root/nltk_data...\n",
            "[nltk_data]   Package stopwords is already up-to-date!\n"
          ]
        },
        {
          "output_type": "stream",
          "name": "stdout",
          "text": [
            "The new length of the preprocessed output: 13980\n"
          ]
        }
      ]
    },
    {
      "cell_type": "code",
      "metadata": {
        "id": "tJ1qxoq-8Kob",
        "colab": {
          "base_uri": "https://localhost:8080/"
        },
        "outputId": "dbbceeeb-5423-4246-ae90-e18df587717a"
      },
      "source": [
        "sample = austen[:2] + austen[100:102]\n",
        "preprocessed_sample = preprocess_corpus(sample)\n",
        "\n",
        "\n",
        "print(len(sample), sample)\n",
        "print()\n",
        "print(len(preprocessed_sample), preprocessed_sample)"
      ],
      "execution_count": 16,
      "outputs": [
        {
          "output_type": "stream",
          "name": "stdout",
          "text": [
            "4 [['[', 'Sense', 'and', 'Sensibility', 'by', 'Jane', 'Austen', '1811', ']'], ['CHAPTER', '1'], ['But', ',', 'then', ',', 'if', 'Mrs', '.', 'Dashwood', 'should', 'live', 'fifteen', 'years', 'we', 'shall', 'be', 'completely', 'taken', 'in', '.\"'], ['\"', 'Fifteen', 'years', '!']]\n",
            "\n",
            "2 [['sense', 'sensibility', 'jane', 'austen'], ['but', 'mrs', 'dashwood', 'live', 'fifteen', 'years', 'shall', 'completely', 'taken', '.\"']]\n"
          ]
        }
      ]
    },
    {
      "cell_type": "markdown",
      "metadata": {
        "id": "rghchHA66d-V"
      },
      "source": [
        "### **3. Creating the Corpus Vocabulary and Preparing the Data**\n",
        "\n",
        "\n",
        "To prepare the data for machine learning, you will write code to prepare 3 variables:\n",
        "\n",
        "1. \\<word2idx>: a lookup table, a dictionary of (word : word index) pairs where **word index** is a unique integer assigned to every **unique word** in the corpus.\n",
        "2. \\<idx2word>: a dictionary of (token index: token ), a reversal of \\<word2idx>. \n",
        "3. \\<sents_as_ids>: The input to the model cannot be text, rather, each word needs to be represented by a unique integer and each sentence an array of integers.\n",
        "\n",
        "\n",
        "The incomplete code provided below is just a guide. "
      ]
    },
    {
      "cell_type": "code",
      "metadata": {
        "id": "gmqUdSuU8PyK"
      },
      "source": [
        "word2idx = {}\n",
        "idx2word = {}\n",
        "\n",
        "\n",
        "def prepareData(normalized_corpus):\n",
        "    '''\n",
        "    takes a list of sentences and returns a lookup table\n",
        "    which maps a unique integer to each unique word in all\n",
        "    sentences\n",
        "    '''\n",
        "    idx = 0\n",
        "    for sentence in normalized_corpus:\n",
        "        for word in sentence:\n",
        "            if word not in word2idx:\n",
        "                word2idx[word] = idx\n",
        "                idx += 1\n",
        "    return word2idx\n",
        "prepareData(normalized_corpus);\n",
        "idx2word = {value: key for key, value in word2idx.items()}\n",
        "\n",
        "def prepareSentsAsId(normalized_corpus):\n",
        "    '''\n",
        "    takes a list of sentences and returns a list of integers\n",
        "    using the mapping defined above\n",
        "    '''\n",
        "    sents_as_ids = []\n",
        "    for sentence in normalized_corpus:\n",
        "        these_ids = [word2idx[w] for w in sentence]\n",
        "        sents_as_ids.append(these_ids)\n",
        "    return sents_as_ids\n",
        "prepareSentsAsId(normalized_corpus);"
      ],
      "execution_count": 17,
      "outputs": []
    },
    {
      "cell_type": "code",
      "source": [
        "print('Number of unique words:', len(word2idx))\n",
        "print('\\nSample word2idx: ', list(word2idx.items())[:10])\n",
        "print('\\nSample idx2word:', list(idx2word.items())[:10])\n",
        "print('\\nSample sents_as_id:', prepareSentsAsId(preprocessed_sample))"
      ],
      "metadata": {
        "colab": {
          "base_uri": "https://localhost:8080/"
        },
        "id": "_9OZBIQaXipr",
        "outputId": "4844c7f5-5732-4f91-9f89-39f1c0dcbf78"
      },
      "execution_count": 18,
      "outputs": [
        {
          "output_type": "stream",
          "name": "stdout",
          "text": [
            "Number of unique words: 10440\n",
            "\n",
            "Sample word2idx:  [('sense', 0), ('sensibility', 1), ('jane', 2), ('austen', 3), ('the', 4), ('family', 5), ('dashwood', 6), ('long', 7), ('settled', 8), ('sussex', 9)]\n",
            "\n",
            "Sample idx2word: [(0, 'sense'), (1, 'sensibility'), (2, 'jane'), (3, 'austen'), (4, 'the'), (5, 'family'), (6, 'dashwood'), (7, 'long'), (8, 'settled'), (9, 'sussex')]\n",
            "\n",
            "Sample sents_as_id: [[0, 1, 2, 3], [41, 72, 6, 202, 627, 35, 628, 299, 629, 303]]\n"
          ]
        }
      ]
    },
    {
      "cell_type": "markdown",
      "metadata": {
        "id": "DCa7VGc59bCD"
      },
      "source": [
        "**Sanity Check**\n",
        "\n",
        "Copy and run the following lines of code:\n",
        "\n",
        "```\n",
        "print('Number of unique words:', len(word2idx)**\n",
        "```\n",
        "Returns a number between 9800 and 1200, the exact number depends on your preprocessing step. \n",
        "\n",
        "```\n",
        "print('\\nSample word2idx: ', list(word2idx.items())[:10])\n",
        "```\n",
        "\n",
        "Sample word2idx:  [('sense', 0), ('sensibility', 1), ('jane', 2), ('austen', 3), ('the', 4), ('family', 5), ('dashwood', 6), ('long', 7), ('settled', 8), ('sussex', 9)]\n",
        "\n",
        "\n",
        "```\n",
        "print('\\nSample idx2word:', list(idx2word.items())[:10])**\n",
        "```\n",
        "\n",
        "Sample idx2word: [(1, 'could'), (2, 'would'), (3, 'mr'), (4, 'mrs'), (5, 'must'), (6, 'said'), (7, 'one'), (8, 'much'), (9, 'miss'), (10, 'every')]\n",
        "\n",
        "```\n",
        "print('\\nSample sents_as_id:', prepareSentsAsId(preprocessed_sample))\n",
        "```\n",
        "\n",
        "Sample sents_as_id: [[0, 1, 2, 3], [41, 72, 6, 201, 619, 35, 620, 296, 621]]\n",
        "\n"
      ]
    },
    {
      "cell_type": "markdown",
      "metadata": {
        "id": "Uqw71xzzeYSm"
      },
      "source": [
        "After you have created the three variables, set the <vocab_size> and <embed_size> variables with the following commands:"
      ]
    },
    {
      "cell_type": "code",
      "metadata": {
        "id": "WGsp5Lij8qUd"
      },
      "source": [
        "VOCAB_SIZE = len(word2idx) \n",
        "EMBED_SIZE = 100 # We are creating 100D embeddings."
      ],
      "execution_count": 19,
      "outputs": []
    },
    {
      "cell_type": "code",
      "metadata": {
        "id": "u_yjd5kgqiZi",
        "colab": {
          "base_uri": "https://localhost:8080/"
        },
        "outputId": "97a852e9-341c-4b34-de64-d1be441d113b"
      },
      "source": [
        "print('Number of unique words:', len(word2idx))"
      ],
      "execution_count": 20,
      "outputs": [
        {
          "output_type": "stream",
          "name": "stdout",
          "text": [
            "Number of unique words: 10440\n"
          ]
        }
      ]
    },
    {
      "cell_type": "markdown",
      "metadata": {
        "id": "WXhJNdf9TIed"
      },
      "source": [
        "### **4. Generating training instances**\n",
        "\n",
        "\n",
        "In this section we would generate the training examples of the format shown in introduction using the keras skip-gram generator https://keras.io/preprocessing/sequence/ "
      ]
    },
    {
      "cell_type": "code",
      "metadata": {
        "id": "e3g0FLzb7ivg"
      },
      "source": [
        "from keras.preprocessing.sequence import skipgrams\n",
        "\n",
        "skip_grams = []\n",
        "\n",
        "for ids in prepareSentsAsId(normalized_corpus):\n",
        "    skip_grams.append((skipgrams(ids, vocabulary_size=VOCAB_SIZE)))"
      ],
      "execution_count": null,
      "outputs": []
    },
    {
      "cell_type": "code",
      "source": [
        "print(len(skip_grams))"
      ],
      "metadata": {
        "id": "fFU0XdzZRGOq",
        "outputId": "0cd10d8f-dd00-4d9f-8006-98f409b3949c",
        "colab": {
          "base_uri": "https://localhost:8080/"
        }
      },
      "execution_count": null,
      "outputs": [
        {
          "output_type": "stream",
          "name": "stdout",
          "text": [
            "13980\n"
          ]
        }
      ]
    },
    {
      "cell_type": "markdown",
      "metadata": {
        "id": "EDyy65QlTyf2"
      },
      "source": [
        "**Sanity Check:**\n",
        "\n",
        "To view the skip_grams for the first sentence in the training data, run the line of code that follows. The output should look like:\n",
        "\n",
        "(austen (3), sensibility (1)) -> 1\n",
        "\n",
        "(austen (3), jane (2)) -> 1\n",
        "\n",
        "(jane (2), sensibility (1)) -> 1\n",
        "\n",
        "(jane (2), walked (2639)) -> 0\n",
        "\n",
        "(jane (2), partridge (7948)) -> 0\n",
        "\n",
        "(sensibility (1), austen (3)) -> 1\n",
        "\n",
        "(sensibility (1), beneficial (5587)) -> 0\n",
        "\n",
        "(sensibility (1), jane (2)) -> 1\n",
        "\n",
        "(sensibility (1), dreamt (8308)) -> 0\n",
        "\n",
        "(austen (3), perception (6543)) -> 0\n",
        "\n",
        "(jane (2), austen (3)) -> 1\n",
        "\n",
        "(austen (3), imposing (8622)) -> 0\n"
      ]
    },
    {
      "cell_type": "code",
      "metadata": {
        "id": "Qa072PMvTvde",
        "colab": {
          "base_uri": "https://localhost:8080/"
        },
        "outputId": "90396276-efd9-47e4-ae00-b7c8d060f087"
      },
      "source": [
        "pairs, labels = skip_grams[0][0], skip_grams[0][1]\n",
        "for i in range(len(pairs)):\n",
        "         \tprint('({:s} ({:d}), {:s} ({:d})) -> {:d}'.format(\n",
        "        \t# the first word and its index\n",
        "        \tidx2word[pairs[i][0]], pairs[i][0],\n",
        "        \t# the second word and its index\n",
        "        \tidx2word[pairs[i][1]], pairs[i][1],\n",
        "        \t# the label\n",
        "        \tlabels[i]))\n"
      ],
      "execution_count": null,
      "outputs": [
        {
          "output_type": "stream",
          "name": "stdout",
          "text": [
            "(austen (3), sensibility (1)) -> 1\n",
            "(sensibility (1), jane (2)) -> 1\n",
            "(jane (2), calculations (9246)) -> 0\n",
            "(austen (3), dripping (9883)) -> 0\n",
            "(austen (3), expressed (3449)) -> 0\n",
            "(austen (3), jane (2)) -> 1\n",
            "(sensibility (1), unbleached (9141)) -> 0\n",
            "(sensibility (1), most (2509)) -> 0\n",
            "(jane (2), newness (3291)) -> 0\n",
            "(jane (2), austen (3)) -> 1\n",
            "(sensibility (1), austen (3)) -> 1\n",
            "(jane (2), sensibility (1)) -> 1\n"
          ]
        }
      ]
    },
    {
      "cell_type": "markdown",
      "metadata": {
        "id": "uMQJAolZWVLx"
      },
      "source": [
        "### **5. Building the Skip-gram Neural Network Architecture**\n",
        "\n",
        "In this section we would be building the skip-gram neural network architecture using the Keras Functional API and the Sequential model introduced in the previous lab. https://keras.io/getting-started/functional-api-guide/ "
      ]
    },
    {
      "cell_type": "code",
      "metadata": {
        "id": "fi0JmuY-Tlsp"
      },
      "source": [
        "from keras.layers import Dot, Embedding, Input\n",
        "from keras.layers.core import Dense, Reshape\n",
        "from keras.models import Model\n",
        "from keras.utils.vis_utils import plot_model"
      ],
      "execution_count": null,
      "outputs": []
    },
    {
      "cell_type": "markdown",
      "metadata": {
        "id": "22d8UIg-cBOc"
      },
      "source": [
        "The skip-gram model is two input one output feedforward neural network with one hidden layer and this will be built over a series of steps.\n",
        "\n",
        "####**A. The first step is to initialize and transform the first input using the following lines of code:**"
      ]
    },
    {
      "cell_type": "code",
      "metadata": {
        "id": "ggqykF7WUyGP"
      },
      "source": [
        "# The input is an array of target indices e.g. [2, 45, 7, 23,...9]\n",
        "target_word = Input((1,), dtype='int32')\n",
        "\n",
        "\n",
        "# feed the words into the model using the Keras <Embedding> layer. This is the hidden layer \n",
        "# from whose weights we will get the word embeddings.\n",
        "target_embedding = Embedding(VOCAB_SIZE, EMBED_SIZE, name='target_embed_layer',\n",
        "                        \tembeddings_initializer='glorot_uniform',\n",
        "                         \tinput_length=1)(target_word)\n",
        "\n",
        "\n",
        "# at this point, the input would of the shape (num_inputs x 1 x embed_size) and has to be flattened \n",
        "# or reshaped into a (num_inputs x embed_size) tensor.\n",
        "target_input = Reshape((EMBED_SIZE, ))(target_embedding)"
      ],
      "execution_count": null,
      "outputs": []
    },
    {
      "cell_type": "markdown",
      "metadata": {
        "id": "GXn_SVjHckwL"
      },
      "source": [
        "####**B. Write similar code for the ‘context_word’ input.**"
      ]
    },
    {
      "cell_type": "code",
      "metadata": {
        "id": "vkCyRztYcMsp"
      },
      "source": [
        "context_word = Input((1,), dtype=\"int32\")\n",
        "\n",
        "context_embedding = Embedding(VOCAB_SIZE, EMBED_SIZE, name=\"context_embed_layer\",\n",
        "                              embeddings_initializer=\"glorot_uniform\",\n",
        "                              input_length=1)(context_word)\n",
        "context_input = Reshape((EMBED_SIZE, ))(context_embedding)"
      ],
      "execution_count": null,
      "outputs": []
    },
    {
      "cell_type": "markdown",
      "metadata": {
        "id": "btNWVWRqdBJV"
      },
      "source": [
        "####**C. Merge the inputs.**\n",
        "\n",
        "Recall, each training instance is a (target_word, context_word) combination. Since we are trying to learn the degree of closeness between the two words, the model will compute the cosine distance between the two inputs using the <Dot> layer. https://keras.io/layers/merge/, hence fusing the two inputs into one.\n"
      ]
    },
    {
      "cell_type": "code",
      "metadata": {
        "id": "WL0_IgA0cYBx"
      },
      "source": [
        "merged_inputs = Dot(axes=-1, normalize=False)([target_input, context_input])"
      ],
      "execution_count": null,
      "outputs": []
    },
    {
      "cell_type": "markdown",
      "metadata": {
        "id": "vQEsxQ6We1Ob"
      },
      "source": [
        "####**D. The Output Layer**\n",
        "\n",
        "Pass the merged inputs (now a vector with a single number the cosine distance between the two input vectors for each word) into a sigmoid activated neuron. The output of this layer is the output of the model.\n",
        "\n",
        "**Hint**: Use the <Dense> layer ( https://keras.io/layers/core/ ), with a ‘sigmoid’ activation function."
      ]
    },
    {
      "cell_type": "code",
      "source": [
        "from keras.layers import Activation"
      ],
      "metadata": {
        "id": "Fswq8i9rg1ZX"
      },
      "execution_count": null,
      "outputs": []
    },
    {
      "cell_type": "code",
      "metadata": {
        "id": "uAUxsadqcj6Q"
      },
      "source": [
        "label = Dense(1, activation='sigmoid')(merged_inputs)"
      ],
      "execution_count": null,
      "outputs": []
    },
    {
      "cell_type": "markdown",
      "metadata": {
        "id": "yQk1Yj8wfXrF"
      },
      "source": [
        "####**E. Initialize the model:**"
      ]
    },
    {
      "cell_type": "code",
      "metadata": {
        "id": "YHRICxY7cdBB"
      },
      "source": [
        "# label is the output of step D.\n",
        "model = Model(inputs=[target_word, context_word], outputs=[label])  "
      ],
      "execution_count": null,
      "outputs": []
    },
    {
      "cell_type": "markdown",
      "metadata": {
        "id": "DdbRI0TGVZIt"
      },
      "source": [
        "####**F. Compile the model using the <model.compile> command.** Use Loss = ‘mean_squared_error’, optimizer = ‘rmsprop’."
      ]
    },
    {
      "cell_type": "code",
      "metadata": {
        "id": "5LtWvavefueu"
      },
      "source": [
        "model.compile(loss='mean_squared_error', optimizer='rmsprop')"
      ],
      "execution_count": null,
      "outputs": []
    },
    {
      "cell_type": "markdown",
      "metadata": {
        "id": "GC7IShG_fczC"
      },
      "source": [
        "**Sanity check:**\n",
        "\n",
        "Visualize the model and the model summary by running the following lines of code. \n",
        "view the model summary"
      ]
    },
    {
      "cell_type": "code",
      "metadata": {
        "colab": {
          "base_uri": "https://localhost:8080/"
        },
        "id": "e0ki6JDkgJNA",
        "outputId": "9118d1ea-cfb9-418a-e43d-5456471062fb"
      },
      "source": [
        "model.summary()"
      ],
      "execution_count": null,
      "outputs": [
        {
          "output_type": "stream",
          "name": "stdout",
          "text": [
            "Model: \"model_3\"\n",
            "__________________________________________________________________________________________________\n",
            " Layer (type)                   Output Shape         Param #     Connected to                     \n",
            "==================================================================================================\n",
            " input_4 (InputLayer)           [(None, 1)]          0           []                               \n",
            "                                                                                                  \n",
            " input_5 (InputLayer)           [(None, 1)]          0           []                               \n",
            "                                                                                                  \n",
            " target_embed_layer (Embedding)  (None, 1, 100)      1044000     ['input_4[0][0]']                \n",
            "                                                                                                  \n",
            " context_embed_layer (Embedding  (None, 1, 100)      1044000     ['input_5[0][0]']                \n",
            " )                                                                                                \n",
            "                                                                                                  \n",
            " reshape_3 (Reshape)            (None, 100)          0           ['target_embed_layer[0][0]']     \n",
            "                                                                                                  \n",
            " reshape_4 (Reshape)            (None, 100)          0           ['context_embed_layer[0][0]']    \n",
            "                                                                                                  \n",
            " dot_1 (Dot)                    (None, 1)            0           ['reshape_3[0][0]',              \n",
            "                                                                  'reshape_4[0][0]']              \n",
            "                                                                                                  \n",
            " dense_1 (Dense)                (None, 1)            2           ['dot_1[0][0]']                  \n",
            "                                                                                                  \n",
            "==================================================================================================\n",
            "Total params: 2,088,002\n",
            "Trainable params: 2,088,002\n",
            "Non-trainable params: 0\n",
            "__________________________________________________________________________________________________\n"
          ]
        }
      ]
    },
    {
      "cell_type": "markdown",
      "metadata": {
        "id": "3VVPnyFhgVr9"
      },
      "source": [
        "####**G. Plot the model using ```vis utils```.**"
      ]
    },
    {
      "cell_type": "code",
      "metadata": {
        "colab": {
          "base_uri": "https://localhost:8080/",
          "height": 666
        },
        "id": "vvfO-ensggr4",
        "outputId": "ee3a27aa-70d9-4e3e-f60f-ce537ac4ac81"
      },
      "source": [
        "from IPython.display import SVG\n",
        "from keras.utils import vis_utils\n",
        "SVG(vis_utils.model_to_dot(model, show_shapes=True, show_layer_names=True, dpi=90).create(prog='dot', format='svg'))  \n"
      ],
      "execution_count": null,
      "outputs": [
        {
          "output_type": "execute_result",
          "data": {
            "text/plain": [
              "<IPython.core.display.SVG object>"
            ],
            "image/svg+xml": "<svg xmlns=\"http://www.w3.org/2000/svg\" xmlns:xlink=\"http://www.w3.org/1999/xlink\" width=\"737pt\" height=\"484pt\" viewBox=\"0.00 0.00 589.50 387.00\">\n<g id=\"graph0\" class=\"graph\" transform=\"scale(0.8 0.8) rotate(0) translate(4 383)\">\n<title>G</title>\n<polygon fill=\"white\" stroke=\"transparent\" points=\"-4,4 -4,-383 585.5,-383 585.5,4 -4,4\"/>\n<!-- 139783226672128 -->\n<g id=\"node1\" class=\"node\">\n<title>139783226672128</title>\n<polygon fill=\"none\" stroke=\"black\" points=\"33.5,-332.5 33.5,-378.5 243.5,-378.5 243.5,-332.5 33.5,-332.5\"/>\n<text text-anchor=\"middle\" x=\"72\" y=\"-363.3\" font-family=\"Times,serif\" font-size=\"14.00\">input_4</text>\n<polyline fill=\"none\" stroke=\"black\" points=\"33.5,-355.5 110.5,-355.5 \"/>\n<text text-anchor=\"middle\" x=\"72\" y=\"-340.3\" font-family=\"Times,serif\" font-size=\"14.00\">InputLayer</text>\n<polyline fill=\"none\" stroke=\"black\" points=\"110.5,-332.5 110.5,-378.5 \"/>\n<text text-anchor=\"middle\" x=\"138\" y=\"-363.3\" font-family=\"Times,serif\" font-size=\"14.00\">input:</text>\n<polyline fill=\"none\" stroke=\"black\" points=\"110.5,-355.5 165.5,-355.5 \"/>\n<text text-anchor=\"middle\" x=\"138\" y=\"-340.3\" font-family=\"Times,serif\" font-size=\"14.00\">output:</text>\n<polyline fill=\"none\" stroke=\"black\" points=\"165.5,-332.5 165.5,-378.5 \"/>\n<text text-anchor=\"middle\" x=\"204.5\" y=\"-363.3\" font-family=\"Times,serif\" font-size=\"14.00\">[(None, 1)]</text>\n<polyline fill=\"none\" stroke=\"black\" points=\"165.5,-355.5 243.5,-355.5 \"/>\n<text text-anchor=\"middle\" x=\"204.5\" y=\"-340.3\" font-family=\"Times,serif\" font-size=\"14.00\">[(None, 1)]</text>\n</g>\n<!-- 139783226673280 -->\n<g id=\"node3\" class=\"node\">\n<title>139783226673280</title>\n<polygon fill=\"none\" stroke=\"black\" points=\"0,-249.5 0,-295.5 277,-295.5 277,-249.5 0,-249.5\"/>\n<text text-anchor=\"middle\" x=\"62.5\" y=\"-280.3\" font-family=\"Times,serif\" font-size=\"14.00\">target_embed_layer</text>\n<polyline fill=\"none\" stroke=\"black\" points=\"0,-272.5 125,-272.5 \"/>\n<text text-anchor=\"middle\" x=\"62.5\" y=\"-257.3\" font-family=\"Times,serif\" font-size=\"14.00\">Embedding</text>\n<polyline fill=\"none\" stroke=\"black\" points=\"125,-249.5 125,-295.5 \"/>\n<text text-anchor=\"middle\" x=\"152.5\" y=\"-280.3\" font-family=\"Times,serif\" font-size=\"14.00\">input:</text>\n<polyline fill=\"none\" stroke=\"black\" points=\"125,-272.5 180,-272.5 \"/>\n<text text-anchor=\"middle\" x=\"152.5\" y=\"-257.3\" font-family=\"Times,serif\" font-size=\"14.00\">output:</text>\n<polyline fill=\"none\" stroke=\"black\" points=\"180,-249.5 180,-295.5 \"/>\n<text text-anchor=\"middle\" x=\"228.5\" y=\"-280.3\" font-family=\"Times,serif\" font-size=\"14.00\">(None, 1)</text>\n<polyline fill=\"none\" stroke=\"black\" points=\"180,-272.5 277,-272.5 \"/>\n<text text-anchor=\"middle\" x=\"228.5\" y=\"-257.3\" font-family=\"Times,serif\" font-size=\"14.00\">(None, 1, 100)</text>\n</g>\n<!-- 139783226672128&#45;&gt;139783226673280 -->\n<g id=\"edge1\" class=\"edge\">\n<title>139783226672128-&gt;139783226673280</title>\n<path fill=\"none\" stroke=\"black\" d=\"M138.5,-332.37C138.5,-324.15 138.5,-314.66 138.5,-305.73\"/>\n<polygon fill=\"black\" stroke=\"black\" points=\"142,-305.61 138.5,-295.61 135,-305.61 142,-305.61\"/>\n</g>\n<!-- 139783226678480 -->\n<g id=\"node2\" class=\"node\">\n<title>139783226678480</title>\n<polygon fill=\"none\" stroke=\"black\" points=\"333.5,-332.5 333.5,-378.5 543.5,-378.5 543.5,-332.5 333.5,-332.5\"/>\n<text text-anchor=\"middle\" x=\"372\" y=\"-363.3\" font-family=\"Times,serif\" font-size=\"14.00\">input_5</text>\n<polyline fill=\"none\" stroke=\"black\" points=\"333.5,-355.5 410.5,-355.5 \"/>\n<text text-anchor=\"middle\" x=\"372\" y=\"-340.3\" font-family=\"Times,serif\" font-size=\"14.00\">InputLayer</text>\n<polyline fill=\"none\" stroke=\"black\" points=\"410.5,-332.5 410.5,-378.5 \"/>\n<text text-anchor=\"middle\" x=\"438\" y=\"-363.3\" font-family=\"Times,serif\" font-size=\"14.00\">input:</text>\n<polyline fill=\"none\" stroke=\"black\" points=\"410.5,-355.5 465.5,-355.5 \"/>\n<text text-anchor=\"middle\" x=\"438\" y=\"-340.3\" font-family=\"Times,serif\" font-size=\"14.00\">output:</text>\n<polyline fill=\"none\" stroke=\"black\" points=\"465.5,-332.5 465.5,-378.5 \"/>\n<text text-anchor=\"middle\" x=\"504.5\" y=\"-363.3\" font-family=\"Times,serif\" font-size=\"14.00\">[(None, 1)]</text>\n<polyline fill=\"none\" stroke=\"black\" points=\"465.5,-355.5 543.5,-355.5 \"/>\n<text text-anchor=\"middle\" x=\"504.5\" y=\"-340.3\" font-family=\"Times,serif\" font-size=\"14.00\">[(None, 1)]</text>\n</g>\n<!-- 139784864032080 -->\n<g id=\"node4\" class=\"node\">\n<title>139784864032080</title>\n<polygon fill=\"none\" stroke=\"black\" points=\"295.5,-249.5 295.5,-295.5 581.5,-295.5 581.5,-249.5 295.5,-249.5\"/>\n<text text-anchor=\"middle\" x=\"362.5\" y=\"-280.3\" font-family=\"Times,serif\" font-size=\"14.00\">context_embed_layer</text>\n<polyline fill=\"none\" stroke=\"black\" points=\"295.5,-272.5 429.5,-272.5 \"/>\n<text text-anchor=\"middle\" x=\"362.5\" y=\"-257.3\" font-family=\"Times,serif\" font-size=\"14.00\">Embedding</text>\n<polyline fill=\"none\" stroke=\"black\" points=\"429.5,-249.5 429.5,-295.5 \"/>\n<text text-anchor=\"middle\" x=\"457\" y=\"-280.3\" font-family=\"Times,serif\" font-size=\"14.00\">input:</text>\n<polyline fill=\"none\" stroke=\"black\" points=\"429.5,-272.5 484.5,-272.5 \"/>\n<text text-anchor=\"middle\" x=\"457\" y=\"-257.3\" font-family=\"Times,serif\" font-size=\"14.00\">output:</text>\n<polyline fill=\"none\" stroke=\"black\" points=\"484.5,-249.5 484.5,-295.5 \"/>\n<text text-anchor=\"middle\" x=\"533\" y=\"-280.3\" font-family=\"Times,serif\" font-size=\"14.00\">(None, 1)</text>\n<polyline fill=\"none\" stroke=\"black\" points=\"484.5,-272.5 581.5,-272.5 \"/>\n<text text-anchor=\"middle\" x=\"533\" y=\"-257.3\" font-family=\"Times,serif\" font-size=\"14.00\">(None, 1, 100)</text>\n</g>\n<!-- 139783226678480&#45;&gt;139784864032080 -->\n<g id=\"edge2\" class=\"edge\">\n<title>139783226678480-&gt;139784864032080</title>\n<path fill=\"none\" stroke=\"black\" d=\"M438.5,-332.37C438.5,-324.15 438.5,-314.66 438.5,-305.73\"/>\n<polygon fill=\"black\" stroke=\"black\" points=\"442,-305.61 438.5,-295.61 435,-305.61 442,-305.61\"/>\n</g>\n<!-- 139784864328864 -->\n<g id=\"node5\" class=\"node\">\n<title>139784864328864</title>\n<polygon fill=\"none\" stroke=\"black\" points=\"56,-166.5 56,-212.5 279,-212.5 279,-166.5 56,-166.5\"/>\n<text text-anchor=\"middle\" x=\"91.5\" y=\"-197.3\" font-family=\"Times,serif\" font-size=\"14.00\">reshape_3</text>\n<polyline fill=\"none\" stroke=\"black\" points=\"56,-189.5 127,-189.5 \"/>\n<text text-anchor=\"middle\" x=\"91.5\" y=\"-174.3\" font-family=\"Times,serif\" font-size=\"14.00\">Reshape</text>\n<polyline fill=\"none\" stroke=\"black\" points=\"127,-166.5 127,-212.5 \"/>\n<text text-anchor=\"middle\" x=\"154.5\" y=\"-197.3\" font-family=\"Times,serif\" font-size=\"14.00\">input:</text>\n<polyline fill=\"none\" stroke=\"black\" points=\"127,-189.5 182,-189.5 \"/>\n<text text-anchor=\"middle\" x=\"154.5\" y=\"-174.3\" font-family=\"Times,serif\" font-size=\"14.00\">output:</text>\n<polyline fill=\"none\" stroke=\"black\" points=\"182,-166.5 182,-212.5 \"/>\n<text text-anchor=\"middle\" x=\"230.5\" y=\"-197.3\" font-family=\"Times,serif\" font-size=\"14.00\">(None, 1, 100)</text>\n<polyline fill=\"none\" stroke=\"black\" points=\"182,-189.5 279,-189.5 \"/>\n<text text-anchor=\"middle\" x=\"230.5\" y=\"-174.3\" font-family=\"Times,serif\" font-size=\"14.00\">(None, 100)</text>\n</g>\n<!-- 139783226673280&#45;&gt;139784864328864 -->\n<g id=\"edge3\" class=\"edge\">\n<title>139783226673280-&gt;139784864328864</title>\n<path fill=\"none\" stroke=\"black\" d=\"M146.42,-249.37C149.43,-240.97 152.91,-231.24 156.17,-222.14\"/>\n<polygon fill=\"black\" stroke=\"black\" points=\"159.51,-223.2 159.59,-212.61 152.92,-220.84 159.51,-223.2\"/>\n</g>\n<!-- 139784864031504 -->\n<g id=\"node6\" class=\"node\">\n<title>139784864031504</title>\n<polygon fill=\"none\" stroke=\"black\" points=\"312,-166.5 312,-212.5 535,-212.5 535,-166.5 312,-166.5\"/>\n<text text-anchor=\"middle\" x=\"347.5\" y=\"-197.3\" font-family=\"Times,serif\" font-size=\"14.00\">reshape_4</text>\n<polyline fill=\"none\" stroke=\"black\" points=\"312,-189.5 383,-189.5 \"/>\n<text text-anchor=\"middle\" x=\"347.5\" y=\"-174.3\" font-family=\"Times,serif\" font-size=\"14.00\">Reshape</text>\n<polyline fill=\"none\" stroke=\"black\" points=\"383,-166.5 383,-212.5 \"/>\n<text text-anchor=\"middle\" x=\"410.5\" y=\"-197.3\" font-family=\"Times,serif\" font-size=\"14.00\">input:</text>\n<polyline fill=\"none\" stroke=\"black\" points=\"383,-189.5 438,-189.5 \"/>\n<text text-anchor=\"middle\" x=\"410.5\" y=\"-174.3\" font-family=\"Times,serif\" font-size=\"14.00\">output:</text>\n<polyline fill=\"none\" stroke=\"black\" points=\"438,-166.5 438,-212.5 \"/>\n<text text-anchor=\"middle\" x=\"486.5\" y=\"-197.3\" font-family=\"Times,serif\" font-size=\"14.00\">(None, 1, 100)</text>\n<polyline fill=\"none\" stroke=\"black\" points=\"438,-189.5 535,-189.5 \"/>\n<text text-anchor=\"middle\" x=\"486.5\" y=\"-174.3\" font-family=\"Times,serif\" font-size=\"14.00\">(None, 100)</text>\n</g>\n<!-- 139784864032080&#45;&gt;139784864031504 -->\n<g id=\"edge4\" class=\"edge\">\n<title>139784864032080-&gt;139784864031504</title>\n<path fill=\"none\" stroke=\"black\" d=\"M434.4,-249.37C432.88,-241.15 431.12,-231.66 429.47,-222.73\"/>\n<polygon fill=\"black\" stroke=\"black\" points=\"432.86,-221.8 427.59,-212.61 425.97,-223.08 432.86,-221.8\"/>\n</g>\n<!-- 139784815147952 -->\n<g id=\"node7\" class=\"node\">\n<title>139784815147952</title>\n<polygon fill=\"none\" stroke=\"black\" points=\"154,-83.5 154,-129.5 421,-129.5 421,-83.5 154,-83.5\"/>\n<text text-anchor=\"middle\" x=\"177.5\" y=\"-114.3\" font-family=\"Times,serif\" font-size=\"14.00\">dot_1</text>\n<polyline fill=\"none\" stroke=\"black\" points=\"154,-106.5 201,-106.5 \"/>\n<text text-anchor=\"middle\" x=\"177.5\" y=\"-91.3\" font-family=\"Times,serif\" font-size=\"14.00\">Dot</text>\n<polyline fill=\"none\" stroke=\"black\" points=\"201,-83.5 201,-129.5 \"/>\n<text text-anchor=\"middle\" x=\"228.5\" y=\"-114.3\" font-family=\"Times,serif\" font-size=\"14.00\">input:</text>\n<polyline fill=\"none\" stroke=\"black\" points=\"201,-106.5 256,-106.5 \"/>\n<text text-anchor=\"middle\" x=\"228.5\" y=\"-91.3\" font-family=\"Times,serif\" font-size=\"14.00\">output:</text>\n<polyline fill=\"none\" stroke=\"black\" points=\"256,-83.5 256,-129.5 \"/>\n<text text-anchor=\"middle\" x=\"338.5\" y=\"-114.3\" font-family=\"Times,serif\" font-size=\"14.00\">[(None, 100), (None, 100)]</text>\n<polyline fill=\"none\" stroke=\"black\" points=\"256,-106.5 421,-106.5 \"/>\n<text text-anchor=\"middle\" x=\"338.5\" y=\"-91.3\" font-family=\"Times,serif\" font-size=\"14.00\">(None, 1)</text>\n</g>\n<!-- 139784864328864&#45;&gt;139784815147952 -->\n<g id=\"edge5\" class=\"edge\">\n<title>139784864328864-&gt;139784815147952</title>\n<path fill=\"none\" stroke=\"black\" d=\"M200.29,-166.37C214.44,-156.81 231.16,-145.53 246.15,-135.41\"/>\n<polygon fill=\"black\" stroke=\"black\" points=\"248.42,-138.1 254.75,-129.61 244.5,-132.3 248.42,-138.1\"/>\n</g>\n<!-- 139784864031504&#45;&gt;139784815147952 -->\n<g id=\"edge6\" class=\"edge\">\n<title>139784864031504-&gt;139784815147952</title>\n<path fill=\"none\" stroke=\"black\" d=\"M386.34,-166.37C370,-156.63 350.64,-145.11 333.41,-134.84\"/>\n<polygon fill=\"black\" stroke=\"black\" points=\"335,-131.72 324.62,-129.61 331.42,-137.73 335,-131.72\"/>\n</g>\n<!-- 139782197021424 -->\n<g id=\"node8\" class=\"node\">\n<title>139782197021424</title>\n<polygon fill=\"none\" stroke=\"black\" points=\"195,-0.5 195,-46.5 380,-46.5 380,-0.5 195,-0.5\"/>\n<text text-anchor=\"middle\" x=\"225.5\" y=\"-31.3\" font-family=\"Times,serif\" font-size=\"14.00\">dense_1</text>\n<polyline fill=\"none\" stroke=\"black\" points=\"195,-23.5 256,-23.5 \"/>\n<text text-anchor=\"middle\" x=\"225.5\" y=\"-8.3\" font-family=\"Times,serif\" font-size=\"14.00\">Dense</text>\n<polyline fill=\"none\" stroke=\"black\" points=\"256,-0.5 256,-46.5 \"/>\n<text text-anchor=\"middle\" x=\"283.5\" y=\"-31.3\" font-family=\"Times,serif\" font-size=\"14.00\">input:</text>\n<polyline fill=\"none\" stroke=\"black\" points=\"256,-23.5 311,-23.5 \"/>\n<text text-anchor=\"middle\" x=\"283.5\" y=\"-8.3\" font-family=\"Times,serif\" font-size=\"14.00\">output:</text>\n<polyline fill=\"none\" stroke=\"black\" points=\"311,-0.5 311,-46.5 \"/>\n<text text-anchor=\"middle\" x=\"345.5\" y=\"-31.3\" font-family=\"Times,serif\" font-size=\"14.00\">(None, 1)</text>\n<polyline fill=\"none\" stroke=\"black\" points=\"311,-23.5 380,-23.5 \"/>\n<text text-anchor=\"middle\" x=\"345.5\" y=\"-8.3\" font-family=\"Times,serif\" font-size=\"14.00\">(None, 1)</text>\n</g>\n<!-- 139784815147952&#45;&gt;139782197021424 -->\n<g id=\"edge7\" class=\"edge\">\n<title>139784815147952-&gt;139782197021424</title>\n<path fill=\"none\" stroke=\"black\" d=\"M287.5,-83.37C287.5,-75.15 287.5,-65.66 287.5,-56.73\"/>\n<polygon fill=\"black\" stroke=\"black\" points=\"291,-56.61 287.5,-46.61 284,-56.61 291,-56.61\"/>\n</g>\n</g>\n</svg>"
          },
          "metadata": {},
          "execution_count": 140
        }
      ]
    },
    {
      "cell_type": "markdown",
      "metadata": {
        "id": "zbOcZD6igpxy"
      },
      "source": [
        "###**6.Training the Model**\n",
        "\n",
        "Run the following block of code to train the model for 5 epochs:"
      ]
    },
    {
      "cell_type": "code",
      "metadata": {
        "colab": {
          "base_uri": "https://localhost:8080/"
        },
        "id": "RmQN4r52gmLR",
        "outputId": "a4acb8cb-e93e-48cc-b9d6-9166d8a9be1e"
      },
      "source": [
        "import numpy as np\n",
        "\n",
        "NUM_EPOCHS = 5\n",
        "\n",
        "for epoch in range(1, NUM_EPOCHS+1):\n",
        "    epoch_loss = 0\n",
        "    for i, sent_examples in enumerate(skip_grams):\n",
        "        target_wds = np.array([pair[0] for pair in sent_examples[0]], dtype='int32')\n",
        "        context_wds = np.array([pair[1] for pair in sent_examples[0]], dtype='int32')\n",
        "        labels = np.array(sent_examples[1], dtype='int32')\n",
        "        X = [target_wds, context_wds]\n",
        "        Y = labels\n",
        "        if i % 5000 == 0: \n",
        "        \tprint('Processed %d sentences' %i)\n",
        "        epoch_loss += model.train_on_batch(X, Y)\n",
        "    print('Processed all %d sentences' %i)\n",
        "    print('Epoch:', epoch, 'Loss:', epoch_loss, '\\n')\n",
        "\n"
      ],
      "execution_count": null,
      "outputs": [
        {
          "output_type": "stream",
          "name": "stdout",
          "text": [
            "Processed 0 sentences\n",
            "Processed 5000 sentences\n",
            "Processed 10000 sentences\n",
            "Processed all 13979 sentences\n",
            "Epoch: 1 Loss: 1927.5947744778823 \n",
            "\n",
            "Processed 0 sentences\n",
            "Processed 5000 sentences\n",
            "Processed 10000 sentences\n",
            "Processed all 13979 sentences\n",
            "Epoch: 2 Loss: 1660.9905050978996 \n",
            "\n",
            "Processed 0 sentences\n",
            "Processed 5000 sentences\n",
            "Processed 10000 sentences\n",
            "Processed all 13979 sentences\n",
            "Epoch: 3 Loss: 1654.811497005634 \n",
            "\n",
            "Processed 0 sentences\n",
            "Processed 5000 sentences\n",
            "Processed 10000 sentences\n",
            "Processed all 13979 sentences\n",
            "Epoch: 4 Loss: 1649.7303745863028 \n",
            "\n",
            "Processed 0 sentences\n",
            "Processed 5000 sentences\n",
            "Processed 10000 sentences\n",
            "Processed all 13979 sentences\n",
            "Epoch: 5 Loss: 1644.048635520041 \n",
            "\n"
          ]
        }
      ]
    },
    {
      "cell_type": "markdown",
      "metadata": {
        "id": "Sj6BiOKfiI7R"
      },
      "source": [
        "The training takes about 10 minutes to run.\n",
        "\n",
        "<br>\n",
        "\n",
        "In the introduction, we outlined two approaches to training using the skipgram architecture. In this tutorial, we implemented the negative sampling training approach. While waiting for the training to complete, read this article http://mccormickml.com/2016/04/19/word2vec-tutorial-the-skip-gram-model/. It contains the skipgram model with softmax training. \n",
        "\n",
        "<br>\n",
        "\n",
        "After reading the article, answer the following questions:  \n",
        "●\tWhat would the inputs and outputs to the model be?\n",
        "\n",
        "●\tHow would you use the Keras framework to create this architecture?\n",
        "\n",
        "●\tWhat are the reasons this training approach is \n",
        "considered inefficient?\n"
      ]
    },
    {
      "cell_type": "markdown",
      "metadata": {
        "id": "Bwz_8kTZ6UVF"
      },
      "source": [
        "###**7. Getting the Word Embeddings**\n",
        "\n",
        "The word embeddings are the weights of the target word embedding layer.\n"
      ]
    },
    {
      "cell_type": "code",
      "metadata": {
        "colab": {
          "base_uri": "https://localhost:8080/"
        },
        "id": "kiQTO6VgcN90",
        "outputId": "f102d7b0-c81b-4b2a-a1ab-98c84528704b"
      },
      "source": [
        "word_embeddings = model.get_layer('target_embed_layer').get_weights()[0] \n",
        "\n",
        "# should return (VOCAB_SIZE, EMBED_SIZE)\n",
        "print(word_embeddings.shape)"
      ],
      "execution_count": null,
      "outputs": [
        {
          "output_type": "stream",
          "name": "stdout",
          "text": [
            "(10440, 100)\n"
          ]
        }
      ]
    },
    {
      "cell_type": "markdown",
      "metadata": {
        "id": "33-QRJFv6v5t"
      },
      "source": [
        "Print out a few words and their embeddings using the next block of code. Your output may not be exactly as above but the command should print 10 words and their respective vectors."
      ]
    },
    {
      "cell_type": "code",
      "metadata": {
        "colab": {
          "base_uri": "https://localhost:8080/"
        },
        "id": "HffZwwLUcXb1",
        "outputId": "b146aaad-a494-4ca9-901d-94039da8ec52"
      },
      "source": [
        "from pandas import DataFrame\n",
        "\n",
        "print(DataFrame(word_embeddings, index=idx2word.values()).head(10))"
      ],
      "execution_count": null,
      "outputs": [
        {
          "output_type": "stream",
          "name": "stdout",
          "text": [
            "                   0         1         2         3         4         5   \\\n",
            "sense        0.016047  0.014690  0.016503  0.010987  0.011362 -0.020890   \n",
            "sensibility -0.140896 -0.133592  0.107071 -0.099565 -0.120377 -0.103842   \n",
            "jane        -0.213138 -0.225823  0.194053 -0.166150 -0.227941 -0.138958   \n",
            "austen      -0.028927 -0.043373  0.056335 -0.058102 -0.026653 -0.041078   \n",
            "the         -0.641893 -0.090696  0.457581  0.159259 -0.545383 -0.361447   \n",
            "family      -0.184115 -0.190836  0.201080 -0.125382 -0.279428 -0.175671   \n",
            "dashwood    -0.141985 -0.225595  0.098528 -0.136803 -0.164301 -0.191554   \n",
            "long        -0.169464 -0.115236  0.195558 -0.126979 -0.152403 -0.177342   \n",
            "settled     -0.236360 -0.257188  0.198805 -0.178063 -0.214890 -0.160158   \n",
            "sussex      -0.110648 -0.142512  0.164495 -0.191014 -0.156296 -0.147710   \n",
            "\n",
            "                   6         7         8         9   ...        90        91  \\\n",
            "sense       -0.010560  0.007247 -0.007470 -0.006780  ...  0.014716 -0.013449   \n",
            "sensibility  0.085384  0.081943 -0.096340 -0.109439  ...  0.055060  0.117037   \n",
            "jane         0.179120  0.153220 -0.236501 -0.176887  ...  0.057286  0.131589   \n",
            "austen       0.031523  0.039181 -0.045048 -0.013732  ...  0.035301  0.049229   \n",
            "the          0.414257  0.332710 -0.426362 -0.247269  ...  0.179390 -0.503909   \n",
            "family       0.160348  0.186801 -0.173392 -0.196015  ...  0.116214  0.079545   \n",
            "dashwood     0.181681  0.211359 -0.060327 -0.130443  ...  0.285555  0.151863   \n",
            "long         0.187724  0.168294 -0.098306 -0.117633  ...  0.164690  0.082470   \n",
            "settled      0.223872  0.213125 -0.175979 -0.229316  ...  0.098203  0.134990   \n",
            "sussex       0.121387  0.160048 -0.123185 -0.144289  ...  0.093185  0.179277   \n",
            "\n",
            "                   92        93        94        95        96        97  \\\n",
            "sense        0.014812  0.001111 -0.017351 -0.009939 -0.011567  0.008204   \n",
            "sensibility -0.129761 -0.125416 -0.116030  0.140987 -0.092856 -0.090036   \n",
            "jane        -0.148181 -0.143817 -0.241544  0.152842 -0.224341 -0.153611   \n",
            "austen      -0.031245 -0.028356 -0.022130  0.051963 -0.020786 -0.017656   \n",
            "the          0.269666  0.183207 -0.408102  0.867664 -0.696350 -0.253644   \n",
            "family      -0.163047 -0.081696 -0.027453  0.208760 -0.229572 -0.165674   \n",
            "dashwood    -0.154893 -0.151730 -0.036688  0.191504 -0.126559 -0.105545   \n",
            "long        -0.119574 -0.178079 -0.140766  0.119513 -0.156583 -0.150298   \n",
            "settled     -0.240532 -0.149252 -0.128878  0.212040 -0.221434 -0.107139   \n",
            "sussex      -0.169096 -0.155256 -0.121913  0.162647 -0.141498 -0.097732   \n",
            "\n",
            "                   98        99  \n",
            "sense        0.019675 -0.009141  \n",
            "sensibility  0.071409  0.116764  \n",
            "jane         0.126597  0.200396  \n",
            "austen       0.046212  0.026770  \n",
            "the         -0.620534  0.455420  \n",
            "family       0.098811  0.211729  \n",
            "dashwood     0.198854  0.195960  \n",
            "long         0.114547  0.134660  \n",
            "settled      0.165772  0.161114  \n",
            "sussex       0.156565  0.140503  \n",
            "\n",
            "[10 rows x 100 columns]\n"
          ]
        }
      ]
    },
    {
      "cell_type": "markdown",
      "metadata": {
        "id": "-Ki8NtrS7ezr"
      },
      "source": [
        "###**8.  Measuring Similarity Between Word Pairs**\n",
        "\n"
      ]
    },
    {
      "cell_type": "code",
      "metadata": {
        "id": "dbb-uoe666oV",
        "outputId": "b911578d-89e6-4222-cb54-5e9c1ef55c4e",
        "colab": {
          "base_uri": "https://localhost:8080/"
        }
      },
      "source": [
        "from sklearn.metrics.pairwise import cosine_similarity\n",
        "\n",
        "similarity_matrix = cosine_similarity(word_embeddings)\n",
        "\n",
        "# should print(VOCAB_SIZE, VOCAB_SIZE)\n",
        "print(similarity_matrix.shape)   "
      ],
      "execution_count": null,
      "outputs": [
        {
          "output_type": "stream",
          "name": "stdout",
          "text": [
            "(10440, 10440)\n"
          ]
        }
      ]
    },
    {
      "cell_type": "markdown",
      "metadata": {
        "id": "k0fyfgvB90G5"
      },
      "source": [
        "###**9. Exploring and Visualizing your Word Embeddings using t-SNE**\n",
        "\n",
        "**A.\tGet the most similar words to the search items in the list below**\n",
        "\n",
        "search_terms = ['family', 'love', 'equality', 'wisdom', 'justice',  'humour', 'rejection']\n",
        "\n",
        "\n",
        "**Sanity check:**\n",
        "The similar words obtained would depend on your training but the above command should print a dictionary. Each key is a search term and each value is a list of the 5 words the model predicts to be most similar to the key word. \n"
      ]
    },
    {
      "cell_type": "code",
      "metadata": {
        "colab": {
          "base_uri": "https://localhost:8080/"
        },
        "id": "hWbSfqYschRs",
        "outputId": "d6c90c68-26a2-46d6-ea5f-4db44dc8afb8"
      },
      "source": [
        "search_terms = ['sense','think', 'thought', 'mr', 'friend', 'love', 'disdain']\n",
        "search_terms = ['family', 'love', 'equality', 'wisdom', 'justice',  'humour', 'rejection']\n",
        "similar_words = {}\n",
        "\n",
        "for term in search_terms:\n",
        "    similarity_column = word2idx[term]\n",
        "    # get the top five most related, but leave out the most as it will be itself\n",
        "    most_similar_idx = np.argsort(similarity_matrix[similarity_column])[-6:-1][::-1]\n",
        "    similar_words[term] = [idx2word[t] for t in most_similar_idx]\n",
        "\n",
        "print(similar_words)"
      ],
      "execution_count": null,
      "outputs": [
        {
          "output_type": "stream",
          "name": "stdout",
          "text": [
            "{'family': ['received', 'conversation', 'gentleman', 'louisa', 'state'], 'love': ['go', 'saying', 'feel', 'pardon', 'hughes'], 'equality': ['distance', 'exclaiming', 'odd', 'probable', 'implied'], 'wisdom': ['soften', 'naval', 'mill', 'suspect', 'nobody'], 'justice': ['undoubtedly', 'anywhere', 'months', 'collected', 'papa'], 'humour': ['certainty', 'rendered', 'frightened', 'niece', 'induced'], 'rejection': ['ribbons', 'forgot', 'bide', 'consulting', 'romance']}\n"
          ]
        }
      ]
    },
    {
      "cell_type": "markdown",
      "metadata": {
        "id": "WlZejKF_Fauf"
      },
      "source": [
        "###**9. Exploring and Visualizing your Word Embeddings using t-SNE**\n",
        "\n",
        "**A.\tGet the most similar words to the search items in the list below**\n",
        "\n",
        "search_terms = ['family', 'love', 'equality', 'wisdom', 'justice',  'humour', 'rejection']\n",
        "\n",
        "\n",
        "**Sanity check:**\n",
        "The similar words obtained would depend on your training but the above command should print a dictionary. Each key is a search term and each value is a list of the 5 words the model predicts to be most similar to the key word. \n"
      ]
    },
    {
      "cell_type": "markdown",
      "metadata": {
        "id": "YhB32HaUFaA9"
      },
      "source": [
        "###**9. Exploring and Visualizing your Word Embeddings using t-SNE**\n",
        "\n",
        "**A.\tGet the most similar words to the search items in the list below**\n",
        "\n",
        "search_terms = ['family', 'love', 'equality', 'wisdom', 'justice',  'humour', 'rejection']\n",
        "\n",
        "\n",
        "**Sanity check:**\n",
        "The similar words obtained would depend on your training but the above command should print a dictionary. Each key is a search term and each value is a list of the 5 words the model predicts to be most similar to the key word. \n"
      ]
    },
    {
      "cell_type": "markdown",
      "metadata": {
        "id": "5I_X9W-vGXiZ"
      },
      "source": [
        "**B. Plot the words in the dictionary above using t-SN**E \n",
        "\n",
        "1.   List item\n",
        "\n",
        "1.   List item\n",
        "2.   List item\n",
        "\n",
        "\n",
        "2.   List item\n",
        "\n",
        "https://lvdmaaten.github.io/tsne/ \n",
        "\n",
        "Plot 50 of the word embeddings using the code snippets below:\n",
        "\n",
        "\n",
        "\n",
        "\n",
        "\n",
        "\n",
        "\n",
        "\n",
        "\n",
        "\n",
        "\n",
        "\n"
      ]
    },
    {
      "cell_type": "code",
      "metadata": {
        "colab": {
          "base_uri": "https://localhost:8080/",
          "height": 483
        },
        "id": "FMnyCjS4cnb8",
        "outputId": "524b8b01-5373-4a74-ef86-9ab1b4175600"
      },
      "source": [
        "from sklearn.manifold import TSNE\n",
        "import matplotlib.pyplot as plt\n",
        "\n",
        "tsne = TSNE(perplexity=3, n_components=2, init='pca', n_iter=5000, method='exact')\n",
        "np.set_printoptions(suppress=True)\n",
        "plot_only = 50 \n",
        "\n",
        "T = tsne.fit_transform(word_embeddings[:plot_only, :])\n",
        "labels = [idx2word[i+1] for i in range(plot_only)]\n",
        "plt.figure(figsize=(14, 8))\n",
        "plt.scatter(T[:, 0], T[:, 1])\n",
        "for label, x, y in zip(labels, T[:, 0], T[:, 1]):\n",
        "    plt.annotate(label, xy=(x+1, y+1), xytext=(0, 0), textcoords='offset points', ha='right', va='bottom')                      \t                        \n",
        "\n"
      ],
      "execution_count": null,
      "outputs": [
        {
          "output_type": "display_data",
          "data": {
            "text/plain": [
              "<Figure size 1008x576 with 1 Axes>"
            ],
            "image/png": "[encoded data removed]"
          },
          "metadata": {
            "needs_background": "light"
          }
        }
      ]
    },
    {
      "cell_type": "markdown",
      "metadata": {
        "id": "OsCVTRUMP1qi"
      },
      "source": [
        "**10. Resources used**\n",
        "\n",
        "http://jalammar.github.io/illustrated-word2vec/\n",
        "https://adventuresinmachinelearning.com/word2vec-tutorial-tensorflow/ \n",
        "https://towardsdatascience.com/understanding-feature-engineering-part-4-deep-learning-methods-for-text-data-96c44370bbfa \n",
        "https://adventuresinmachinelearning.com/word2vec-keras-tutorial/ \n",
        "https://www.tensorflow.org/tutorials/representation/word2vec#the_skip-gram_model \n",
        "https://github.com/tensorflow/tensorflow/blob/master/tensorflow/examples/tutorials/word2vec/word2vec_basic.py \n",
        "\n"
      ]
    },
    {
      "cell_type": "code",
      "metadata": {
        "id": "HCAYO90bV-DR"
      },
      "source": [],
      "execution_count": null,
      "outputs": []
    }
  ]
}