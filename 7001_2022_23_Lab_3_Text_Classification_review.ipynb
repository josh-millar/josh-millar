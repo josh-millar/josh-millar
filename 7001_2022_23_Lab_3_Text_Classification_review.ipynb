{
  "nbformat": 4,
  "nbformat_minor": 0,
  "metadata": {
    "accelerator": "GPU",
    "colab": {
      "provenance": [],
      "machine_shape": "hm",
      "toc_visible": true,
      "include_colab_link": true
    },
    "kernelspec": {
      "display_name": "Python 3",
      "language": "python",
      "name": "python3"
    },
    "language_info": {
      "codemirror_mode": {
        "name": "ipython",
        "version": 3
      },
      "file_extension": ".py",
      "mimetype": "text/x-python",
      "name": "python",
      "nbconvert_exporter": "python",
      "pygments_lexer": "ipython3",
      "version": "3.7.4"
    }
  },
  "cells": [
    {
      "cell_type": "markdown",
      "metadata": {
        "id": "view-in-github",
        "colab_type": "text"
      },
      "source": [
        "<a href=\"https://colab.research.google.com/github/josh-millar/josh-millar/blob/main/7001_2022_23_Lab_3_Text_Classification_review.ipynb\" target=\"_parent\"><img src=\"https://colab.research.google.com/assets/colab-badge.svg\" alt=\"Open In Colab\"/></a>"
      ]
    },
    {
      "cell_type": "markdown",
      "metadata": {
        "id": "hExKCzh6doIW",
        "pycharm": {
          "name": "#%% md\n"
        }
      },
      "source": [
        "# Lab 3 - Neural Network Classifier Using Simple Word Embeddings\n",
        "\n",
        "\n",
        "\n",
        "---\n",
        "\n",
        "\n",
        "\n",
        "\n",
        "\n",
        "\n",
        "\n",
        "\n",
        "\n",
        "\n",
        "\n",
        "\n",
        "\n"
      ]
    },
    {
      "cell_type": "markdown",
      "metadata": {
        "id": "HixoFOoCIJ7V",
        "pycharm": {
          "name": "#%% md\n"
        }
      },
      "source": [
        "In this session, we demonstrate how to solve a text classification task using different neural classifiers. We will also experiment with different ways to use word embeddings for classification.\n",
        "\n",
        "We will use IMDB Large Movie Review Dataset to train a binary classification model, able to predict whether a review is positive or negative. First, our network takes one-hot word vectors as input, averages them to make one vector and trains a \n",
        "fully-connected layer to predict the output. In the second part, we replace the one-hot vectors with different word embeddings and add a layer to see how much that improves the performance. We will finally use CNNs to address the problem.\n",
        "\n",
        "We are going to use Keras Sequential API in this session. The Sequential API allows you to build models layer-by-layer."
      ]
    },
    {
      "cell_type": "code",
      "metadata": {
        "id": "m8fpBfhBpupy",
        "pycharm": {
          "name": "#%%\n"
        }
      },
      "source": [
        "import tensorflow.keras as tk\n",
        "import numpy as np\n",
        "from keras.layers import Lambda, GlobalAveragePooling1D, Dense, Embedding\n",
        "from keras import backend as K\n",
        "from keras.models import Sequential\n",
        "from keras.utils import pad_sequences\n",
        "\n",
        "import matplotlib.pyplot as plt\n"
      ],
      "execution_count": 2,
      "outputs": []
    },
    {
      "cell_type": "markdown",
      "metadata": {
        "id": "cqvPQvgvPv1W",
        "pycharm": {
          "name": "#%% md\n"
        }
      },
      "source": [
        "### Downloading data"
      ]
    },
    {
      "cell_type": "markdown",
      "metadata": {
        "id": "EundMtGPpCdf",
        "pycharm": {
          "name": "#%% md\n"
        }
      },
      "source": [
        "The dataset we will be using is the IMDB Large Movie Review Dataset, which consists of 50,000 labeled movie reviews. These are split into 25,000 reviews for training and 25,000 reviews for testing. The  dataset contains an even number of positive and negative reviews, so randomly guessing yields 50% accuracy. The data is preprocessed. For text classification, we usually limit the size of the vocabulary to stop the data from becoming too sparse, creating possible overfitting. We hence keep the top 10,000 most frequently occurring words in the training data.\n"
      ]
    },
    {
      "cell_type": "code",
      "metadata": {
        "id": "NyuSzkafqNca",
        "pycharm": {
          "name": "#%%\n"
        }
      },
      "source": [
        "imdb = tk.datasets.imdb\n",
        "(X_train, y_train), (X_test, y_test) = imdb.load_data(num_words=10000)"
      ],
      "execution_count": 3,
      "outputs": []
    },
    {
      "cell_type": "markdown",
      "metadata": {
        "id": "6U4iCV9-rmay",
        "pycharm": {
          "name": "#%% md\n"
        }
      },
      "source": [
        "We now can start look into the data, let’s first see the length:"
      ]
    },
    {
      "cell_type": "code",
      "metadata": {
        "id": "h-gjWRAuqg5s",
        "pycharm": {
          "name": "#%%\n"
        },
        "colab": {
          "base_uri": "https://localhost:8080/"
        },
        "outputId": "e21fb3b6-fdda-457e-f9f2-6d854a864e35"
      },
      "source": [
        "print(\"Training entries: {}, labels: {}\".format(len(X_train), len(y_train)))"
      ],
      "execution_count": 4,
      "outputs": [
        {
          "output_type": "stream",
          "name": "stdout",
          "text": [
            "Training entries: 25000, labels: 25000\n"
          ]
        }
      ]
    },
    {
      "cell_type": "markdown",
      "metadata": {
        "id": "MTRZrpcyr-4x",
        "pycharm": {
          "name": "#%% md\n"
        }
      },
      "source": [
        "The  reviews have been converted to integers and each integer represents a  word in a dictionary. "
      ]
    },
    {
      "cell_type": "code",
      "metadata": {
        "id": "79Ev72Kgq4XL",
        "pycharm": {
          "name": "#%%\n"
        },
        "colab": {
          "base_uri": "https://localhost:8080/"
        },
        "outputId": "415e9b8f-9ff7-4e11-a3ab-f69bf51dac53"
      },
      "source": [
        " X_train[0][:10]"
      ],
      "execution_count": 5,
      "outputs": [
        {
          "output_type": "execute_result",
          "data": {
            "text/plain": [
              "[1, 14, 22, 16, 43, 530, 973, 1622, 1385, 65]"
            ]
          },
          "metadata": {},
          "execution_count": 5
        }
      ]
    },
    {
      "cell_type": "markdown",
      "metadata": {
        "id": "Tvuu4KhStqei",
        "pycharm": {
          "name": "#%% md\n"
        }
      },
      "source": [
        "We can convert integers back to words by querying a dictionary object that contains the integer to string mapping:"
      ]
    },
    {
      "cell_type": "code",
      "metadata": {
        "id": "gMCH1OoDrSNR",
        "pycharm": {
          "name": "#%%\n"
        }
      },
      "source": [
        "word_index = imdb.get_word_index()"
      ],
      "execution_count": 6,
      "outputs": []
    },
    {
      "cell_type": "markdown",
      "metadata": {
        "id": "5IreFXgruZot",
        "pycharm": {
          "name": "#%% md\n"
        }
      },
      "source": [
        "Index 1 represents the beginning of the sentence and the index 2 is assigned to all unknown tokens. Index 0 will be used for padding."
      ]
    },
    {
      "cell_type": "code",
      "metadata": {
        "id": "abIb7Fe5u3GQ",
        "pycharm": {
          "name": "#%%\n"
        }
      },
      "source": [
        "word_index = {k:(v+3) for k,v in word_index.items()}\n",
        "word_index[\"<PAD>\"] = 0\n",
        "word_index[\"<START>\"] = 1\n",
        "word_index[\"<UNK>\"] = 2  \n",
        "word_index[\"<UNUSED>\"] = 3"
      ],
      "execution_count": 7,
      "outputs": []
    },
    {
      "cell_type": "markdown",
      "metadata": {
        "id": "9TnnSuspvC5b",
        "pycharm": {
          "name": "#%% md\n"
        }
      },
      "source": [
        "To reverse key and values in a dictionary:"
      ]
    },
    {
      "cell_type": "code",
      "metadata": {
        "id": "nKOiVVXQu-_I",
        "pycharm": {
          "name": "#%%\n"
        }
      },
      "source": [
        "reverse_word_index = dict([(value, key) for (key, value) in word_index.items()])"
      ],
      "execution_count": 8,
      "outputs": []
    },
    {
      "cell_type": "markdown",
      "metadata": {
        "id": "ZmTJEm8xvUvW",
        "pycharm": {
          "name": "#%% md\n"
        }
      },
      "source": [
        "To view a word:"
      ]
    },
    {
      "cell_type": "code",
      "metadata": {
        "id": "SqN5jgVKvJJZ",
        "pycharm": {
          "name": "#%%\n"
        },
        "colab": {
          "base_uri": "https://localhost:8080/",
          "height": 37
        },
        "outputId": "9ca82522-bfac-4772-a235-d543ec6ce462"
      },
      "source": [
        "reverse_word_index[25]"
      ],
      "execution_count": 9,
      "outputs": [
        {
          "output_type": "execute_result",
          "data": {
            "text/plain": [
              "'you'"
            ],
            "application/vnd.google.colaboratory.intrinsic+json": {
              "type": "string"
            }
          },
          "metadata": {},
          "execution_count": 9
        }
      ]
    },
    {
      "cell_type": "markdown",
      "metadata": {
        "id": "Q6QjrzgVvrYn",
        "pycharm": {
          "name": "#%% md\n"
        }
      },
      "source": [
        "And to recreate the whole sentence from our training data we define decode_review:\n"
      ]
    },
    {
      "cell_type": "code",
      "metadata": {
        "id": "wvrKeMgxvWlv",
        "pycharm": {
          "name": "#%%\n"
        }
      },
      "source": [
        "def decode_review(text):\n",
        "    return ' '.join([reverse_word_index.get(i, '?') for i in text])"
      ],
      "execution_count": 10,
      "outputs": []
    },
    {
      "cell_type": "code",
      "metadata": {
        "id": "Sxg4YA_NvdRg",
        "pycharm": {
          "name": "#%%\n"
        },
        "colab": {
          "base_uri": "https://localhost:8080/",
          "height": 174
        },
        "outputId": "586d75e3-9827-40ef-b1bb-9b4a2ef1a3b1"
      },
      "source": [
        "decode_review(X_train[10])"
      ],
      "execution_count": 11,
      "outputs": [
        {
          "output_type": "execute_result",
          "data": {
            "text/plain": [
              "\"<START> french horror cinema has seen something of a revival over the last couple of years with great films such as inside and <UNK> romance <UNK> on to the scene <UNK> <UNK> the revival just slightly but stands head and shoulders over most modern horror titles and is surely one of the best french horror films ever made <UNK> was obviously shot on a low budget but this is made up for in far more ways than one by the originality of the film and this in turn is <UNK> by the excellent writing and acting that ensure the film is a winner the plot focuses on two main ideas prison and black magic the central character is a man named <UNK> sent to prison for fraud he is put in a cell with three others the quietly insane <UNK> body building <UNK> marcus and his retarded boyfriend daisy after a short while in the cell together they stumble upon a hiding place in the wall that contains an old <UNK> after <UNK> part of it they soon realise its magical powers and realise they may be able to use it to break through the prison walls br br black magic is a very interesting topic and i'm actually quite surprised that there aren't more films based on it as there's so much scope for things to do with it it's fair to say that <UNK> makes the best of it's <UNK> as despite it's <UNK> the film never actually feels restrained and manages to flow well throughout director eric <UNK> provides a great atmosphere for the film the fact that most of it takes place inside the central prison cell <UNK> that the film feels very claustrophobic and this immensely benefits the central idea of the prisoners wanting to use magic to break out of the cell it's very easy to get behind them it's often said that the unknown is the thing that really <UNK> people and this film proves that as the director <UNK> that we can never really be sure of exactly what is round the corner and this helps to ensure that <UNK> actually does manage to be quite frightening the film is memorable for a lot of reasons outside the central plot the characters are all very interesting in their own way and the fact that the book itself almost takes on its own character is very well done anyone worried that the film won't deliver by the end won't be disappointed either as the ending both makes sense and manages to be quite horrifying overall <UNK> is a truly great horror film and one of the best of the decade highly recommended viewing\""
            ],
            "application/vnd.google.colaboratory.intrinsic+json": {
              "type": "string"
            }
          },
          "metadata": {},
          "execution_count": 11
        }
      ]
    },
    {
      "cell_type": "markdown",
      "metadata": {
        "id": "c8gIzXncfaJK",
        "pycharm": {
          "name": "#%% md\n"
        }
      },
      "source": [
        "### Creating One-hot word vectors"
      ]
    },
    {
      "cell_type": "markdown",
      "metadata": {
        "id": "B9W4yb3rv_E0",
        "pycharm": {
          "name": "#%% md\n"
        }
      },
      "source": [
        "It is  common to use one-hot representation as input in NLP tasks. In Keras, the Embedding layer takes an index as an input and convert it to one-hot vector with the length of the vocabulary size. Then it multiplies these vectors by the embedding matrix to get relevant vectors. But there is no way to get a one-hot vector as the output of a layer in Keras. To solve this we use the Lambda() layer and a function that creates the one-hot layer. "
      ]
    },
    {
      "cell_type": "code",
      "metadata": {
        "id": "RPO_pK9zH4C5",
        "pycharm": {
          "name": "#%%\n"
        }
      },
      "source": [
        "def OneHot(input_dim=None, input_length=None):\n",
        "    \n",
        "    if input_dim is None or input_length is None:\n",
        "        raise TypeError(\"input_dim or input_length is not set\")\n",
        "\n",
        "    \n",
        "    def _one_hot(x, num_classes):\n",
        "        return K.one_hot(K.cast(x, 'uint8'),\n",
        "                          num_classes=num_classes)\n",
        "\n",
        "    return Lambda(_one_hot,\n",
        "                  arguments={'num_classes': input_dim},\n",
        "                  input_shape=(input_length,))"
      ],
      "execution_count": 12,
      "outputs": []
    },
    {
      "cell_type": "markdown",
      "metadata": {
        "id": "364d3MAw0ez9",
        "pycharm": {
          "name": "#%% md\n"
        }
      },
      "source": [
        "input_dim refers to the length of the one-hot vector and input_length refers to the length of the input sequence. Since the input to K.one_hot should be an integer tensor, we cast x to int (Keras passes around float tensors by default).\n",
        "\n"
      ]
    },
    {
      "cell_type": "markdown",
      "metadata": {
        "id": "VHz76GNA2M4r",
        "pycharm": {
          "name": "#%% md\n"
        }
      },
      "source": [
        "In most cases, each text sequence has a different length in words. Hence, we fill sequences with a pad token (0) accordingly. This special token is then masked not to be accounted for in averaging, loss calculation etc. We set the maximum length to 256."
      ]
    },
    {
      "cell_type": "markdown",
      "metadata": {
        "id": "9G_o7PsvgSFt",
        "pycharm": {
          "name": "#%% md\n"
        }
      },
      "source": [
        "### Preparing input data"
      ]
    },
    {
      "cell_type": "code",
      "metadata": {
        "id": "jiFn7sd_wF5j",
        "pycharm": {
          "name": "#%%\n"
        }
      },
      "source": [
        "VOCAB_SIZE = 10000\n",
        "MAX_SEQUENCE_LENGTH = 256\n",
        "\n",
        "X_train_enc = pad_sequences(X_train, value=word_index[\"<PAD>\"],\n",
        "                                                        padding='post',\n",
        "                                                        maxlen=256)\n",
        "\n",
        "X_test_enc = pad_sequences(X_test, value=word_index[\"<PAD>\"],\n",
        "                                                       padding='post',\n",
        "                                                       maxlen=256)"
      ],
      "execution_count": 13,
      "outputs": []
    },
    {
      "cell_type": "markdown",
      "metadata": {
        "id": "kcjFH1wKF_7d",
        "pycharm": {
          "name": "#%% md\n"
        }
      },
      "source": [
        "And to view a padded review:"
      ]
    },
    {
      "cell_type": "code",
      "metadata": {
        "id": "zwH4dcfW_a18",
        "pycharm": {
          "name": "#%%\n"
        },
        "colab": {
          "base_uri": "https://localhost:8080/"
        },
        "outputId": "f2c55a24-d5f9-460d-da56-26e4f1ce21e0"
      },
      "source": [
        "print(X_train_enc[1])\n",
        "print('\\nLength: ',len(X_train_enc))"
      ],
      "execution_count": 14,
      "outputs": [
        {
          "output_type": "stream",
          "name": "stdout",
          "text": [
            "[   1  194 1153  194 8255   78  228    5    6 1463 4369 5012  134   26\n",
            "    4  715    8  118 1634   14  394   20   13  119  954  189  102    5\n",
            "  207  110 3103   21   14   69  188    8   30   23    7    4  249  126\n",
            "   93    4  114    9 2300 1523    5  647    4  116    9   35 8163    4\n",
            "  229    9  340 1322    4  118    9    4  130 4901   19    4 1002    5\n",
            "   89   29  952   46   37    4  455    9   45   43   38 1543 1905  398\n",
            "    4 1649   26 6853    5  163   11 3215    2    4 1153    9  194  775\n",
            "    7 8255    2  349 2637  148  605    2 8003   15  123  125   68    2\n",
            " 6853   15  349  165 4362   98    5    4  228    9   43    2 1157   15\n",
            "  299  120    5  120  174   11  220  175  136   50    9 4373  228 8255\n",
            "    5    2  656  245 2350    5    4 9837  131  152  491   18    2   32\n",
            " 7464 1212   14    9    6  371   78   22  625   64 1382    9    8  168\n",
            "  145   23    4 1690   15   16    4 1355    5   28    6   52  154  462\n",
            "   33   89   78  285   16  145   95    0    0    0    0    0    0    0\n",
            "    0    0    0    0    0    0    0    0    0    0    0    0    0    0\n",
            "    0    0    0    0    0    0    0    0    0    0    0    0    0    0\n",
            "    0    0    0    0    0    0    0    0    0    0    0    0    0    0\n",
            "    0    0    0    0    0    0    0    0    0    0    0    0    0    0\n",
            "    0    0    0    0]\n",
            "\n",
            "Length:  25000\n"
          ]
        }
      ]
    },
    {
      "cell_type": "markdown",
      "metadata": {
        "id": "F1zcxFwNGepA",
        "pycharm": {
          "name": "#%% md\n"
        }
      },
      "source": [
        "Now we will build our neural network model. We  are going to have a hidden layer with 16 hidden units. \n",
        "\n",
        "First, we want to transform each index to an embedded vector and then average all vectors to a single one. It has been shown that such an unweighted average of word vectors outperforms more complex networks (http://anthology.aclweb.org/P/P15/P15-1162.pdf)\n",
        "\n",
        "To average we need to ignore padded zeros:"
      ]
    },
    {
      "cell_type": "code",
      "metadata": {
        "id": "Yi04MLIvJOGZ",
        "pycharm": {
          "name": "#%%\n"
        }
      },
      "source": [
        "class GlobalAveragePooling1DMasked(GlobalAveragePooling1D):\n",
        "    def call(self, x, mask=None):\n",
        "        if mask != None:\n",
        "            return K.sum(x, axis=1) / K.sum(mask, axis=1)\n",
        "        else:\n",
        "            return super().call(x)\n"
      ],
      "execution_count": 15,
      "outputs": []
    },
    {
      "cell_type": "markdown",
      "metadata": {
        "id": "whgIIB5ggjna",
        "pycharm": {
          "name": "#%% md\n"
        }
      },
      "source": [
        "#Model 1: Neural network model using one-hot vectors"
      ]
    },
    {
      "cell_type": "markdown",
      "metadata": {
        "id": "jlOLnlnSJgrU",
        "pycharm": {
          "name": "#%% md\n"
        }
      },
      "source": [
        "The first layer is a one-hot layer. The second layer computes average of all word vectors in a sentence without considering padding. The output vector is then piped through a fully-connected layer. The last layer has a single output node with the sigmoid activation function. The final value is a float between 0 and 1. At the end we visualize the model summary."
      ]
    },
    {
      "cell_type": "code",
      "source": [
        "from keras.layers import Input\n",
        "from keras.models import Model"
      ],
      "metadata": {
        "id": "ZEEnxaRd7cGU"
      },
      "execution_count": 16,
      "outputs": []
    },
    {
      "cell_type": "code",
      "metadata": {
        "id": "_Pn83gBbxiK7",
        "pycharm": {
          "name": "#%%\n"
        },
        "colab": {
          "base_uri": "https://localhost:8080/"
        },
        "outputId": "b74bd61b-7403-406a-de15-4c8e5327fbf9"
      },
      "source": [
        "input_layer = Input((MAX_SEQUENCE_LENGTH,), dtype='int32')\n",
        "one_hot_layer = OneHot(input_dim=VOCAB_SIZE, input_length=MAX_SEQUENCE_LENGTH)(input_layer)\n",
        "averaging_layer = GlobalAveragePooling1DMasked()(one_hot_layer)\n",
        "hidden_layer = Dense(16)(averaging_layer)\n",
        "output = Dense(1, activation=\"sigmoid\")(hidden_layer)\n",
        "model = Model(inputs=[input_layer], outputs=[output])\n",
        "model.summary()"
      ],
      "execution_count": 17,
      "outputs": [
        {
          "output_type": "stream",
          "name": "stdout",
          "text": [
            "Model: \"model\"\n",
            "_________________________________________________________________\n",
            " Layer (type)                Output Shape              Param #   \n",
            "=================================================================\n",
            " input_1 (InputLayer)        [(None, 256)]             0         \n",
            "                                                                 \n",
            " lambda (Lambda)             (None, 256, 10000)        0         \n",
            "                                                                 \n",
            " global_average_pooling1d_ma  (None, 10000)            0         \n",
            " sked (GlobalAveragePooling1                                     \n",
            " DMasked)                                                        \n",
            "                                                                 \n",
            " dense (Dense)               (None, 16)                160016    \n",
            "                                                                 \n",
            " dense_1 (Dense)             (None, 1)                 17        \n",
            "                                                                 \n",
            "=================================================================\n",
            "Total params: 160,033\n",
            "Trainable params: 160,033\n",
            "Non-trainable params: 0\n",
            "_________________________________________________________________\n"
          ]
        }
      ]
    },
    {
      "cell_type": "markdown",
      "metadata": {
        "id": "_Mz96xpCgvTj",
        "pycharm": {
          "name": "#%% md\n"
        }
      },
      "source": [
        "### Training the model"
      ]
    },
    {
      "cell_type": "markdown",
      "metadata": {
        "id": "F3HbW_IKLqwT",
        "pycharm": {
          "name": "#%% md\n"
        }
      },
      "source": [
        "To compile the model we need a loss function and an optimizer. We use the binary_crossentropy loss function. We also use the Adam optimizer. You can read more about it here: https://arxiv.org/abs/1412.6980v8.\n"
      ]
    },
    {
      "cell_type": "code",
      "metadata": {
        "id": "qh1PWTNMxjUw",
        "pycharm": {
          "name": "#%%\n"
        }
      },
      "source": [
        "model.compile(loss='binary_crossentropy', optimizer='adam', metrics=['accuracy'])"
      ],
      "execution_count": 18,
      "outputs": []
    },
    {
      "cell_type": "markdown",
      "metadata": {
        "id": "E1jwQQqCN5Ia",
        "pycharm": {
          "name": "#%% md\n"
        }
      },
      "source": [
        "When training, we want to check the accuracy of the model on the unseen data. So we create a validation set:"
      ]
    },
    {
      "cell_type": "code",
      "metadata": {
        "id": "f5lAqzQlxjSM",
        "pycharm": {
          "name": "#%%\n"
        }
      },
      "source": [
        "X_val = np.array(X_train_enc[:10000])\n",
        "partial_X_train = np.array(X_train_enc[10000:])\n",
        "\n",
        "y_val = np.array(y_train[:10000])\n",
        "partial_y_train = np.array(y_train[10000:])"
      ],
      "execution_count": 19,
      "outputs": []
    },
    {
      "cell_type": "markdown",
      "metadata": {
        "id": "E8Kpo5G3OJEY",
        "pycharm": {
          "name": "#%% md\n"
        }
      },
      "source": [
        "Then we start to train the model for 40 epochs in mini-batches of 512 samples and monitor the model's loss and accuracy on the validation set."
      ]
    },
    {
      "cell_type": "code",
      "metadata": {
        "id": "99_z39KAxjPi",
        "pycharm": {
          "name": "#%%\n"
        },
        "colab": {
          "base_uri": "https://localhost:8080/"
        },
        "outputId": "c703970c-1659-431b-8132-32dd125b1ad3"
      },
      "source": [
        "history = model.fit(partial_X_train,\n",
        "                    partial_y_train,\n",
        "                    epochs=40,\n",
        "                    batch_size=512,\n",
        "                    validation_data=(X_val, y_val),\n",
        "                    verbose=1)"
      ],
      "execution_count": 20,
      "outputs": [
        {
          "output_type": "stream",
          "name": "stdout",
          "text": [
            "Epoch 1/40\n",
            "30/30 [==============================] - 8s 101ms/step - loss: 0.6924 - accuracy: 0.5027 - val_loss: 0.6915 - val_accuracy: 0.5720\n",
            "Epoch 2/40\n",
            "30/30 [==============================] - 3s 94ms/step - loss: 0.6903 - accuracy: 0.6644 - val_loss: 0.6893 - val_accuracy: 0.6519\n",
            "Epoch 3/40\n",
            "30/30 [==============================] - 3s 96ms/step - loss: 0.6875 - accuracy: 0.6729 - val_loss: 0.6864 - val_accuracy: 0.6629\n",
            "Epoch 4/40\n",
            "30/30 [==============================] - 3s 101ms/step - loss: 0.6841 - accuracy: 0.6655 - val_loss: 0.6830 - val_accuracy: 0.6527\n",
            "Epoch 5/40\n",
            "30/30 [==============================] - 3s 95ms/step - loss: 0.6800 - accuracy: 0.6733 - val_loss: 0.6786 - val_accuracy: 0.6705\n",
            "Epoch 6/40\n",
            "30/30 [==============================] - 3s 101ms/step - loss: 0.6753 - accuracy: 0.6763 - val_loss: 0.6738 - val_accuracy: 0.6692\n",
            "Epoch 7/40\n",
            "30/30 [==============================] - 3s 106ms/step - loss: 0.6701 - accuracy: 0.6785 - val_loss: 0.6686 - val_accuracy: 0.6742\n",
            "Epoch 8/40\n",
            "30/30 [==============================] - 3s 98ms/step - loss: 0.6642 - accuracy: 0.6847 - val_loss: 0.6634 - val_accuracy: 0.6789\n",
            "Epoch 9/40\n",
            "30/30 [==============================] - 3s 96ms/step - loss: 0.6583 - accuracy: 0.6869 - val_loss: 0.6574 - val_accuracy: 0.6825\n",
            "Epoch 10/40\n",
            "30/30 [==============================] - 3s 102ms/step - loss: 0.6520 - accuracy: 0.6878 - val_loss: 0.6515 - val_accuracy: 0.6830\n",
            "Epoch 11/40\n",
            "30/30 [==============================] - 3s 104ms/step - loss: 0.6457 - accuracy: 0.6901 - val_loss: 0.6455 - val_accuracy: 0.6845\n",
            "Epoch 12/40\n",
            "30/30 [==============================] - 3s 103ms/step - loss: 0.6393 - accuracy: 0.6925 - val_loss: 0.6396 - val_accuracy: 0.6902\n",
            "Epoch 13/40\n",
            "30/30 [==============================] - 3s 102ms/step - loss: 0.6328 - accuracy: 0.6957 - val_loss: 0.6335 - val_accuracy: 0.6886\n",
            "Epoch 14/40\n",
            "30/30 [==============================] - 3s 98ms/step - loss: 0.6268 - accuracy: 0.6969 - val_loss: 0.6277 - val_accuracy: 0.6964\n",
            "Epoch 15/40\n",
            "30/30 [==============================] - 3s 99ms/step - loss: 0.6204 - accuracy: 0.7032 - val_loss: 0.6218 - val_accuracy: 0.6954\n",
            "Epoch 16/40\n",
            "30/30 [==============================] - 3s 102ms/step - loss: 0.6146 - accuracy: 0.7035 - val_loss: 0.6164 - val_accuracy: 0.6972\n",
            "Epoch 17/40\n",
            "30/30 [==============================] - 3s 97ms/step - loss: 0.6087 - accuracy: 0.7066 - val_loss: 0.6109 - val_accuracy: 0.7032\n",
            "Epoch 18/40\n",
            "30/30 [==============================] - 3s 105ms/step - loss: 0.6028 - accuracy: 0.7121 - val_loss: 0.6058 - val_accuracy: 0.7106\n",
            "Epoch 19/40\n",
            "30/30 [==============================] - 3s 103ms/step - loss: 0.5974 - accuracy: 0.7141 - val_loss: 0.6004 - val_accuracy: 0.7110\n",
            "Epoch 20/40\n",
            "30/30 [==============================] - 3s 96ms/step - loss: 0.5921 - accuracy: 0.7169 - val_loss: 0.5958 - val_accuracy: 0.7164\n",
            "Epoch 21/40\n",
            "30/30 [==============================] - 3s 95ms/step - loss: 0.5870 - accuracy: 0.7216 - val_loss: 0.5907 - val_accuracy: 0.7120\n",
            "Epoch 22/40\n",
            "30/30 [==============================] - 3s 95ms/step - loss: 0.5820 - accuracy: 0.7221 - val_loss: 0.5863 - val_accuracy: 0.7211\n",
            "Epoch 23/40\n",
            "30/30 [==============================] - 3s 102ms/step - loss: 0.5773 - accuracy: 0.7236 - val_loss: 0.5818 - val_accuracy: 0.7230\n",
            "Epoch 24/40\n",
            "30/30 [==============================] - 3s 95ms/step - loss: 0.5730 - accuracy: 0.7276 - val_loss: 0.5779 - val_accuracy: 0.7247\n",
            "Epoch 25/40\n",
            "30/30 [==============================] - 3s 95ms/step - loss: 0.5685 - accuracy: 0.7281 - val_loss: 0.5746 - val_accuracy: 0.7236\n",
            "Epoch 26/40\n",
            "30/30 [==============================] - 3s 95ms/step - loss: 0.5646 - accuracy: 0.7318 - val_loss: 0.5697 - val_accuracy: 0.7267\n",
            "Epoch 27/40\n",
            "30/30 [==============================] - 3s 105ms/step - loss: 0.5607 - accuracy: 0.7328 - val_loss: 0.5660 - val_accuracy: 0.7280\n",
            "Epoch 28/40\n",
            "30/30 [==============================] - 3s 101ms/step - loss: 0.5570 - accuracy: 0.7362 - val_loss: 0.5630 - val_accuracy: 0.7310\n",
            "Epoch 29/40\n",
            "30/30 [==============================] - 3s 95ms/step - loss: 0.5537 - accuracy: 0.7371 - val_loss: 0.5595 - val_accuracy: 0.7323\n",
            "Epoch 30/40\n",
            "30/30 [==============================] - 3s 101ms/step - loss: 0.5507 - accuracy: 0.7381 - val_loss: 0.5564 - val_accuracy: 0.7345\n",
            "Epoch 31/40\n",
            "30/30 [==============================] - 3s 101ms/step - loss: 0.5470 - accuracy: 0.7421 - val_loss: 0.5549 - val_accuracy: 0.7319\n",
            "Epoch 32/40\n",
            "30/30 [==============================] - 3s 96ms/step - loss: 0.5448 - accuracy: 0.7418 - val_loss: 0.5510 - val_accuracy: 0.7376\n",
            "Epoch 33/40\n",
            "30/30 [==============================] - 3s 95ms/step - loss: 0.5416 - accuracy: 0.7439 - val_loss: 0.5482 - val_accuracy: 0.7383\n",
            "Epoch 34/40\n",
            "30/30 [==============================] - 3s 101ms/step - loss: 0.5390 - accuracy: 0.7445 - val_loss: 0.5459 - val_accuracy: 0.7405\n",
            "Epoch 35/40\n",
            "30/30 [==============================] - 3s 102ms/step - loss: 0.5367 - accuracy: 0.7446 - val_loss: 0.5438 - val_accuracy: 0.7415\n",
            "Epoch 36/40\n",
            "30/30 [==============================] - 3s 102ms/step - loss: 0.5344 - accuracy: 0.7471 - val_loss: 0.5416 - val_accuracy: 0.7431\n",
            "Epoch 37/40\n",
            "30/30 [==============================] - 3s 95ms/step - loss: 0.5322 - accuracy: 0.7476 - val_loss: 0.5397 - val_accuracy: 0.7432\n",
            "Epoch 38/40\n",
            "30/30 [==============================] - 3s 95ms/step - loss: 0.5304 - accuracy: 0.7484 - val_loss: 0.5378 - val_accuracy: 0.7449\n",
            "Epoch 39/40\n",
            "30/30 [==============================] - 3s 101ms/step - loss: 0.5285 - accuracy: 0.7491 - val_loss: 0.5366 - val_accuracy: 0.7436\n",
            "Epoch 40/40\n",
            "30/30 [==============================] - 3s 98ms/step - loss: 0.5272 - accuracy: 0.7471 - val_loss: 0.5348 - val_accuracy: 0.7452\n"
          ]
        }
      ]
    },
    {
      "cell_type": "markdown",
      "metadata": {
        "id": "i_9a_rybhG5J",
        "pycharm": {
          "name": "#%% md\n"
        }
      },
      "source": [
        "### Evaluating the model"
      ]
    },
    {
      "cell_type": "markdown",
      "metadata": {
        "id": "EYLH8kOgOo9W",
        "pycharm": {
          "name": "#%% md\n"
        }
      },
      "source": [
        "To evaluate the model on test data:"
      ]
    },
    {
      "cell_type": "code",
      "metadata": {
        "id": "CFMt2Q7b3taP",
        "pycharm": {
          "name": "#%%\n"
        },
        "colab": {
          "base_uri": "https://localhost:8080/"
        },
        "outputId": "8d66476a-9918-4512-86fb-fff01edf65c9"
      },
      "source": [
        "results = model.evaluate(X_test_enc, y_test)"
      ],
      "execution_count": 21,
      "outputs": [
        {
          "output_type": "stream",
          "name": "stdout",
          "text": [
            "782/782 [==============================] - 4s 5ms/step - loss: 0.5351 - accuracy: 0.7414\n"
          ]
        }
      ]
    },
    {
      "cell_type": "code",
      "metadata": {
        "id": "9RrKiPHcAmQU",
        "pycharm": {
          "name": "#%%\n"
        },
        "colab": {
          "base_uri": "https://localhost:8080/"
        },
        "outputId": "f6a0350d-bc08-41b1-8388-2745d3575db1"
      },
      "source": [
        "print(results)\n",
        "# loss, accuracay "
      ],
      "execution_count": 22,
      "outputs": [
        {
          "output_type": "stream",
          "name": "stdout",
          "text": [
            "[0.535101592540741, 0.7414000034332275]\n"
          ]
        }
      ]
    },
    {
      "cell_type": "markdown",
      "metadata": {
        "id": "pW7IpHxMO6qp",
        "pycharm": {
          "name": "#%% md\n"
        }
      },
      "source": [
        "Our first model accuracy using one-hot vectors is ~68%\n",
        "\n",
        "\n",
        "\n",
        "\n",
        "\n"
      ]
    },
    {
      "cell_type": "markdown",
      "metadata": {
        "id": "OwZk_yoWhPJB",
        "pycharm": {
          "name": "#%% md\n"
        }
      },
      "source": [
        "### Plotting the accuracy graph"
      ]
    },
    {
      "cell_type": "markdown",
      "metadata": {
        "id": "JIDPH1J7PMzN",
        "pycharm": {
          "name": "#%% md\n"
        }
      },
      "source": [
        "To plot accuracy and loss over epochs we can use Matplotlib:"
      ]
    },
    {
      "cell_type": "code",
      "source": [
        "!pip install plot_keras_history\n",
        "from keras.utils import vis_utils\n",
        "from plot_keras_history import plot_history\n",
        "import matplotlib.pyplot as plt"
      ],
      "metadata": {
        "colab": {
          "base_uri": "https://localhost:8080/"
        },
        "id": "AaiPqegRDw-Y",
        "outputId": "ab27b2de-7c4f-42fd-9cfd-cd3ea11d61e4"
      },
      "execution_count": 23,
      "outputs": [
        {
          "output_type": "stream",
          "name": "stdout",
          "text": [
            "Looking in indexes: https://pypi.org/simple, https://us-python.pkg.dev/colab-wheels/public/simple/\n",
            "Requirement already satisfied: plot_keras_history in /usr/local/lib/python3.9/dist-packages (1.1.38)\n",
            "Requirement already satisfied: pandas in /usr/local/lib/python3.9/dist-packages (from plot_keras_history) (1.3.5)\n",
            "Requirement already satisfied: scipy in /usr/local/lib/python3.9/dist-packages (from plot_keras_history) (1.10.1)\n",
            "Requirement already satisfied: support-developer>=1.0.2 in /usr/local/lib/python3.9/dist-packages (from plot_keras_history) (1.0.5)\n",
            "Requirement already satisfied: sanitize-ml-labels>=1.0.48 in /usr/local/lib/python3.9/dist-packages (from plot_keras_history) (1.0.50)\n",
            "Requirement already satisfied: matplotlib in /usr/local/lib/python3.9/dist-packages (from plot_keras_history) (3.5.3)\n",
            "Requirement already satisfied: compress-json in /usr/local/lib/python3.9/dist-packages (from sanitize-ml-labels>=1.0.48->plot_keras_history) (1.0.8)\n",
            "Requirement already satisfied: kiwisolver>=1.0.1 in /usr/local/lib/python3.9/dist-packages (from matplotlib->plot_keras_history) (1.4.4)\n",
            "Requirement already satisfied: pyparsing>=2.2.1 in /usr/local/lib/python3.9/dist-packages (from matplotlib->plot_keras_history) (3.0.9)\n",
            "Requirement already satisfied: cycler>=0.10 in /usr/local/lib/python3.9/dist-packages (from matplotlib->plot_keras_history) (0.11.0)\n",
            "Requirement already satisfied: fonttools>=4.22.0 in /usr/local/lib/python3.9/dist-packages (from matplotlib->plot_keras_history) (4.39.0)\n",
            "Requirement already satisfied: pillow>=6.2.0 in /usr/local/lib/python3.9/dist-packages (from matplotlib->plot_keras_history) (8.4.0)\n",
            "Requirement already satisfied: packaging>=20.0 in /usr/local/lib/python3.9/dist-packages (from matplotlib->plot_keras_history) (23.0)\n",
            "Requirement already satisfied: python-dateutil>=2.7 in /usr/local/lib/python3.9/dist-packages (from matplotlib->plot_keras_history) (2.8.2)\n",
            "Requirement already satisfied: numpy>=1.17 in /usr/local/lib/python3.9/dist-packages (from matplotlib->plot_keras_history) (1.22.4)\n",
            "Requirement already satisfied: pytz>=2017.3 in /usr/local/lib/python3.9/dist-packages (from pandas->plot_keras_history) (2022.7.1)\n",
            "Requirement already satisfied: six>=1.5 in /usr/local/lib/python3.9/dist-packages (from python-dateutil>=2.7->matplotlib->plot_keras_history) (1.15.0)\n"
          ]
        }
      ]
    },
    {
      "cell_type": "code",
      "metadata": {
        "id": "LS9k2vvSAqB7",
        "pycharm": {
          "name": "#%%\n"
        },
        "colab": {
          "base_uri": "https://localhost:8080/",
          "height": 513
        },
        "outputId": "9c057b11-ed19-4d73-e3e9-54d990ed0e5c"
      },
      "source": [
        "plot_history(history.history)\n",
        "plt.show()"
      ],
      "execution_count": 24,
      "outputs": [
        {
          "output_type": "display_data",
          "data": {
            "text/plain": [
              "<Figure size 1000x500 with 2 Axes>"
            ],
            "image/png": "[encoded data removed]"
          },
          "metadata": {
            "needs_background": "light"
          }
        }
      ]
    },
    {
      "cell_type": "markdown",
      "metadata": {
        "id": "a7OwOQw4h8RX",
        "pycharm": {
          "name": "#%% md\n"
        }
      },
      "source": [
        "#Model 2: Neural averaging model using an embedding layer"
      ]
    },
    {
      "cell_type": "markdown",
      "metadata": {
        "id": "l-QzOMO_P4jc",
        "pycharm": {
          "name": "#%% md\n"
        }
      },
      "source": [
        "Now instead of one-hot vectors, we want to use embeddings. We change our first layer in model1 to an Embedding layer. This layer takes the integer-encoded vocabulary and looks up the embedding vector for each word index. These vectors are learned as the model trains. The vectors add a dimension to the output array. The resulting dimensions are: (batch, sequence, embedding)."
      ]
    },
    {
      "cell_type": "code",
      "source": [
        "from keras.layers import GlobalAveragePooling2D"
      ],
      "metadata": {
        "id": "uJJ7YEa642r4"
      },
      "execution_count": 25,
      "outputs": []
    },
    {
      "cell_type": "code",
      "metadata": {
        "id": "MFrCsL-NBFVL",
        "pycharm": {
          "name": "#%%\n"
        },
        "colab": {
          "base_uri": "https://localhost:8080/"
        },
        "outputId": "a0442cbe-c769-4a6d-cbc6-f7fb592159be"
      },
      "source": [
        "EMBEDDING_SIZE = 100\n",
        "\n",
        "input_layer = Input((MAX_SEQUENCE_LENGTH,), dtype='int32')\n",
        "embed_layer = Embedding(\n",
        "    VOCAB_SIZE,\n",
        "    EMBEDDING_SIZE,\n",
        "    name=\"embedding\",\n",
        "    embeddings_initializer=\"glorot_uniform\",\n",
        "    input_length=MAX_SEQUENCE_LENGTH,\n",
        "    # mask_zero=True,\n",
        ")(input_layer)\n",
        "averaging_layer = GlobalAveragePooling1DMasked()(embed_layer)\n",
        "hidden_layer = Dense(16)(averaging_layer)\n",
        "output = Dense(1, activation=\"sigmoid\")(hidden_layer)\n",
        "model2 = Model(inputs=[input_layer], outputs=[output])\n",
        "model2.summary()\n",
        "model2.compile(loss='binary_crossentropy', optimizer='adam', metrics=['accuracy'])"
      ],
      "execution_count": 26,
      "outputs": [
        {
          "output_type": "stream",
          "name": "stdout",
          "text": [
            "Model: \"model_1\"\n",
            "_________________________________________________________________\n",
            " Layer (type)                Output Shape              Param #   \n",
            "=================================================================\n",
            " input_2 (InputLayer)        [(None, 256)]             0         \n",
            "                                                                 \n",
            " embedding (Embedding)       (None, 256, 100)          1000000   \n",
            "                                                                 \n",
            " global_average_pooling1d_ma  (None, 100)              0         \n",
            " sked_1 (GlobalAveragePoolin                                     \n",
            " g1DMasked)                                                      \n",
            "                                                                 \n",
            " dense_2 (Dense)             (None, 16)                1616      \n",
            "                                                                 \n",
            " dense_3 (Dense)             (None, 1)                 17        \n",
            "                                                                 \n",
            "=================================================================\n",
            "Total params: 1,001,633\n",
            "Trainable params: 1,001,633\n",
            "Non-trainable params: 0\n",
            "_________________________________________________________________\n"
          ]
        }
      ]
    },
    {
      "cell_type": "code",
      "source": [
        "history2 = model2.fit(partial_X_train,\n",
        "                    partial_y_train,\n",
        "                    epochs=40,\n",
        "                    batch_size=512,\n",
        "                    validation_data=(X_val, y_val),\n",
        "                    verbose=1)"
      ],
      "metadata": {
        "colab": {
          "base_uri": "https://localhost:8080/"
        },
        "id": "U5EpInyLQp6r",
        "outputId": "c5f1b657-4059-44c8-e3df-f526502b9844"
      },
      "execution_count": 27,
      "outputs": [
        {
          "output_type": "stream",
          "name": "stdout",
          "text": [
            "Epoch 1/40\n",
            "30/30 [==============================] - 7s 171ms/step - loss: 0.6881 - accuracy: 0.6303 - val_loss: 0.6794 - val_accuracy: 0.7179\n",
            "Epoch 2/40\n",
            "30/30 [==============================] - 7s 219ms/step - loss: 0.6590 - accuracy: 0.7442 - val_loss: 0.6348 - val_accuracy: 0.7403\n",
            "Epoch 3/40\n",
            "30/30 [==============================] - 7s 221ms/step - loss: 0.5934 - accuracy: 0.7654 - val_loss: 0.5595 - val_accuracy: 0.7771\n",
            "Epoch 4/40\n",
            "30/30 [==============================] - 4s 134ms/step - loss: 0.5044 - accuracy: 0.8129 - val_loss: 0.4798 - val_accuracy: 0.8047\n",
            "Epoch 5/40\n",
            "30/30 [==============================] - 4s 137ms/step - loss: 0.4193 - accuracy: 0.8491 - val_loss: 0.4109 - val_accuracy: 0.8432\n",
            "Epoch 6/40\n",
            "30/30 [==============================] - 3s 113ms/step - loss: 0.3529 - accuracy: 0.8774 - val_loss: 0.3647 - val_accuracy: 0.8594\n",
            "Epoch 7/40\n",
            "30/30 [==============================] - 2s 77ms/step - loss: 0.3057 - accuracy: 0.8915 - val_loss: 0.3359 - val_accuracy: 0.8699\n",
            "Epoch 8/40\n",
            "30/30 [==============================] - 3s 99ms/step - loss: 0.2707 - accuracy: 0.9027 - val_loss: 0.3172 - val_accuracy: 0.8754\n",
            "Epoch 9/40\n",
            "30/30 [==============================] - 3s 94ms/step - loss: 0.2428 - accuracy: 0.9141 - val_loss: 0.3049 - val_accuracy: 0.8794\n",
            "Epoch 10/40\n",
            "30/30 [==============================] - 1s 50ms/step - loss: 0.2204 - accuracy: 0.9229 - val_loss: 0.3017 - val_accuracy: 0.8780\n",
            "Epoch 11/40\n",
            "30/30 [==============================] - 2s 68ms/step - loss: 0.2013 - accuracy: 0.9307 - val_loss: 0.2933 - val_accuracy: 0.8817\n",
            "Epoch 12/40\n",
            "30/30 [==============================] - 2s 66ms/step - loss: 0.1824 - accuracy: 0.9383 - val_loss: 0.2892 - val_accuracy: 0.8825\n",
            "Epoch 13/40\n",
            "30/30 [==============================] - 1s 51ms/step - loss: 0.1670 - accuracy: 0.9445 - val_loss: 0.2880 - val_accuracy: 0.8848\n",
            "Epoch 14/40\n",
            "30/30 [==============================] - 1s 25ms/step - loss: 0.1532 - accuracy: 0.9511 - val_loss: 0.2911 - val_accuracy: 0.8848\n",
            "Epoch 15/40\n",
            "30/30 [==============================] - 2s 79ms/step - loss: 0.1407 - accuracy: 0.9565 - val_loss: 0.2918 - val_accuracy: 0.8846\n",
            "Epoch 16/40\n",
            "30/30 [==============================] - 1s 33ms/step - loss: 0.1297 - accuracy: 0.9610 - val_loss: 0.2958 - val_accuracy: 0.8840\n",
            "Epoch 17/40\n",
            "30/30 [==============================] - 1s 42ms/step - loss: 0.1191 - accuracy: 0.9654 - val_loss: 0.3005 - val_accuracy: 0.8843\n",
            "Epoch 18/40\n",
            "30/30 [==============================] - 1s 40ms/step - loss: 0.1101 - accuracy: 0.9681 - val_loss: 0.3064 - val_accuracy: 0.8833\n",
            "Epoch 19/40\n",
            "30/30 [==============================] - 1s 31ms/step - loss: 0.1013 - accuracy: 0.9720 - val_loss: 0.3134 - val_accuracy: 0.8823\n",
            "Epoch 20/40\n",
            "30/30 [==============================] - 1s 20ms/step - loss: 0.0939 - accuracy: 0.9744 - val_loss: 0.3204 - val_accuracy: 0.8818\n",
            "Epoch 21/40\n",
            "30/30 [==============================] - 1s 41ms/step - loss: 0.0854 - accuracy: 0.9775 - val_loss: 0.3292 - val_accuracy: 0.8803\n",
            "Epoch 22/40\n",
            "30/30 [==============================] - 2s 61ms/step - loss: 0.0785 - accuracy: 0.9805 - val_loss: 0.3394 - val_accuracy: 0.8785\n",
            "Epoch 23/40\n",
            "30/30 [==============================] - 1s 19ms/step - loss: 0.0727 - accuracy: 0.9825 - val_loss: 0.3482 - val_accuracy: 0.8778\n",
            "Epoch 24/40\n",
            "30/30 [==============================] - 1s 29ms/step - loss: 0.0667 - accuracy: 0.9848 - val_loss: 0.3583 - val_accuracy: 0.8778\n",
            "Epoch 25/40\n",
            "30/30 [==============================] - 1s 35ms/step - loss: 0.0613 - accuracy: 0.9865 - val_loss: 0.3685 - val_accuracy: 0.8782\n",
            "Epoch 26/40\n",
            "30/30 [==============================] - 2s 60ms/step - loss: 0.0564 - accuracy: 0.9888 - val_loss: 0.3808 - val_accuracy: 0.8741\n",
            "Epoch 27/40\n",
            "30/30 [==============================] - 1s 46ms/step - loss: 0.0518 - accuracy: 0.9902 - val_loss: 0.3924 - val_accuracy: 0.8759\n",
            "Epoch 28/40\n",
            "30/30 [==============================] - 1s 20ms/step - loss: 0.0475 - accuracy: 0.9916 - val_loss: 0.4049 - val_accuracy: 0.8730\n",
            "Epoch 29/40\n",
            "30/30 [==============================] - 1s 41ms/step - loss: 0.0435 - accuracy: 0.9922 - val_loss: 0.4156 - val_accuracy: 0.8740\n",
            "Epoch 30/40\n",
            "30/30 [==============================] - 1s 22ms/step - loss: 0.0404 - accuracy: 0.9930 - val_loss: 0.4326 - val_accuracy: 0.8704\n",
            "Epoch 31/40\n",
            "30/30 [==============================] - 1s 38ms/step - loss: 0.0369 - accuracy: 0.9943 - val_loss: 0.4417 - val_accuracy: 0.8717\n",
            "Epoch 32/40\n",
            "30/30 [==============================] - 1s 25ms/step - loss: 0.0342 - accuracy: 0.9947 - val_loss: 0.4555 - val_accuracy: 0.8702\n",
            "Epoch 33/40\n",
            "30/30 [==============================] - 1s 24ms/step - loss: 0.0310 - accuracy: 0.9957 - val_loss: 0.4663 - val_accuracy: 0.8697\n",
            "Epoch 34/40\n",
            "30/30 [==============================] - 1s 25ms/step - loss: 0.0294 - accuracy: 0.9957 - val_loss: 0.4829 - val_accuracy: 0.8680\n",
            "Epoch 35/40\n",
            "30/30 [==============================] - 1s 29ms/step - loss: 0.0267 - accuracy: 0.9963 - val_loss: 0.4928 - val_accuracy: 0.8689\n",
            "Epoch 36/40\n",
            "30/30 [==============================] - 1s 24ms/step - loss: 0.0243 - accuracy: 0.9969 - val_loss: 0.5041 - val_accuracy: 0.8671\n",
            "Epoch 37/40\n",
            "30/30 [==============================] - 1s 24ms/step - loss: 0.0218 - accuracy: 0.9977 - val_loss: 0.5176 - val_accuracy: 0.8664\n",
            "Epoch 38/40\n",
            "30/30 [==============================] - 1s 30ms/step - loss: 0.0200 - accuracy: 0.9982 - val_loss: 0.5315 - val_accuracy: 0.8651\n",
            "Epoch 39/40\n",
            "30/30 [==============================] - 1s 24ms/step - loss: 0.0184 - accuracy: 0.9983 - val_loss: 0.5428 - val_accuracy: 0.8659\n",
            "Epoch 40/40\n",
            "30/30 [==============================] - 1s 31ms/step - loss: 0.0169 - accuracy: 0.9985 - val_loss: 0.5559 - val_accuracy: 0.8649\n"
          ]
        }
      ]
    },
    {
      "cell_type": "code",
      "metadata": {
        "id": "I4zIPJDcTPq3",
        "pycharm": {
          "name": "#%%\n"
        },
        "colab": {
          "base_uri": "https://localhost:8080/"
        },
        "outputId": "e6c4ecee-6ae7-40fd-a719-87251c3a9d63"
      },
      "source": [
        "results = model2.evaluate(X_test_enc, y_test)"
      ],
      "execution_count": 28,
      "outputs": [
        {
          "output_type": "stream",
          "name": "stdout",
          "text": [
            "782/782 [==============================] - 2s 3ms/step - loss: 0.5902 - accuracy: 0.8540\n"
          ]
        }
      ]
    },
    {
      "cell_type": "code",
      "metadata": {
        "id": "waS96edDTRyL",
        "pycharm": {
          "name": "#%%\n"
        },
        "colab": {
          "base_uri": "https://localhost:8080/"
        },
        "outputId": "95dc31c1-5027-4b67-a9dd-205a6a3a517b"
      },
      "source": [
        "print (results)"
      ],
      "execution_count": 29,
      "outputs": [
        {
          "output_type": "stream",
          "name": "stdout",
          "text": [
            "[0.5902098417282104, 0.8539599776268005]\n"
          ]
        }
      ]
    },
    {
      "cell_type": "markdown",
      "metadata": {
        "id": "7FBpTc_rXGvQ",
        "pycharm": {
          "name": "#%% md\n"
        }
      },
      "source": [
        "The accuracy of model2 is ~87%. Using Embedding layer instead of one-hot layer improved the performance."
      ]
    },
    {
      "cell_type": "markdown",
      "metadata": {
        "id": "--020hfG6rN2",
        "pycharm": {
          "name": "#%% md\n"
        }
      },
      "source": [
        "# Model 3: Using pre-trained word embeddings"
      ]
    },
    {
      "cell_type": "markdown",
      "metadata": {
        "id": "7GdY2-64YG1B",
        "pycharm": {
          "name": "#%% md\n"
        }
      },
      "source": [
        "### Preparing pre-trained word embeddings (GLOVE)"
      ]
    },
    {
      "cell_type": "markdown",
      "metadata": {
        "id": "J4gBeOyi4gkM",
        "pycharm": {
          "name": "#%% md\n"
        }
      },
      "source": [
        "The Embedding layer can be used to load pre-trained word embeddings. We are going to use GloVe embeddings (https://nlp.stanford.edu/projects/glove/). GloVe stands for \"Global Vectors for Word Representation\". It's a popular embedding technique based on factorising a matrix of word co-occurence statistics. You can download GloVe and initialise the Keras Embedding layer with weights from the pre-trained embedding model for the words in your dataset.\n",
        "First, we need to read GloVe and map words to GloVe:\n"
      ]
    },
    {
      "cell_type": "code",
      "metadata": {
        "id": "f_PypdqG9Iis",
        "pycharm": {
          "name": "#%%\n"
        }
      },
      "source": [
        "def readGloveFile(gloveFile):\n",
        "    with open(gloveFile, 'r') as f:\n",
        "        wordToGlove = {}  \n",
        "        wordToIndex = {}  \n",
        "        indexToWord = {}  \n",
        "\n",
        "        for line in f:\n",
        "            record = line.strip().split()\n",
        "            token = record[0] \n",
        "            wordToGlove[token] = np.array(record[1:], dtype=np.float64) \n",
        "            \n",
        "        tokens = sorted(wordToGlove.keys())\n",
        "        for idx, tok in enumerate(tokens):\n",
        "            kerasIdx = idx + 1  \n",
        "            wordToIndex[tok] = kerasIdx \n",
        "            indexToWord[kerasIdx] = tok \n",
        "\n",
        "    return wordToIndex, indexToWord, wordToGlove"
      ],
      "execution_count": 30,
      "outputs": []
    },
    {
      "cell_type": "markdown",
      "metadata": {
        "id": "ZcIZ3dq59bCh",
        "pycharm": {
          "name": "#%% md\n"
        }
      },
      "source": [
        "Now, we create our pre-trained Embedding layer:"
      ]
    },
    {
      "cell_type": "code",
      "metadata": {
        "id": "gembn7VM3ex8",
        "pycharm": {
          "name": "#%%\n"
        }
      },
      "source": [
        "from keras.initializers import Constant\n",
        "\n",
        "def createPretrainedEmbeddingLayer(wordToGlove, wordToIndex, isTrainable):\n",
        "    vocabLen = len(wordToIndex) + 1  \n",
        "    embDim = next(iter(wordToGlove.values())).shape[0]  \n",
        "   \n",
        "    embeddingMatrix = np.zeros((vocabLen, embDim))  \n",
        "    for word, index in wordToIndex.items():\n",
        "        embeddingMatrix[index, :] = wordToGlove[word] \n",
        "\n",
        "    embeddingLayer = Embedding(vocabLen, embDim, embeddings_initializer=Constant(embeddingMatrix), trainable=isTrainable, name='GloVe_Embeddings')\n",
        "    return embeddingLayer"
      ],
      "execution_count": 31,
      "outputs": []
    },
    {
      "cell_type": "code",
      "metadata": {
        "id": "8OC1wuctdFvA",
        "pycharm": {
          "name": "#%%\n"
        },
        "colab": {
          "base_uri": "https://localhost:8080/"
        },
        "outputId": "cc9bc5f1-3a98-4a49-cc9b-165ebf93c297"
      },
      "source": [
        "!wget http://nlp.stanford.edu/data/glove.6B.zip\n",
        "!unzip '/content/glove.6B.zip'"
      ],
      "execution_count": null,
      "outputs": [
        {
          "output_type": "stream",
          "name": "stdout",
          "text": [
            "--2023-03-09 13:52:36--  http://nlp.stanford.edu/data/glove.6B.zip\n",
            "Resolving nlp.stanford.edu (nlp.stanford.edu)... 171.64.67.140\n",
            "Connecting to nlp.stanford.edu (nlp.stanford.edu)|171.64.67.140|:80... connected.\n",
            "HTTP request sent, awaiting response... 302 Found\n",
            "Location: https://nlp.stanford.edu/data/glove.6B.zip [following]\n",
            "--2023-03-09 13:52:37--  https://nlp.stanford.edu/data/glove.6B.zip\n",
            "Connecting to nlp.stanford.edu (nlp.stanford.edu)|171.64.67.140|:443... connected.\n",
            "HTTP request sent, awaiting response... 301 Moved Permanently\n",
            "Location: https://downloads.cs.stanford.edu/nlp/data/glove.6B.zip [following]\n",
            "--2023-03-09 13:52:37--  https://downloads.cs.stanford.edu/nlp/data/glove.6B.zip\n",
            "Resolving downloads.cs.stanford.edu (downloads.cs.stanford.edu)... 171.64.64.22\n",
            "Connecting to downloads.cs.stanford.edu (downloads.cs.stanford.edu)|171.64.64.22|:443... connected.\n",
            "HTTP request sent, awaiting response... 200 OK\n",
            "Length: 862182613 (822M) [application/zip]\n",
            "Saving to: ‘glove.6B.zip.1’\n",
            "\n",
            "glove.6B.zip.1      100%[===================>] 822.24M  5.07MB/s    in 2m 39s  \n",
            "\n",
            "2023-03-09 13:55:17 (5.17 MB/s) - ‘glove.6B.zip.1’ saved [862182613/862182613]\n",
            "\n",
            "Archive:  /content/glove.6B.zip\n",
            "replace glove.6B.50d.txt? [y]es, [n]o, [A]ll, [N]one, [r]ename: "
          ]
        }
      ]
    },
    {
      "cell_type": "markdown",
      "metadata": {
        "id": "HGxciLK4-xOr",
        "pycharm": {
          "name": "#%% md\n"
        }
      },
      "source": [
        "We freeze the weights to create the layer: "
      ]
    },
    {
      "cell_type": "code",
      "metadata": {
        "id": "PZCPUM0W_Drc",
        "pycharm": {
          "name": "#%%\n"
        }
      },
      "source": [
        "# wordToIndex,indexToWord,wordToGlove=readGloveFile('/content/glove.6B.50d.txt')\n",
        "# wordToIndex,indexToWord,wordToGlove=readGloveFile('/content/glove.6B.100d.txt')\n",
        "wordToIndex,indexToWord,wordToGlove=readGloveFile('/content/glove.6B.300d.txt')\n",
        "\n",
        "# vocabLen = len(wordToIndex) + 1 \n",
        "\n",
        "EMBEDDING_SIZE = next(iter(wordToGlove.values())).shape[0]\n",
        "print('Size of Embedding: ',EMBED_SIZE)\n",
        "\n",
        "embeddingLayer=createPretrainedEmbeddingLayer(wordToGlove,wordToIndex,isTrainable=False)\n",
        "print(embeddingLayer)"
      ],
      "execution_count": null,
      "outputs": []
    },
    {
      "cell_type": "markdown",
      "metadata": {
        "id": "vdZ4nl08vp9A",
        "pycharm": {
          "name": "#%% md\n"
        }
      },
      "source": [
        "## Model 3-1: Neural Network model using pre-trained word embeddings"
      ]
    },
    {
      "cell_type": "code",
      "metadata": {
        "id": "VICS9rY8C7KH",
        "pycharm": {
          "name": "#%%\n"
        }
      },
      "source": [
        "input_layer = Input((MAX_SEQUENCE_LENGTH,), dtype='int32')\n",
        "embed_layer = embeddingLayer(input_layer)\n",
        "averaging_layer = GlobalAveragePooling1DMasked()(embed_layer)\n",
        "hidden_layer = Dense(16)(averaging_layer)\n",
        "output = Dense(1, activation=\"sigmoid\")(hidden_layer)\n",
        "model3 = Model(inputs=[input_layer], outputs=[output])\n",
        "\n",
        "model3.summary()\n",
        "model3.compile(loss='binary_crossentropy', optimizer='adam', metrics=['accuracy'])"
      ],
      "execution_count": null,
      "outputs": []
    },
    {
      "cell_type": "code",
      "metadata": {
        "id": "r6sj_FnOD9Sb",
        "pycharm": {
          "name": "#%%\n"
        }
      },
      "source": [
        "history3 = model3.fit(partial_X_train,\n",
        "                    partial_y_train,\n",
        "                    epochs=40,\n",
        "                    batch_size=512,\n",
        "                    validation_data=(X_val, y_val),\n",
        "                    verbose=1)"
      ],
      "execution_count": null,
      "outputs": []
    },
    {
      "cell_type": "code",
      "source": [
        "results = model3.evaluate(X_test_enc, y_test)\n",
        "print(results)"
      ],
      "metadata": {
        "id": "tmB2z-9GcM1W"
      },
      "execution_count": null,
      "outputs": []
    },
    {
      "cell_type": "markdown",
      "metadata": {
        "id": "wxJhlT3whoDE",
        "pycharm": {
          "name": "#%% md\n"
        }
      },
      "source": [
        "To compare freezing and fine-tuning the pre-trained embeding weights, we fine-tune the weights below:"
      ]
    },
    {
      "cell_type": "code",
      "metadata": {
        "id": "u_xmeuuhhtbH",
        "pycharm": {
          "name": "#%%\n"
        }
      },
      "source": [
        "embeddingLayer=createPretrainedEmbeddingLayer(\n",
        "    wordToGlove, \n",
        "    wordToIndex, \n",
        "    isTrainable=True\n",
        "    )\n",
        "input_layer = Input((MAX_SEQUENCE_LENGTH,), dtype='int32')\n",
        "embed_layer = embeddingLayer(input_layer)\n",
        "averaging_layer = GlobalAveragePooling1DMasked()(embed_layer)\n",
        "hidden_layer = Dense(16)(averaging_layer)\n",
        "output = Dense(1, activation=\"sigmoid\")(hidden_layer)\n",
        "model3 = Model(inputs=[input_layer], outputs=[output])\n",
        "\n",
        "model3.summary()\n",
        "model3.compile(loss='binary_crossentropy', optimizer='adam', metrics=['accuracy'])"
      ],
      "execution_count": null,
      "outputs": []
    },
    {
      "cell_type": "code",
      "metadata": {
        "id": "3rz8MEm6iHj6",
        "pycharm": {
          "name": "#%%\n"
        }
      },
      "source": [
        "# Train and test the model\n",
        "history3 = model3.fit(partial_X_train,\n",
        "                    partial_y_train,\n",
        "                    epochs=40,\n",
        "                    batch_size=512,\n",
        "                    validation_data=(X_val, y_val),\n",
        "                    verbose=1)\n",
        "results = model3.evaluate(X_test_enc, y_test)\n",
        "print(results)"
      ],
      "execution_count": null,
      "outputs": []
    },
    {
      "cell_type": "markdown",
      "metadata": {
        "id": "cAdOh2IHnKuT",
        "pycharm": {
          "name": "#%% md\n"
        }
      },
      "source": [
        "Experiments here show that fine-tuning the pre-trained embeddings would obtain better accuracy.\n",
        "\n",
        "**Note**: Use frozen pre-trained embeddings in the subsequent experiments."
      ]
    },
    {
      "cell_type": "markdown",
      "metadata": {
        "id": "xZ1KWFKvcagS",
        "pycharm": {
          "name": "#%% md\n"
        }
      },
      "source": [
        "##  Model 3-2: LSTM with pre-trained word embeddings"
      ]
    },
    {
      "cell_type": "markdown",
      "metadata": {
        "id": "S1lKisy3kb60",
        "pycharm": {
          "name": "#%% md\n"
        }
      },
      "source": [
        "In lab 2, we have conducted an experiment with LSTMs. Now, we replace its embeddings with the pre-trained GLOVE embeddings."
      ]
    },
    {
      "cell_type": "code",
      "source": [
        "from keras.layers import LSTM"
      ],
      "metadata": {
        "id": "4QIzG09qjCF8"
      },
      "execution_count": null,
      "outputs": []
    },
    {
      "cell_type": "code",
      "metadata": {
        "id": "oz92rv2iTbo8",
        "pycharm": {
          "name": "#%%\n"
        }
      },
      "source": [
        "embeddingLayer=createPretrainedEmbeddingLayer(\n",
        "    wordToGlove, \n",
        "    wordToIndex, \n",
        "    isTrainable=False,\n",
        "    )\n",
        "input_layer = Input((MAX_SEQUENCE_LENGTH,), dtype='int32')\n",
        "embed_layer = embeddingLayer(input_layer)\n",
        "lstm_step = LSTM(100, return_sequences=False)(embed_layer)\n",
        "output = Dense(1, activation=\"sigmoid\")(lstm_step)\n",
        "model3_2 = Model(inputs=[input_layer], outputs=[output])\n",
        "\n",
        "\n",
        "# label = Dense(1, activation='sigmoid')(final_lstm_step)\n",
        "\n",
        "model3_2.summary()\n",
        "model3_2.compile(loss='binary_crossentropy', optimizer='adam', metrics=['accuracy'])"
      ],
      "execution_count": null,
      "outputs": []
    },
    {
      "cell_type": "code",
      "metadata": {
        "id": "EqyL_rhaUElx",
        "pycharm": {
          "name": "#%%\n"
        }
      },
      "source": [
        "# Train and test the model\n",
        "\n",
        "history3_2 = model3_2.fit(partial_X_train,\n",
        "                    partial_y_train,\n",
        "                    epochs=40,\n",
        "                    batch_size=512,\n",
        "                    validation_data=(X_val, y_val),\n",
        "                    verbose=1)\n",
        "results = model3_2.evaluate(X_test_enc, y_test)\n",
        "print(results)"
      ],
      "execution_count": null,
      "outputs": []
    },
    {
      "cell_type": "markdown",
      "metadata": {
        "id": "XOqePi5-I1Xq",
        "pycharm": {
          "name": "#%% md\n"
        }
      },
      "source": [
        "This experiment shows that simply replacing the lab 2 model embeddings with the pre-trained word embeddings (GLOVE) will cause performance to drop significantly. What can you do to improve the situation?"
      ]
    },
    {
      "cell_type": "markdown",
      "metadata": {
        "id": "M-bZ5SCHiIMl",
        "pycharm": {
          "name": "#%% md\n"
        }
      },
      "source": [
        "#  Model 4: Adding extra dense layer into Neural Network model"
      ]
    },
    {
      "cell_type": "markdown",
      "metadata": {
        "id": "G85QM3lSV7qp",
        "pycharm": {
          "name": "#%% md\n"
        }
      },
      "source": [
        "We add extra dense layers into model 3-1 to evaluate their contribution. We start by adding one layer then two. All the other parameters are the same as for model 3-1."
      ]
    },
    {
      "cell_type": "markdown",
      "metadata": {
        "id": "ExgX8bxpVgps",
        "pycharm": {
          "name": "#%% md\n"
        }
      },
      "source": [
        "### Adding one extra dense layer"
      ]
    },
    {
      "cell_type": "code",
      "metadata": {
        "id": "dTgD_gMzXa1z",
        "pycharm": {
          "name": "#%%\n"
        },
        "colab": {
          "base_uri": "https://localhost:8080/",
          "height": 232
        },
        "outputId": "7c0d2c60-15c8-48fa-ee24-965802ca132c"
      },
      "source": [
        "# your code goes here\n",
        "# Inspect model performance with 1 hidden layer, pre-trained embeddings\n",
        "embeddingLayer=createPretrainedEmbeddingLayer(\n",
        "    wordToGlove, \n",
        "    wordToIndex, \n",
        "    isTrainable=False,\n",
        "    )\n",
        "input_layer = Input((MAX_SEQUENCE_LENGTH,), dtype='int32')\n",
        "embed_layer = embeddingLayer(input_layer)\n",
        "averaging_layer = GlobalAveragePooling1DMasked()(embed_layer)\n",
        "hidden_layer = Dense(16)(averaging_layer)\n",
        "output = Dense(1, activation=\"sigmoid\")(hidden_layer)\n",
        "model4 = Model(inputs=[input_layer], outputs=[output])\n",
        "\n",
        "model4.summary()\n",
        "# model4.compile(loss='binary_crossentropy', optimizer='adam', metrics=['accuracy'])\n",
        " "
      ],
      "execution_count": 1,
      "outputs": [
        {
          "output_type": "error",
          "ename": "NameError",
          "evalue": "ignored",
          "traceback": [
            "\u001b[0;31m---------------------------------------------------------------------------\u001b[0m",
            "\u001b[0;31mNameError\u001b[0m                                 Traceback (most recent call last)",
            "\u001b[0;32m<ipython-input-1-e732106a56b8>\u001b[0m in \u001b[0;36m<module>\u001b[0;34m\u001b[0m\n\u001b[1;32m      1\u001b[0m \u001b[0;31m# your code goes here\u001b[0m\u001b[0;34m\u001b[0m\u001b[0;34m\u001b[0m\u001b[0m\n\u001b[1;32m      2\u001b[0m \u001b[0;31m# Inspect model performance with 1 hidden layer, pre-trained embeddings\u001b[0m\u001b[0;34m\u001b[0m\u001b[0;34m\u001b[0m\u001b[0m\n\u001b[0;32m----> 3\u001b[0;31m embeddingLayer=createPretrainedEmbeddingLayer(\n\u001b[0m\u001b[1;32m      4\u001b[0m     \u001b[0mwordToGlove\u001b[0m\u001b[0;34m,\u001b[0m\u001b[0;34m\u001b[0m\u001b[0;34m\u001b[0m\u001b[0m\n\u001b[1;32m      5\u001b[0m     \u001b[0mwordToIndex\u001b[0m\u001b[0;34m,\u001b[0m\u001b[0;34m\u001b[0m\u001b[0;34m\u001b[0m\u001b[0m\n",
            "\u001b[0;31mNameError\u001b[0m: name 'createPretrainedEmbeddingLayer' is not defined"
          ]
        }
      ]
    },
    {
      "cell_type": "markdown",
      "metadata": {
        "id": "K0npTvFuVt5R",
        "pycharm": {
          "name": "#%% md\n"
        }
      },
      "source": [
        "### Adding two extra dense layers"
      ]
    },
    {
      "cell_type": "code",
      "metadata": {
        "id": "PowyhyRqcdDA",
        "pycharm": {
          "name": "#%%\n"
        },
        "colab": {
          "base_uri": "https://localhost:8080/"
        },
        "outputId": "fa850f08-4f9c-4231-f1e3-76e5d0c4a853"
      },
      "source": [
        "# your code goes here\n",
        "# Inspect model performance with 1 hidden layer, pre-trained embeddings\n",
        " "
      ],
      "execution_count": null,
      "outputs": [
        {
          "output_type": "stream",
          "name": "stdout",
          "text": [
            "Model: \"Model_3_GloVe_Embeddings\"\n",
            "_________________________________________________________________\n",
            " Layer (type)                Output Shape              Param #   \n",
            "=================================================================\n",
            " input_4 (InputLayer)        [(None, 256)]             0         \n",
            "                                                                 \n",
            " GloVe_Embeddings (Embedding  (None, 256, 300)         120000300 \n",
            " )                                                               \n",
            "                                                                 \n",
            " global_average_pooling1d_ma  (None, 300)              0         \n",
            " sked_5 (GlobalAveragePoolin                                     \n",
            " g1DMasked)                                                      \n",
            "                                                                 \n",
            " extra_dense_1 (Dense)       (None, 300)               90300     \n",
            "                                                                 \n",
            " extra_dense_2 (Dense)       (None, 100)               30100     \n",
            "                                                                 \n",
            " dense_6 (Dense)             (None, 16)                1616      \n",
            "                                                                 \n",
            " dense_7 (Dense)             (None, 1)                 17        \n",
            "                                                                 \n",
            "=================================================================\n",
            "Total params: 120,122,333\n",
            "Trainable params: 122,033\n",
            "Non-trainable params: 120,000,300\n",
            "_________________________________________________________________\n"
          ]
        }
      ]
    },
    {
      "cell_type": "markdown",
      "metadata": {
        "id": "XisS32PaTATf",
        "pycharm": {
          "name": "#%% md\n"
        }
      },
      "source": [
        "These two experiments show that adding extra dense layers can slightly improve accuracy over model 3-1.\n",
        "\n",
        "---\n",
        "\n"
      ]
    },
    {
      "cell_type": "markdown",
      "metadata": {
        "id": "CrfC9Mu-RHID",
        "pycharm": {
          "name": "#%% md\n"
        }
      },
      "source": [
        "#  Model 5: CNN for Text Classification"
      ]
    },
    {
      "cell_type": "markdown",
      "metadata": {
        "id": "zjOJrGCzwGM5",
        "pycharm": {
          "name": "#%% md\n"
        }
      },
      "source": [
        "##  Model 5-1: Basic CNN model for Text Classification \n",
        "\n",
        "In this section, we build a Convolutional Neural Network (CNN) for text classification. We start by using one CNN layer and then adding another layer. You could use pre-trained embeddings or scratch train them from scratch."
      ]
    },
    {
      "cell_type": "code",
      "metadata": {
        "id": "rXBstOw0sCYF",
        "pycharm": {
          "name": "#%%\n"
        },
        "colab": {
          "base_uri": "https://localhost:8080/"
        },
        "outputId": "22a53ad4-19b7-4a2a-e4ad-82a52206a75d"
      },
      "source": [
        "# your code goes here\n"
      ],
      "execution_count": null,
      "outputs": [
        {
          "output_type": "stream",
          "name": "stdout",
          "text": [
            "Model: \"Model_4_CNN\"\n",
            "_________________________________________________________________\n",
            " Layer (type)                Output Shape              Param #   \n",
            "=================================================================\n",
            " Input (InputLayer)          [(None, 256)]             0         \n",
            "                                                                 \n",
            " embedding_layer (Embedding)  (None, 256, 300)         3000000   \n",
            "                                                                 \n",
            " CNN1D (Conv1D)              (None, 251, 100)          180100    \n",
            "                                                                 \n",
            " MaxPool (GlobalMaxPooling1D  (None, 100)              0         \n",
            " )                                                               \n",
            "                                                                 \n",
            " Output (Dense)              (None, 1)                 101       \n",
            "                                                                 \n",
            "=================================================================\n",
            "Total params: 3,180,201\n",
            "Trainable params: 3,180,201\n",
            "Non-trainable params: 0\n",
            "_________________________________________________________________\n"
          ]
        }
      ]
    },
    {
      "cell_type": "markdown",
      "source": [
        "Train and test the model, also plot train and validation accuracy and loss over epochs."
      ],
      "metadata": {
        "id": "jHZ96rkidrp-"
      }
    },
    {
      "cell_type": "code",
      "metadata": {
        "id": "-G5MrDPJFBzK",
        "pycharm": {
          "name": "#%%\n"
        }
      },
      "source": [
        "# your code goes here\n",
        "\n",
        " "
      ],
      "execution_count": null,
      "outputs": []
    },
    {
      "cell_type": "markdown",
      "metadata": {
        "id": "XkQMLxw-wWG6",
        "pycharm": {
          "name": "#%% md\n"
        }
      },
      "source": [
        "## Model 5-2: Adding extra convolutional layer"
      ]
    },
    {
      "cell_type": "code",
      "metadata": {
        "id": "7nvF662HOoqg",
        "pycharm": {
          "name": "#%%\n"
        },
        "colab": {
          "base_uri": "https://localhost:8080/"
        },
        "outputId": "8f00baed-3e0f-47c8-c77e-3ae4e3c235b4"
      },
      "source": [
        "# your code goes here\n"
      ],
      "execution_count": null,
      "outputs": [
        {
          "output_type": "stream",
          "name": "stdout",
          "text": [
            "Model: \"Model_6_CNN\"\n",
            "_________________________________________________________________\n",
            " Layer (type)                Output Shape              Param #   \n",
            "=================================================================\n",
            " Input (InputLayer)          [(None, 256)]             0         \n",
            "                                                                 \n",
            " embedding_layer (Embedding)  (None, 256, 300)         3000000   \n",
            "                                                                 \n",
            " CNN1D (Conv1D)              (None, 251, 100)          180100    \n",
            "                                                                 \n",
            " CNN1D2 (Conv1D)             (None, 246, 100)          60100     \n",
            "                                                                 \n",
            " MaxPool (GlobalMaxPooling1D  (None, 100)              0         \n",
            " )                                                               \n",
            "                                                                 \n",
            " Output (Dense)              (None, 1)                 101       \n",
            "                                                                 \n",
            "=================================================================\n",
            "Total params: 3,240,301\n",
            "Trainable params: 3,240,301\n",
            "Non-trainable params: 0\n",
            "_________________________________________________________________\n"
          ]
        }
      ]
    },
    {
      "cell_type": "markdown",
      "source": [
        "Train and test the model, also plot train and validation accuracy and loss over epochs."
      ],
      "metadata": {
        "id": "LIZREfaerXs2"
      }
    },
    {
      "cell_type": "code",
      "metadata": {
        "id": "hx8JLl4xPlua",
        "pycharm": {
          "name": "#%%\n"
        }
      },
      "source": [
        "# your code goes here\n",
        "# Train and test the model\n"
      ],
      "execution_count": null,
      "outputs": []
    },
    {
      "cell_type": "markdown",
      "metadata": {
        "id": "Kx--Ytk3ZbLo",
        "pycharm": {
          "name": "#%% md\n"
        }
      },
      "source": [
        "Although adding a layer here reduces the training loss, the evaluation accuracy is worse than for the model without the extra convolutional layer.\n",
        "\n",
        " Adding more layers can help you to extract more features. But we can do that up to a certain extent. After some point, instead of extracting features, we tend to overfit. Overfitting can lead to errors, such as false positives. It is not easy to choose the number of units in a hidden layer or the number of hidden layers in a neural network. For many applications, one hidden layer is enough. As a general rule, the number of units in this hidden layer is between the number of network input dimensions and the number of output dimensions.\n",
        " The best way to decide on the number of units and hidden layers is to try various parameters. Train several neural networks with different numbers of hidden layers and neurons, and monitor their performance.\n",
        "\n",
        "\n",
        "\n"
      ]
    },
    {
      "cell_type": "markdown",
      "metadata": {
        "id": "gn2GSV4ioyO2",
        "pycharm": {
          "name": "#%% md\n"
        }
      },
      "source": [
        "\n",
        "\n",
        "---\n",
        "\n"
      ]
    }
  ]
}