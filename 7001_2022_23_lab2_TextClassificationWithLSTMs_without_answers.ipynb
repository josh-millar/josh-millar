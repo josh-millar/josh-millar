{
  "nbformat": 4,
  "nbformat_minor": 0,
  "metadata": {
    "colab": {
      "provenance": [],
      "include_colab_link": true
    },
    "kernelspec": {
      "name": "python3",
      "display_name": "Python 3"
    }
  },
  "cells": [
    {
      "cell_type": "markdown",
      "metadata": {
        "id": "view-in-github",
        "colab_type": "text"
      },
      "source": [
        "<a href=\"https://colab.research.google.com/github/josh-millar/josh-millar/blob/main/7001_2022_23_lab2_TextClassificationWithLSTMs_without_answers.ipynb\" target=\"_parent\"><img src=\"https://colab.research.google.com/assets/colab-badge.svg\" alt=\"Open In Colab\"/></a>"
      ]
    },
    {
      "cell_type": "markdown",
      "metadata": {
        "id": "t_yvQBKrD8Se"
      },
      "source": [
        "# **ECS 7001 - NN & NNLP**\n",
        "\n",
        "## **Lab 2: LSTM for Text Classification**\n",
        "\n",
        "<br>\n",
        "\n",
        "**January 31st**\n",
        "\n",
        "In Lab 2, you trained word embeddings by casting the unsupervised learning problem as a binary classification problem (i.e. using the skip-gram model). This week, you will build an LSTM model to classify movie reviews as either positive or negative. After training, you will extract the word embeddings learned by the model.\n",
        "\n"
      ]
    },
    {
      "cell_type": "markdown",
      "metadata": {
        "id": "Ep2X91YdJpkG"
      },
      "source": [
        "### **0. Prepare the environment**\n",
        "\n",
        "Open Google Colab or activate the virtual environment you’ve created"
      ]
    },
    {
      "cell_type": "markdown",
      "metadata": {
        "id": "w6Pi5uvTLRCo"
      },
      "source": [
        "### **1. Getting the Dataset**\n",
        "\n",
        "You will be using the imdb dataset from Lab 0. This is a dataset of 25,000 movie reviews from IMDB, labeled by sentiment - positive (1) or negative (0). \n",
        "<br>\n",
        "\n",
        "The reviews have been preprocessed, and each review is encoded as a list of word indices. Last week, you assigned the indices to the word randomly (or in order of their first appearance in the corpus) but in this preprocessed corpus, the words are indexed by overall frequency in the dataset, such that a word with index 3 occurs more frequently than a word with index 10.\n",
        "<br>\n",
        "\n",
        "In the following blocks of code in this section, we will load and visualize the data.\n"
      ]
    },
    {
      "cell_type": "code",
      "metadata": {
        "id": "xn7sWMG-KoBV"
      },
      "source": [
        "from tensorflow.keras import datasets\n",
        "\n",
        "imdb = datasets.imdb"
      ],
      "execution_count": 27,
      "outputs": []
    },
    {
      "cell_type": "code",
      "metadata": {
        "id": "yCH0PmPcL83f"
      },
      "source": [
        "%%capture\n",
        "\n",
        "# we'll use the most frequent 10000 words in the vocabulary\n",
        "VOCAB_SIZE = 10000\n",
        "\n",
        "# 0 is reserved for ‘<PAD>’, 1 for ‘<START>’ and 2 for ‘<UNK>’ i.e. words not in vocabulary\n",
        "# the documentation says index_from = 3 but actually uses the value as an offset. The words\n",
        "# in the dictionary are indexed from 1 by default so, saying index_from=3 means any actual\n",
        "# words would start from 4 (1+3) and index 3 will be left unused. We use index_from=offset=2 to avoid this\n",
        "# If you want to explore this further, you may look up the source_code for load_data here\n",
        "# https://github.com/tensorflow/tensorflow/blob/v2.4.1/tensorflow/python/keras/datasets/imdb.py#L31-L162\n",
        "OFFSET = 2\n",
        "\n",
        "# for more information on the load_data method, type(help(load_data))\n",
        "(train_data,train_labels),(test_data,test_labels) = imdb.load_data(num_words=VOCAB_SIZE, index_from=OFFSET)"
      ],
      "execution_count": 28,
      "outputs": []
    },
    {
      "cell_type": "markdown",
      "metadata": {
        "id": "lVgaL5JIYBRm"
      },
      "source": [
        "***Sanity Check***\n",
        "\n",
        "Each instance in the training data is a list of word indices representing the words in a movie review.\n",
        "\n",
        "Each label is 1 if that review is positive, else 0."
      ]
    },
    {
      "cell_type": "code",
      "metadata": {
        "colab": {
          "base_uri": "https://localhost:8080/"
        },
        "id": "APFWiEejv9i5",
        "outputId": "b5a54f30-7fa4-4e40-979a-bff10849aa8e"
      },
      "source": [
        "print('Sample review:', train_data[0])"
      ],
      "execution_count": 29,
      "outputs": [
        {
          "output_type": "stream",
          "name": "stdout",
          "text": [
            "Sample review: [1, 13, 21, 15, 42, 529, 972, 1621, 1384, 64, 457, 4467, 65, 3940, 3, 172, 35, 255, 4, 24, 99, 42, 837, 111, 49, 669, 2, 8, 34, 479, 283, 4, 149, 3, 171, 111, 166, 2, 335, 384, 38, 3, 171, 4535, 1110, 16, 545, 37, 12, 446, 3, 191, 49, 15, 5, 146, 2024, 18, 13, 21, 3, 1919, 4612, 468, 3, 21, 70, 86, 11, 15, 42, 529, 37, 75, 14, 12, 1246, 3, 21, 16, 514, 16, 11, 15, 625, 17, 2, 4, 61, 385, 11, 7, 315, 7, 105, 4, 3, 2222, 5243, 15, 479, 65, 3784, 32, 3, 129, 11, 15, 37, 618, 4, 24, 123, 50, 35, 134, 47, 24, 1414, 32, 5, 21, 11, 214, 27, 76, 51, 4, 13, 406, 15, 81, 2, 7, 3, 106, 116, 5951, 14, 255, 3, 2, 6, 3765, 4, 722, 35, 70, 42, 529, 475, 25, 399, 316, 45, 6, 3, 2, 1028, 12, 103, 87, 3, 380, 14, 296, 97, 31, 2070, 55, 25, 140, 5, 193, 7485, 17, 3, 225, 21, 20, 133, 475, 25, 479, 4, 143, 29, 5534, 17, 50, 35, 27, 223, 91, 24, 103, 3, 225, 64, 15, 37, 1333, 87, 11, 15, 282, 4, 15, 4471, 112, 102, 31, 14, 15, 5344, 18, 177, 31]\n"
          ]
        }
      ]
    },
    {
      "cell_type": "code",
      "metadata": {
        "id": "CwgeiaF7n_lX",
        "colab": {
          "base_uri": "https://localhost:8080/"
        },
        "outputId": "8c2bc30d-0f06-454c-bf69-f1595310af7e"
      },
      "source": [
        "print('\\n Sample label:', train_labels[0])"
      ],
      "execution_count": 30,
      "outputs": [
        {
          "output_type": "stream",
          "name": "stdout",
          "text": [
            "\n",
            " Sample label: 1\n"
          ]
        }
      ]
    },
    {
      "cell_type": "markdown",
      "metadata": {
        "id": "4c14vElNvMGX"
      },
      "source": [
        "### **2. Readying the Inputs for the LSTM**\n",
        "\n",
        "The movie reviews are of different lengths. The standard way of dealing with varying length inputs is to ***pad*** or ***truncate*** each sentence to a fixed length (which we choose heuristically). \n",
        "\n",
        "Keras provides a way to do this.  In this section, you will use the keras.preprocessing.sequence method <pad_sequences> handle padding and truncating.\n",
        "\n",
        "**Hints**\n",
        "\n",
        "*  help(pad_sequences) will give you more information about how this works.\n",
        "*  You can experiment with 'pre' vs 'post' padding/truncating. In practice, 'pre' padding is more effective for our purposes; can you hypothesize about why this is?\n",
        "*  Since we have reserved 0 for \\<PAD\\>, your pad value should be set to 0.\n",
        "*  The maximum length has been specified below as MAX_LENGTH."
      ]
    },
    {
      "cell_type": "code",
      "metadata": {
        "id": "7XPwN_COagT9"
      },
      "source": [
        "# from keras.preprocessing.sequence import pad_sequences\n",
        "# from tensorflow.keras.preprocessing.sequence import pad_sequences\n",
        "# from keras_preprocessing.sequence import pad_sequences\n",
        "from tensorflow.keras.utils import pad_sequences\n",
        "\n",
        "\n",
        "MAX_LENGTH = 500\n",
        "\n",
        "padded_train_data = pad_sequences(train_data, maxlen=MAX_LENGTH, value=0, padding='pre')\n",
        "padded_test_data = pad_sequences(test_data, maxlen=MAX_LENGTH, value=0, padding='pre')"
      ],
      "execution_count": 31,
      "outputs": []
    },
    {
      "cell_type": "markdown",
      "metadata": {
        "id": "RhrUvhC2dO87"
      },
      "source": [
        "***Sanity Check***\n",
        "\n",
        "For the first training example, print its length and the padded sequence to see the effect of your padding process. \n",
        "\n",
        "PS: Pre-padding was used for the output you see below."
      ]
    },
    {
      "cell_type": "code",
      "metadata": {
        "colab": {
          "base_uri": "https://localhost:8080/"
        },
        "id": "DZb7keBfdKc_",
        "outputId": "f69df6d4-ec3b-43c3-876f-4710c9eb4645"
      },
      "source": [
        "print('Length of sample train_data before preprocessing:', len(train_data[0]))\n",
        "print('Length of sample train_data after preprocessing:', len(padded_train_data[0]))\n",
        "print('Sample train data:', padded_train_data[0])"
      ],
      "execution_count": 32,
      "outputs": [
        {
          "output_type": "stream",
          "name": "stdout",
          "text": [
            "Length of sample train_data before preprocessing: 218\n",
            "Length of sample train_data after preprocessing: 500\n",
            "Sample train data: [   0    0    0    0    0    0    0    0    0    0    0    0    0    0\n",
            "    0    0    0    0    0    0    0    0    0    0    0    0    0    0\n",
            "    0    0    0    0    0    0    0    0    0    0    0    0    0    0\n",
            "    0    0    0    0    0    0    0    0    0    0    0    0    0    0\n",
            "    0    0    0    0    0    0    0    0    0    0    0    0    0    0\n",
            "    0    0    0    0    0    0    0    0    0    0    0    0    0    0\n",
            "    0    0    0    0    0    0    0    0    0    0    0    0    0    0\n",
            "    0    0    0    0    0    0    0    0    0    0    0    0    0    0\n",
            "    0    0    0    0    0    0    0    0    0    0    0    0    0    0\n",
            "    0    0    0    0    0    0    0    0    0    0    0    0    0    0\n",
            "    0    0    0    0    0    0    0    0    0    0    0    0    0    0\n",
            "    0    0    0    0    0    0    0    0    0    0    0    0    0    0\n",
            "    0    0    0    0    0    0    0    0    0    0    0    0    0    0\n",
            "    0    0    0    0    0    0    0    0    0    0    0    0    0    0\n",
            "    0    0    0    0    0    0    0    0    0    0    0    0    0    0\n",
            "    0    0    0    0    0    0    0    0    0    0    0    0    0    0\n",
            "    0    0    0    0    0    0    0    0    0    0    0    0    0    0\n",
            "    0    0    0    0    0    0    0    0    0    0    0    0    0    0\n",
            "    0    0    0    0    0    0    0    0    0    0    0    0    0    0\n",
            "    0    0    0    0    0    0    0    0    0    0    0    0    0    0\n",
            "    0    0    1   13   21   15   42  529  972 1621 1384   64  457 4467\n",
            "   65 3940    3  172   35  255    4   24   99   42  837  111   49  669\n",
            "    2    8   34  479  283    4  149    3  171  111  166    2  335  384\n",
            "   38    3  171 4535 1110   16  545   37   12  446    3  191   49   15\n",
            "    5  146 2024   18   13   21    3 1919 4612  468    3   21   70   86\n",
            "   11   15   42  529   37   75   14   12 1246    3   21   16  514   16\n",
            "   11   15  625   17    2    4   61  385   11    7  315    7  105    4\n",
            "    3 2222 5243   15  479   65 3784   32    3  129   11   15   37  618\n",
            "    4   24  123   50   35  134   47   24 1414   32    5   21   11  214\n",
            "   27   76   51    4   13  406   15   81    2    7    3  106  116 5951\n",
            "   14  255    3    2    6 3765    4  722   35   70   42  529  475   25\n",
            "  399  316   45    6    3    2 1028   12  103   87    3  380   14  296\n",
            "   97   31 2070   55   25  140    5  193 7485   17    3  225   21   20\n",
            "  133  475   25  479    4  143   29 5534   17   50   35   27  223   91\n",
            "   24  103    3  225   64   15   37 1333   87   11   15  282    4   15\n",
            " 4471  112  102   31   14   15 5344   18  177   31]\n"
          ]
        }
      ]
    },
    {
      "cell_type": "markdown",
      "metadata": {
        "id": "rghchHA66d-V"
      },
      "source": [
        "### **3. Building the Model**\n",
        "\n",
        "In this section, you will use the keras Model API to build a classification model.\n",
        "\n",
        "*   The first step is to tell the model what sort of input to expect using the keras \\<Input\\> layer \n",
        "*   The second step is to add an embedding layer like we did last week. \n",
        "This embedding layer creates a lookup table of the form {word:embedding} for each of the unique words in our corpus. Use EMBED_SIZE = 100 (i.e each word is represented by a 100D vector such that each movie review is 500 X 100 in dimension.  Don't forget to set mask_zero=True since we are using 0 index as out padding.\n",
        "*  The third step is to add an LSTM with 100 units. By leaving 'return_sequences' as False, the output of this model will be the output of the final time step of the LSTM. https://keras.io/api/layers/recurrent_layers/lstm/ \n",
        "*  The final layer of the model is a fully connected (Dense) layer. Can you figure out what activation function would be appropriate for this layer given the binary nature of the task?\n",
        "*  The model should be compiled with a 'binary_crossentropy' loss function, an 'adam' optimizer. We also want to visualize the model accuracy during training so the 'metrics' parameter of the compile method should be set to ['accuracy']."
      ]
    },
    {
      "cell_type": "code",
      "metadata": {
        "id": "L1EHilHl1l2m"
      },
      "source": [
        "from keras.layers import Input, Embedding, Dense, LSTM\n",
        "from keras.models import Model\n",
        "\n",
        "EMBED_SIZE = 100\n",
        "\n",
        "\n",
        "review_input = Input((MAX_LENGTH,), dtype=\"int32\")\n",
        "review_embedding = Embedding(\n",
        "    VOCAB_SIZE,\n",
        "    EMBED_SIZE,\n",
        "    name=\"review_embedding\",\n",
        "    embeddings_initializer=\"glorot_uniform\",\n",
        "    input_length=MAX_LENGTH,\n",
        ")(review_input)\n",
        "\n",
        "final_lstm_step = LSTM(100, return_sequences=False)(review_embedding)\n",
        "label = Dense(1, activation='sigmoid')(final_lstm_step)\n",
        "\n",
        "model = Model(inputs=[review_input], outputs=[label])\n",
        "model.compile(\n",
        "    loss='binary_crossentropy', \n",
        "    optimizer='adam', \n",
        "    metrics=['accuracy'],\n",
        "    )"
      ],
      "execution_count": 33,
      "outputs": []
    },
    {
      "cell_type": "markdown",
      "metadata": {
        "id": "6OMqaFQusbp-"
      },
      "source": [
        "***Sanity Check***\n",
        "\n",
        "Print the model summary and visualize it using vis_utils."
      ]
    },
    {
      "cell_type": "code",
      "metadata": {
        "colab": {
          "base_uri": "https://localhost:8080/"
        },
        "id": "PB7Gv4V6raWd",
        "outputId": "3c4b5247-7ac4-486d-cca7-cc2f71c844f5"
      },
      "source": [
        "model.summary()"
      ],
      "execution_count": 34,
      "outputs": [
        {
          "output_type": "stream",
          "name": "stdout",
          "text": [
            "Model: \"model_3\"\n",
            "_________________________________________________________________\n",
            " Layer (type)                Output Shape              Param #   \n",
            "=================================================================\n",
            " input_5 (InputLayer)        [(None, 500)]             0         \n",
            "                                                                 \n",
            " review_embedding (Embedding  (None, 500, 100)         1000000   \n",
            " )                                                               \n",
            "                                                                 \n",
            " lstm_4 (LSTM)               (None, 100)               80400     \n",
            "                                                                 \n",
            " dense_3 (Dense)             (None, 1)                 101       \n",
            "                                                                 \n",
            "=================================================================\n",
            "Total params: 1,080,501\n",
            "Trainable params: 1,080,501\n",
            "Non-trainable params: 0\n",
            "_________________________________________________________________\n"
          ]
        }
      ]
    },
    {
      "cell_type": "code",
      "metadata": {
        "colab": {
          "base_uri": "https://localhost:8080/",
          "height": 585
        },
        "id": "ZTq8GsWgsqCe",
        "outputId": "34a973ad-309f-4738-9fd6-9d5866dfb2b0"
      },
      "source": [
        "from IPython.display import SVG\n",
        "from keras.utils import vis_utils\n",
        "SVG(vis_utils.model_to_dot(model, show_shapes=True, show_layer_names=True, dpi=100).create(prog='dot', format='svg'))  \n"
      ],
      "execution_count": 35,
      "outputs": [
        {
          "output_type": "execute_result",
          "data": {
            "text/plain": [
              "<IPython.core.display.SVG object>"
            ],
            "image/svg+xml": "<svg xmlns=\"http://www.w3.org/2000/svg\" xmlns:xlink=\"http://www.w3.org/1999/xlink\" width=\"408pt\" height=\"422pt\" viewBox=\"0.00 0.00 294.00 304.00\">\n<g id=\"graph0\" class=\"graph\" transform=\"scale(0.72 0.72) rotate(0) translate(4 300)\">\n<title>G</title>\n<polygon fill=\"white\" stroke=\"transparent\" points=\"-4,4 -4,-300 290,-300 290,4 -4,4\"/>\n<!-- 139668859153088 -->\n<g id=\"node1\" class=\"node\">\n<title>139668859153088</title>\n<polygon fill=\"none\" stroke=\"black\" points=\"31,-249.5 31,-295.5 255,-295.5 255,-249.5 31,-249.5\"/>\n<text text-anchor=\"middle\" x=\"69.5\" y=\"-280.3\" font-family=\"Times,serif\" font-size=\"14.00\">input_5</text>\n<polyline fill=\"none\" stroke=\"black\" points=\"31,-272.5 108,-272.5 \"/>\n<text text-anchor=\"middle\" x=\"69.5\" y=\"-257.3\" font-family=\"Times,serif\" font-size=\"14.00\">InputLayer</text>\n<polyline fill=\"none\" stroke=\"black\" points=\"108,-249.5 108,-295.5 \"/>\n<text text-anchor=\"middle\" x=\"135.5\" y=\"-280.3\" font-family=\"Times,serif\" font-size=\"14.00\">input:</text>\n<polyline fill=\"none\" stroke=\"black\" points=\"108,-272.5 163,-272.5 \"/>\n<text text-anchor=\"middle\" x=\"135.5\" y=\"-257.3\" font-family=\"Times,serif\" font-size=\"14.00\">output:</text>\n<polyline fill=\"none\" stroke=\"black\" points=\"163,-249.5 163,-295.5 \"/>\n<text text-anchor=\"middle\" x=\"209\" y=\"-280.3\" font-family=\"Times,serif\" font-size=\"14.00\">[(None, 500)]</text>\n<polyline fill=\"none\" stroke=\"black\" points=\"163,-272.5 255,-272.5 \"/>\n<text text-anchor=\"middle\" x=\"209\" y=\"-257.3\" font-family=\"Times,serif\" font-size=\"14.00\">[(None, 500)]</text>\n</g>\n<!-- 139668859153040 -->\n<g id=\"node2\" class=\"node\">\n<title>139668859153040</title>\n<polygon fill=\"none\" stroke=\"black\" points=\"0,-166.5 0,-212.5 286,-212.5 286,-166.5 0,-166.5\"/>\n<text text-anchor=\"middle\" x=\"60.5\" y=\"-197.3\" font-family=\"Times,serif\" font-size=\"14.00\">review_embedding</text>\n<polyline fill=\"none\" stroke=\"black\" points=\"0,-189.5 121,-189.5 \"/>\n<text text-anchor=\"middle\" x=\"60.5\" y=\"-174.3\" font-family=\"Times,serif\" font-size=\"14.00\">Embedding</text>\n<polyline fill=\"none\" stroke=\"black\" points=\"121,-166.5 121,-212.5 \"/>\n<text text-anchor=\"middle\" x=\"148.5\" y=\"-197.3\" font-family=\"Times,serif\" font-size=\"14.00\">input:</text>\n<polyline fill=\"none\" stroke=\"black\" points=\"121,-189.5 176,-189.5 \"/>\n<text text-anchor=\"middle\" x=\"148.5\" y=\"-174.3\" font-family=\"Times,serif\" font-size=\"14.00\">output:</text>\n<polyline fill=\"none\" stroke=\"black\" points=\"176,-166.5 176,-212.5 \"/>\n<text text-anchor=\"middle\" x=\"231\" y=\"-197.3\" font-family=\"Times,serif\" font-size=\"14.00\">(None, 500)</text>\n<polyline fill=\"none\" stroke=\"black\" points=\"176,-189.5 286,-189.5 \"/>\n<text text-anchor=\"middle\" x=\"231\" y=\"-174.3\" font-family=\"Times,serif\" font-size=\"14.00\">(None, 500, 100)</text>\n</g>\n<!-- 139668859153088&#45;&gt;139668859153040 -->\n<g id=\"edge1\" class=\"edge\">\n<title>139668859153088-&gt;139668859153040</title>\n<path fill=\"none\" stroke=\"black\" d=\"M143,-249.37C143,-241.15 143,-231.66 143,-222.73\"/>\n<polygon fill=\"black\" stroke=\"black\" points=\"146.5,-222.61 143,-212.61 139.5,-222.61 146.5,-222.61\"/>\n</g>\n<!-- 139668858272976 -->\n<g id=\"node3\" class=\"node\">\n<title>139668858272976</title>\n<polygon fill=\"none\" stroke=\"black\" points=\"33.5,-83.5 33.5,-129.5 252.5,-129.5 252.5,-83.5 33.5,-83.5\"/>\n<text text-anchor=\"middle\" x=\"60.5\" y=\"-114.3\" font-family=\"Times,serif\" font-size=\"14.00\">lstm_4</text>\n<polyline fill=\"none\" stroke=\"black\" points=\"33.5,-106.5 87.5,-106.5 \"/>\n<text text-anchor=\"middle\" x=\"60.5\" y=\"-91.3\" font-family=\"Times,serif\" font-size=\"14.00\">LSTM</text>\n<polyline fill=\"none\" stroke=\"black\" points=\"87.5,-83.5 87.5,-129.5 \"/>\n<text text-anchor=\"middle\" x=\"115\" y=\"-114.3\" font-family=\"Times,serif\" font-size=\"14.00\">input:</text>\n<polyline fill=\"none\" stroke=\"black\" points=\"87.5,-106.5 142.5,-106.5 \"/>\n<text text-anchor=\"middle\" x=\"115\" y=\"-91.3\" font-family=\"Times,serif\" font-size=\"14.00\">output:</text>\n<polyline fill=\"none\" stroke=\"black\" points=\"142.5,-83.5 142.5,-129.5 \"/>\n<text text-anchor=\"middle\" x=\"197.5\" y=\"-114.3\" font-family=\"Times,serif\" font-size=\"14.00\">(None, 500, 100)</text>\n<polyline fill=\"none\" stroke=\"black\" points=\"142.5,-106.5 252.5,-106.5 \"/>\n<text text-anchor=\"middle\" x=\"197.5\" y=\"-91.3\" font-family=\"Times,serif\" font-size=\"14.00\">(None, 100)</text>\n</g>\n<!-- 139668859153040&#45;&gt;139668858272976 -->\n<g id=\"edge2\" class=\"edge\">\n<title>139668859153040-&gt;139668858272976</title>\n<path fill=\"none\" stroke=\"black\" d=\"M143,-166.37C143,-158.15 143,-148.66 143,-139.73\"/>\n<polygon fill=\"black\" stroke=\"black\" points=\"146.5,-139.61 143,-129.61 139.5,-139.61 146.5,-139.61\"/>\n</g>\n<!-- 139668869089024 -->\n<g id=\"node4\" class=\"node\">\n<title>139668869089024</title>\n<polygon fill=\"none\" stroke=\"black\" points=\"43.5,-0.5 43.5,-46.5 242.5,-46.5 242.5,-0.5 43.5,-0.5\"/>\n<text text-anchor=\"middle\" x=\"74\" y=\"-31.3\" font-family=\"Times,serif\" font-size=\"14.00\">dense_3</text>\n<polyline fill=\"none\" stroke=\"black\" points=\"43.5,-23.5 104.5,-23.5 \"/>\n<text text-anchor=\"middle\" x=\"74\" y=\"-8.3\" font-family=\"Times,serif\" font-size=\"14.00\">Dense</text>\n<polyline fill=\"none\" stroke=\"black\" points=\"104.5,-0.5 104.5,-46.5 \"/>\n<text text-anchor=\"middle\" x=\"132\" y=\"-31.3\" font-family=\"Times,serif\" font-size=\"14.00\">input:</text>\n<polyline fill=\"none\" stroke=\"black\" points=\"104.5,-23.5 159.5,-23.5 \"/>\n<text text-anchor=\"middle\" x=\"132\" y=\"-8.3\" font-family=\"Times,serif\" font-size=\"14.00\">output:</text>\n<polyline fill=\"none\" stroke=\"black\" points=\"159.5,-0.5 159.5,-46.5 \"/>\n<text text-anchor=\"middle\" x=\"201\" y=\"-31.3\" font-family=\"Times,serif\" font-size=\"14.00\">(None, 100)</text>\n<polyline fill=\"none\" stroke=\"black\" points=\"159.5,-23.5 242.5,-23.5 \"/>\n<text text-anchor=\"middle\" x=\"201\" y=\"-8.3\" font-family=\"Times,serif\" font-size=\"14.00\">(None, 1)</text>\n</g>\n<!-- 139668858272976&#45;&gt;139668869089024 -->\n<g id=\"edge3\" class=\"edge\">\n<title>139668858272976-&gt;139668869089024</title>\n<path fill=\"none\" stroke=\"black\" d=\"M143,-83.37C143,-75.15 143,-65.66 143,-56.73\"/>\n<polygon fill=\"black\" stroke=\"black\" points=\"146.5,-56.61 143,-46.61 139.5,-56.61 146.5,-56.61\"/>\n</g>\n</g>\n</svg>"
          },
          "metadata": {},
          "execution_count": 35
        }
      ]
    },
    {
      "cell_type": "markdown",
      "metadata": {
        "id": "WXhJNdf9TIed"
      },
      "source": [
        "### **4. Training the Model**\n",
        "\n",
        "A model can memorize the training data (this is called 'overfitting' and when it does so, it's training accuracy can continue to go up but it's accuracy on previously unseen (i.e. non-training) examples can be very poor. To ensure that this doesn't happen, researchers often intermittently check the performance of a model being trained on a held back dataset called the ***validation dataset***. This way, 'early stopping' or 'random search' can be used to select the model that will generalize best to unseen data. \n",
        "<br>\n",
        "\n",
        "\n",
        "In this lab, you will just plot training accuracy against validation accuracy to monitor the progress of your model. And, using the plot, you will theorize about what the optimal stopping point for your model should have been.\n"
      ]
    },
    {
      "cell_type": "markdown",
      "metadata": {
        "id": "LFJtD1EgvPND"
      },
      "source": [
        "**Step 1: Getting a validation dataset**\n",
        "\n",
        "Before we begin training, you will split the padded training data into training and validation data. To avoid losing too much training data, use 2000 samples (i.e 8%) for validation and the other 23000 for training.\n",
        "\n",
        "We will do this using the sklearn train_test_split function. "
      ]
    },
    {
      "cell_type": "code",
      "metadata": {
        "id": "zqHSAlOev6kB"
      },
      "source": [
        "from sklearn.model_selection import train_test_split\n",
        "\n",
        "train_x, validation_x, train_y, validation_y = train_test_split(padded_train_data, train_labels, test_size=0.08) "
      ],
      "execution_count": 36,
      "outputs": []
    },
    {
      "cell_type": "markdown",
      "metadata": {
        "id": "xArEfNkX0DnN"
      },
      "source": [
        "Alternatively, we could have chosen to set validation_size=0.08 in our model.fit() function below instead of passing in a separate validation dataset."
      ]
    },
    {
      "cell_type": "markdown",
      "metadata": {
        "id": "3oXtkSBuyiWt"
      },
      "source": [
        "**Step 2: Training the model**\n",
        "\n",
        "We will use model.fit() to train the model. We will set our batch_size to 1000, which means the model will train int(23000/1000) batches each epoch. In other words, at each epoch the model will train 23 batches, each one consisting of 1000 movie reviews."
      ]
    },
    {
      "cell_type": "code",
      "metadata": {
        "colab": {
          "base_uri": "https://localhost:8080/"
        },
        "id": "Fgp3GWqiySHB",
        "outputId": "8700ceeb-3ab5-4dee-ecbd-611bab8e5e10"
      },
      "source": [
        "history = model.fit(train_x, train_y, epochs=6, batch_size=1000, validation_data=(validation_x, validation_y))"
      ],
      "execution_count": 37,
      "outputs": [
        {
          "output_type": "stream",
          "name": "stdout",
          "text": [
            "Epoch 1/6\n",
            "23/23 [==============================] - 185s 8s/step - loss: 0.6504 - accuracy: 0.6257 - val_loss: 0.5766 - val_accuracy: 0.7765\n",
            "Epoch 2/6\n",
            "23/23 [==============================] - 180s 8s/step - loss: 0.4806 - accuracy: 0.8130 - val_loss: 0.4285 - val_accuracy: 0.8185\n",
            "Epoch 3/6\n",
            "23/23 [==============================] - 180s 8s/step - loss: 0.3320 - accuracy: 0.8672 - val_loss: 0.3595 - val_accuracy: 0.8430\n",
            "Epoch 4/6\n",
            "23/23 [==============================] - 195s 8s/step - loss: 0.2364 - accuracy: 0.9097 - val_loss: 0.3245 - val_accuracy: 0.8720\n",
            "Epoch 5/6\n",
            "23/23 [==============================] - 181s 8s/step - loss: 0.1776 - accuracy: 0.9377 - val_loss: 0.3312 - val_accuracy: 0.8725\n",
            "Epoch 6/6\n",
            "23/23 [==============================] - 180s 8s/step - loss: 0.1410 - accuracy: 0.9540 - val_loss: 0.3374 - val_accuracy: 0.8745\n"
          ]
        }
      ]
    },
    {
      "cell_type": "markdown",
      "metadata": {
        "id": "2OaWng6v835A"
      },
      "source": [
        "**Step 3: Visualize the model plot**"
      ]
    },
    {
      "cell_type": "code",
      "metadata": {
        "colab": {
          "base_uri": "https://localhost:8080/"
        },
        "id": "R6xASJOM897O",
        "outputId": "b9dca6d4-d5e6-43b0-cb40-e545214a1d02"
      },
      "source": [
        "pip install plot_keras_history"
      ],
      "execution_count": 38,
      "outputs": [
        {
          "output_type": "stream",
          "name": "stdout",
          "text": [
            "Looking in indexes: https://pypi.org/simple, https://us-python.pkg.dev/colab-wheels/public/simple/\n",
            "Requirement already satisfied: plot_keras_history in /usr/local/lib/python3.9/dist-packages (1.1.38)\n",
            "Requirement already satisfied: scipy in /usr/local/lib/python3.9/dist-packages (from plot_keras_history) (1.10.1)\n",
            "Requirement already satisfied: pandas in /usr/local/lib/python3.9/dist-packages (from plot_keras_history) (1.3.5)\n",
            "Requirement already satisfied: sanitize-ml-labels>=1.0.48 in /usr/local/lib/python3.9/dist-packages (from plot_keras_history) (1.0.50)\n",
            "Requirement already satisfied: support-developer>=1.0.2 in /usr/local/lib/python3.9/dist-packages (from plot_keras_history) (1.0.5)\n",
            "Requirement already satisfied: matplotlib in /usr/local/lib/python3.9/dist-packages (from plot_keras_history) (3.5.3)\n",
            "Requirement already satisfied: compress-json in /usr/local/lib/python3.9/dist-packages (from sanitize-ml-labels>=1.0.48->plot_keras_history) (1.0.8)\n",
            "Requirement already satisfied: cycler>=0.10 in /usr/local/lib/python3.9/dist-packages (from matplotlib->plot_keras_history) (0.11.0)\n",
            "Requirement already satisfied: packaging>=20.0 in /usr/local/lib/python3.9/dist-packages (from matplotlib->plot_keras_history) (23.0)\n",
            "Requirement already satisfied: pyparsing>=2.2.1 in /usr/local/lib/python3.9/dist-packages (from matplotlib->plot_keras_history) (3.0.9)\n",
            "Requirement already satisfied: pillow>=6.2.0 in /usr/local/lib/python3.9/dist-packages (from matplotlib->plot_keras_history) (8.4.0)\n",
            "Requirement already satisfied: python-dateutil>=2.7 in /usr/local/lib/python3.9/dist-packages (from matplotlib->plot_keras_history) (2.8.2)\n",
            "Requirement already satisfied: kiwisolver>=1.0.1 in /usr/local/lib/python3.9/dist-packages (from matplotlib->plot_keras_history) (1.4.4)\n",
            "Requirement already satisfied: numpy>=1.17 in /usr/local/lib/python3.9/dist-packages (from matplotlib->plot_keras_history) (1.22.4)\n",
            "Requirement already satisfied: fonttools>=4.22.0 in /usr/local/lib/python3.9/dist-packages (from matplotlib->plot_keras_history) (4.39.0)\n",
            "Requirement already satisfied: pytz>=2017.3 in /usr/local/lib/python3.9/dist-packages (from pandas->plot_keras_history) (2022.7.1)\n",
            "Requirement already satisfied: six>=1.5 in /usr/local/lib/python3.9/dist-packages (from python-dateutil>=2.7->matplotlib->plot_keras_history) (1.15.0)\n"
          ]
        }
      ]
    },
    {
      "cell_type": "code",
      "metadata": {
        "id": "0-Qq9lwGDHVl"
      },
      "source": [
        "from plot_keras_history import plot_history\n",
        "import matplotlib.pyplot as plt"
      ],
      "execution_count": 39,
      "outputs": []
    },
    {
      "cell_type": "code",
      "metadata": {
        "colab": {
          "base_uri": "https://localhost:8080/",
          "height": 528
        },
        "id": "6jS3_xzmDJmk",
        "outputId": "26509b2a-1ab9-451a-d003-f8a4479b3626"
      },
      "source": [
        "plot_history(history.history, path=\"standard.png\")\n",
        "plt.show()"
      ],
      "execution_count": 40,
      "outputs": [
        {
          "output_type": "display_data",
          "data": {
            "text/plain": [
              "<Figure size 1000x500 with 2 Axes>"
            ],
            "image/png": "[encoded data removed]"
          },
          "metadata": {
            "needs_background": "light"
          }
        }
      ]
    },
    {
      "cell_type": "markdown",
      "metadata": {
        "id": "8Xy45WzGCkFJ"
      },
      "source": [
        "**Based on the accuracy plot, what do you think the optimal stopping point for your model should\n",
        "have been?**"
      ]
    },
    {
      "cell_type": "markdown",
      "metadata": {
        "id": "uMQJAolZWVLx"
      },
      "source": [
        "### **5. Evaluating the Model on the Test Data**\n",
        "\n",
        "Evaluate the model on the padded test data using the code in the following cell block."
      ]
    },
    {
      "cell_type": "code",
      "metadata": {
        "id": "fi0JmuY-Tlsp",
        "colab": {
          "base_uri": "https://localhost:8080/"
        },
        "outputId": "e6237c97-c9e3-4cbf-faba-cb9498988652"
      },
      "source": [
        "results = model.evaluate(padded_test_data, test_labels)\n",
        "print('test_loss:', results[0], 'test_accuracy:', results[1])"
      ],
      "execution_count": 41,
      "outputs": [
        {
          "output_type": "stream",
          "name": "stdout",
          "text": [
            "782/782 [==============================] - 117s 149ms/step - loss: 0.3392 - accuracy: 0.8685\n",
            "test_loss: 0.3391740322113037 test_accuracy: 0.8685200214385986\n"
          ]
        }
      ]
    },
    {
      "cell_type": "markdown",
      "metadata": {
        "id": "zbOcZD6igpxy"
      },
      "source": [
        "###**6. Extracting the Word Embeddings**\n",
        "\n",
        "Extract the word embeddings from the embedding layer model like we did in the last lab. \n",
        "\n",
        "**Hints**\n",
        "\n",
        "*  You can use model.get_layer(layer_name).get_weights()[0] or model.layers[layer_number].get_weights()[0].  The layer number indicates the order in which the layers were added to the model.\n",
        "\n",
        "*  If you didn't explicitly name your layers, you can check layer names and numbers about the order from model.summary() or by calling model.layers"
      ]
    },
    {
      "cell_type": "code",
      "metadata": {
        "id": "dVG1le_LWBtq"
      },
      "source": [
        "word_embeddings = model.get_layer('review_embedding').get_weights()[0]"
      ],
      "execution_count": 42,
      "outputs": []
    },
    {
      "cell_type": "markdown",
      "metadata": {
        "id": "fXzDQ-7IE5Ou"
      },
      "source": [
        "***Sanity Check***\n",
        "\n",
        "Print the shape of the word embeddings using the line of code below. It should return (VOCAB_SIZE, EMBED_SIZE)"
      ]
    },
    {
      "cell_type": "code",
      "metadata": {
        "colab": {
          "base_uri": "https://localhost:8080/"
        },
        "id": "swJFPaX_E4f0",
        "outputId": "4b65cc95-9e87-4acd-dff5-95ed94a29a28"
      },
      "source": [
        "print('Shape of word_embeddings:', word_embeddings.shape)"
      ],
      "execution_count": 43,
      "outputs": [
        {
          "output_type": "stream",
          "name": "stdout",
          "text": [
            "Shape of word_embeddings: (10000, 100)\n"
          ]
        }
      ]
    },
    {
      "cell_type": "markdown",
      "metadata": {
        "id": "Bwz_8kTZ6UVF"
      },
      "source": [
        "###**7. Visualizing the Reviews**\n",
        "\n",
        "In this section, we will view the effects of padding the dataset. \n",
        "\n",
        "As mentioned before, Keras already preprocessed the corpus. In this preprocessed corpus, all the words have already been mapped to indices and were assigned these numbers in order of their frequency such that index 2 is the 2nd most frequent word in the dataset, and so on. However, when we loaded our training dataset, we reserved the first 3 indices - 0, 1, 2 - for \\<PAD\\>, \\<START\\> and \\<UNK\\>. Additionally, we limited our vocabulary to only the top 10000 most frequent words (9997 if you exclude the padding). We will now visualize what a movie review will look like with these changes\n",
        "\n"
      ]
    },
    {
      "cell_type": "markdown",
      "metadata": {
        "id": "lOmorAwXGZS9"
      },
      "source": [
        "\n",
        "**Step 1: Create a word2idx dictionary**\n",
        "\n",
        "Create the word2idx dictionary using the following lines of code."
      ]
    },
    {
      "cell_type": "code",
      "metadata": {
        "id": "AtU7lOD6GYtB"
      },
      "source": [
        "# in this dictionary, the words start from 1, 0 is reserved for padding but \n",
        "# <start> and <unknown> are not accounted for.\n",
        "word_indices = imdb.get_word_index()\n",
        "\n",
        "# so we shift each original word two places to make room for the two new tokens\n",
        "offset = 2\n",
        "word2idx = {k:(v+offset) for k,v in word_indices.items() if v < 9998}\n",
        "word2idx[\"<PAD>\"] = 0\n",
        "word2idx[\"<START>\"] = 1\n",
        "word2idx[\"<UNK>\"] = 2"
      ],
      "execution_count": 44,
      "outputs": []
    },
    {
      "cell_type": "markdown",
      "metadata": {
        "id": "H3oZeE74HCvL"
      },
      "source": [
        "\n",
        "**Step 2: Create a the idx2word dictionary**"
      ]
    },
    {
      "cell_type": "code",
      "metadata": {
        "id": "F0sWRDRIHIzp"
      },
      "source": [
        "idx2word = {value: key for key, value in word2idx.items()}"
      ],
      "execution_count": 45,
      "outputs": []
    },
    {
      "cell_type": "markdown",
      "metadata": {
        "id": "p7aGrCU1HTN0"
      },
      "source": [
        "\n",
        "**Step 3: Visualize sample review**\n",
        "\n",
        "View a sample review text using the lines of code below:"
      ]
    },
    {
      "cell_type": "code",
      "metadata": {
        "colab": {
          "base_uri": "https://localhost:8080/"
        },
        "id": "TgRbMGG3G8jb",
        "outputId": "fe92a5e0-09b7-42c8-dc04-ea72bdd6b0dc"
      },
      "source": [
        "print(' '.join(idx2word[idx] for idx in train_data[0]))"
      ],
      "execution_count": 46,
      "outputs": [
        {
          "output_type": "stream",
          "name": "stdout",
          "text": [
            "<START> this film was just brilliant casting location scenery story direction everyone's really suited the part they played and you could just imagine being there robert <UNK> is an amazing actor and now the same being director <UNK> father came from the same scottish island as myself so i loved the fact there was a real connection with this film the witty remarks throughout the film were great it was just brilliant so much that i bought the film as soon as it was released for <UNK> and would recommend it to everyone to watch and the fly fishing was amazing really cried at the end it was so sad and you know what they say if you cry at a film it must have been good and this definitely was also <UNK> to the two little boy's that played the <UNK> of norman and paul they were just brilliant children are often left out of the <UNK> list i think because the stars that play them all grown up are such a big profile for the whole film but these children are amazing and should be praised for what they have done don't you think the whole story was so lovely because it was true and was someone's life after all that was shared with us all\n"
          ]
        }
      ]
    },
    {
      "cell_type": "markdown",
      "metadata": {
        "id": "TFs4QSdFJrWL"
      },
      "source": [
        "###**8. Visualizing the Word_Embeddings**\n",
        "\n",
        "Visualize the word embeddings for 10 of the words using pandas DataFrame like we did in lab 3"
      ]
    },
    {
      "cell_type": "code",
      "metadata": {
        "colab": {
          "base_uri": "https://localhost:8080/",
          "height": 456
        },
        "id": "2IBvttx-J9re",
        "outputId": "a06d10a2-139e-487c-fd52-5adf7b8ecb1e"
      },
      "source": [
        "from pandas import DataFrame\n",
        "DataFrame(word_embeddings, index=idx2word.values()).head(10)"
      ],
      "execution_count": 47,
      "outputs": [
        {
          "output_type": "execute_result",
          "data": {
            "text/plain": [
              "                 0         1         2         3         4         5   \\\n",
              "woods      0.000601  0.000945 -0.021320 -0.004098 -0.021259  0.011868   \n",
              "hanging   -0.026861  0.063367 -0.051333 -0.060490 -0.054129  0.074292   \n",
              "woody     -0.007530 -0.006340  0.019790  0.028860 -0.013427 -0.022742   \n",
              "arranged   0.009473  0.022456 -0.006852  0.019691 -0.026949 -0.003708   \n",
              "bringing  -0.016416  0.024680  0.010993 -0.006952 -0.003206  0.002765   \n",
              "wooden    -0.015811  0.019225 -0.008179  0.015792  0.000845 -0.016124   \n",
              "errors    -0.010404  0.006657  0.007894  0.000725 -0.006471 -0.017588   \n",
              "dialogs    0.013291  0.013677  0.004431  0.013441 -0.005060 -0.009885   \n",
              "kids      -0.022943  0.018040 -0.009671  0.007144 -0.027824 -0.004193   \n",
              "uplifting -0.012120  0.013991  0.009245  0.018627 -0.018712 -0.000075   \n",
              "\n",
              "                 6         7         8         9   ...        90        91  \\\n",
              "woods      0.021337  0.015391 -0.003480  0.028478  ... -0.016955 -0.030037   \n",
              "hanging   -0.020671 -0.026216 -0.048625  0.052723  ...  0.035941 -0.039356   \n",
              "woody      0.001086 -0.013271  0.004254 -0.003621  ...  0.019519  0.003163   \n",
              "arranged  -0.016770 -0.023980 -0.020560  0.013477  ...  0.013955 -0.014196   \n",
              "bringing   0.010543 -0.013786 -0.019455 -0.002656  ... -0.000190  0.026367   \n",
              "wooden     0.006271  0.001958 -0.019171  0.020323  ... -0.001128  0.000686   \n",
              "errors    -0.022613  0.025193  0.010893 -0.018381  ... -0.019442  0.034489   \n",
              "dialogs    0.022585  0.017466 -0.002206  0.008888  ...  0.009694  0.007756   \n",
              "kids       0.002403 -0.014852 -0.003244  0.018948  ... -0.006271  0.010000   \n",
              "uplifting -0.003951 -0.015215  0.018587 -0.020435  ... -0.026583 -0.021197   \n",
              "\n",
              "                 92        93        94        95        96        97  \\\n",
              "woods      0.006787  0.023323  0.005835 -0.014636 -0.036231  0.011355   \n",
              "hanging   -0.033589  0.034414 -0.059424 -0.023144 -0.036806 -0.041671   \n",
              "woody      0.009755 -0.008683  0.000452  0.007754 -0.005921 -0.017992   \n",
              "arranged   0.006756 -0.008234 -0.022574  0.006677  0.020107  0.017610   \n",
              "bringing  -0.001426 -0.003348 -0.032462 -0.002806  0.022849 -0.033722   \n",
              "wooden    -0.007381  0.010196 -0.013127 -0.012133  0.006963 -0.024892   \n",
              "errors     0.016971 -0.036992 -0.008910 -0.012803  0.031980 -0.009100   \n",
              "dialogs   -0.021820 -0.027599 -0.012362  0.005824  0.024916 -0.010937   \n",
              "kids      -0.029611  0.007782 -0.016781 -0.027125 -0.009469  0.002284   \n",
              "uplifting -0.016719  0.013224  0.028437 -0.008601 -0.006030 -0.007002   \n",
              "\n",
              "                 98        99  \n",
              "woods      0.009961 -0.013322  \n",
              "hanging   -0.036733  0.045385  \n",
              "woody      0.006376 -0.019987  \n",
              "arranged  -0.008497  0.019663  \n",
              "bringing  -0.021747  0.006916  \n",
              "wooden    -0.011972 -0.002125  \n",
              "errors    -0.003295  0.001474  \n",
              "dialogs    0.006124  0.011218  \n",
              "kids      -0.019224  0.009649  \n",
              "uplifting  0.037080 -0.008447  \n",
              "\n",
              "[10 rows x 100 columns]"
            ],
            "text/html": [
              "\n",
              "  <div id=\"df-7a5b9933-a78b-4233-a2f2-60413bd547b5\">\n",
              "    <div class=\"colab-df-container\">\n",
              "      <div>\n",
              "<style scoped>\n",
              "    .dataframe tbody tr th:only-of-type {\n",
              "        vertical-align: middle;\n",
              "    }\n",
              "\n",
              "    .dataframe tbody tr th {\n",
              "        vertical-align: top;\n",
              "    }\n",
              "\n",
              "    .dataframe thead th {\n",
              "        text-align: right;\n",
              "    }\n",
              "</style>\n",
              "<table border=\"1\" class=\"dataframe\">\n",
              "  <thead>\n",
              "    <tr style=\"text-align: right;\">\n",
              "      <th></th>\n",
              "      <th>0</th>\n",
              "      <th>1</th>\n",
              "      <th>2</th>\n",
              "      <th>3</th>\n",
              "      <th>4</th>\n",
              "      <th>5</th>\n",
              "      <th>6</th>\n",
              "      <th>7</th>\n",
              "      <th>8</th>\n",
              "      <th>9</th>\n",
              "      <th>...</th>\n",
              "      <th>90</th>\n",
              "      <th>91</th>\n",
              "      <th>92</th>\n",
              "      <th>93</th>\n",
              "      <th>94</th>\n",
              "      <th>95</th>\n",
              "      <th>96</th>\n",
              "      <th>97</th>\n",
              "      <th>98</th>\n",
              "      <th>99</th>\n",
              "    </tr>\n",
              "  </thead>\n",
              "  <tbody>\n",
              "    <tr>\n",
              "      <th>woods</th>\n",
              "      <td>0.000601</td>\n",
              "      <td>0.000945</td>\n",
              "      <td>-0.021320</td>\n",
              "      <td>-0.004098</td>\n",
              "      <td>-0.021259</td>\n",
              "      <td>0.011868</td>\n",
              "      <td>0.021337</td>\n",
              "      <td>0.015391</td>\n",
              "      <td>-0.003480</td>\n",
              "      <td>0.028478</td>\n",
              "      <td>...</td>\n",
              "      <td>-0.016955</td>\n",
              "      <td>-0.030037</td>\n",
              "      <td>0.006787</td>\n",
              "      <td>0.023323</td>\n",
              "      <td>0.005835</td>\n",
              "      <td>-0.014636</td>\n",
              "      <td>-0.036231</td>\n",
              "      <td>0.011355</td>\n",
              "      <td>0.009961</td>\n",
              "      <td>-0.013322</td>\n",
              "    </tr>\n",
              "    <tr>\n",
              "      <th>hanging</th>\n",
              "      <td>-0.026861</td>\n",
              "      <td>0.063367</td>\n",
              "      <td>-0.051333</td>\n",
              "      <td>-0.060490</td>\n",
              "      <td>-0.054129</td>\n",
              "      <td>0.074292</td>\n",
              "      <td>-0.020671</td>\n",
              "      <td>-0.026216</td>\n",
              "      <td>-0.048625</td>\n",
              "      <td>0.052723</td>\n",
              "      <td>...</td>\n",
              "      <td>0.035941</td>\n",
              "      <td>-0.039356</td>\n",
              "      <td>-0.033589</td>\n",
              "      <td>0.034414</td>\n",
              "      <td>-0.059424</td>\n",
              "      <td>-0.023144</td>\n",
              "      <td>-0.036806</td>\n",
              "      <td>-0.041671</td>\n",
              "      <td>-0.036733</td>\n",
              "      <td>0.045385</td>\n",
              "    </tr>\n",
              "    <tr>\n",
              "      <th>woody</th>\n",
              "      <td>-0.007530</td>\n",
              "      <td>-0.006340</td>\n",
              "      <td>0.019790</td>\n",
              "      <td>0.028860</td>\n",
              "      <td>-0.013427</td>\n",
              "      <td>-0.022742</td>\n",
              "      <td>0.001086</td>\n",
              "      <td>-0.013271</td>\n",
              "      <td>0.004254</td>\n",
              "      <td>-0.003621</td>\n",
              "      <td>...</td>\n",
              "      <td>0.019519</td>\n",
              "      <td>0.003163</td>\n",
              "      <td>0.009755</td>\n",
              "      <td>-0.008683</td>\n",
              "      <td>0.000452</td>\n",
              "      <td>0.007754</td>\n",
              "      <td>-0.005921</td>\n",
              "      <td>-0.017992</td>\n",
              "      <td>0.006376</td>\n",
              "      <td>-0.019987</td>\n",
              "    </tr>\n",
              "    <tr>\n",
              "      <th>arranged</th>\n",
              "      <td>0.009473</td>\n",
              "      <td>0.022456</td>\n",
              "      <td>-0.006852</td>\n",
              "      <td>0.019691</td>\n",
              "      <td>-0.026949</td>\n",
              "      <td>-0.003708</td>\n",
              "      <td>-0.016770</td>\n",
              "      <td>-0.023980</td>\n",
              "      <td>-0.020560</td>\n",
              "      <td>0.013477</td>\n",
              "      <td>...</td>\n",
              "      <td>0.013955</td>\n",
              "      <td>-0.014196</td>\n",
              "      <td>0.006756</td>\n",
              "      <td>-0.008234</td>\n",
              "      <td>-0.022574</td>\n",
              "      <td>0.006677</td>\n",
              "      <td>0.020107</td>\n",
              "      <td>0.017610</td>\n",
              "      <td>-0.008497</td>\n",
              "      <td>0.019663</td>\n",
              "    </tr>\n",
              "    <tr>\n",
              "      <th>bringing</th>\n",
              "      <td>-0.016416</td>\n",
              "      <td>0.024680</td>\n",
              "      <td>0.010993</td>\n",
              "      <td>-0.006952</td>\n",
              "      <td>-0.003206</td>\n",
              "      <td>0.002765</td>\n",
              "      <td>0.010543</td>\n",
              "      <td>-0.013786</td>\n",
              "      <td>-0.019455</td>\n",
              "      <td>-0.002656</td>\n",
              "      <td>...</td>\n",
              "      <td>-0.000190</td>\n",
              "      <td>0.026367</td>\n",
              "      <td>-0.001426</td>\n",
              "      <td>-0.003348</td>\n",
              "      <td>-0.032462</td>\n",
              "      <td>-0.002806</td>\n",
              "      <td>0.022849</td>\n",
              "      <td>-0.033722</td>\n",
              "      <td>-0.021747</td>\n",
              "      <td>0.006916</td>\n",
              "    </tr>\n",
              "    <tr>\n",
              "      <th>wooden</th>\n",
              "      <td>-0.015811</td>\n",
              "      <td>0.019225</td>\n",
              "      <td>-0.008179</td>\n",
              "      <td>0.015792</td>\n",
              "      <td>0.000845</td>\n",
              "      <td>-0.016124</td>\n",
              "      <td>0.006271</td>\n",
              "      <td>0.001958</td>\n",
              "      <td>-0.019171</td>\n",
              "      <td>0.020323</td>\n",
              "      <td>...</td>\n",
              "      <td>-0.001128</td>\n",
              "      <td>0.000686</td>\n",
              "      <td>-0.007381</td>\n",
              "      <td>0.010196</td>\n",
              "      <td>-0.013127</td>\n",
              "      <td>-0.012133</td>\n",
              "      <td>0.006963</td>\n",
              "      <td>-0.024892</td>\n",
              "      <td>-0.011972</td>\n",
              "      <td>-0.002125</td>\n",
              "    </tr>\n",
              "    <tr>\n",
              "      <th>errors</th>\n",
              "      <td>-0.010404</td>\n",
              "      <td>0.006657</td>\n",
              "      <td>0.007894</td>\n",
              "      <td>0.000725</td>\n",
              "      <td>-0.006471</td>\n",
              "      <td>-0.017588</td>\n",
              "      <td>-0.022613</td>\n",
              "      <td>0.025193</td>\n",
              "      <td>0.010893</td>\n",
              "      <td>-0.018381</td>\n",
              "      <td>...</td>\n",
              "      <td>-0.019442</td>\n",
              "      <td>0.034489</td>\n",
              "      <td>0.016971</td>\n",
              "      <td>-0.036992</td>\n",
              "      <td>-0.008910</td>\n",
              "      <td>-0.012803</td>\n",
              "      <td>0.031980</td>\n",
              "      <td>-0.009100</td>\n",
              "      <td>-0.003295</td>\n",
              "      <td>0.001474</td>\n",
              "    </tr>\n",
              "    <tr>\n",
              "      <th>dialogs</th>\n",
              "      <td>0.013291</td>\n",
              "      <td>0.013677</td>\n",
              "      <td>0.004431</td>\n",
              "      <td>0.013441</td>\n",
              "      <td>-0.005060</td>\n",
              "      <td>-0.009885</td>\n",
              "      <td>0.022585</td>\n",
              "      <td>0.017466</td>\n",
              "      <td>-0.002206</td>\n",
              "      <td>0.008888</td>\n",
              "      <td>...</td>\n",
              "      <td>0.009694</td>\n",
              "      <td>0.007756</td>\n",
              "      <td>-0.021820</td>\n",
              "      <td>-0.027599</td>\n",
              "      <td>-0.012362</td>\n",
              "      <td>0.005824</td>\n",
              "      <td>0.024916</td>\n",
              "      <td>-0.010937</td>\n",
              "      <td>0.006124</td>\n",
              "      <td>0.011218</td>\n",
              "    </tr>\n",
              "    <tr>\n",
              "      <th>kids</th>\n",
              "      <td>-0.022943</td>\n",
              "      <td>0.018040</td>\n",
              "      <td>-0.009671</td>\n",
              "      <td>0.007144</td>\n",
              "      <td>-0.027824</td>\n",
              "      <td>-0.004193</td>\n",
              "      <td>0.002403</td>\n",
              "      <td>-0.014852</td>\n",
              "      <td>-0.003244</td>\n",
              "      <td>0.018948</td>\n",
              "      <td>...</td>\n",
              "      <td>-0.006271</td>\n",
              "      <td>0.010000</td>\n",
              "      <td>-0.029611</td>\n",
              "      <td>0.007782</td>\n",
              "      <td>-0.016781</td>\n",
              "      <td>-0.027125</td>\n",
              "      <td>-0.009469</td>\n",
              "      <td>0.002284</td>\n",
              "      <td>-0.019224</td>\n",
              "      <td>0.009649</td>\n",
              "    </tr>\n",
              "    <tr>\n",
              "      <th>uplifting</th>\n",
              "      <td>-0.012120</td>\n",
              "      <td>0.013991</td>\n",
              "      <td>0.009245</td>\n",
              "      <td>0.018627</td>\n",
              "      <td>-0.018712</td>\n",
              "      <td>-0.000075</td>\n",
              "      <td>-0.003951</td>\n",
              "      <td>-0.015215</td>\n",
              "      <td>0.018587</td>\n",
              "      <td>-0.020435</td>\n",
              "      <td>...</td>\n",
              "      <td>-0.026583</td>\n",
              "      <td>-0.021197</td>\n",
              "      <td>-0.016719</td>\n",
              "      <td>0.013224</td>\n",
              "      <td>0.028437</td>\n",
              "      <td>-0.008601</td>\n",
              "      <td>-0.006030</td>\n",
              "      <td>-0.007002</td>\n",
              "      <td>0.037080</td>\n",
              "      <td>-0.008447</td>\n",
              "    </tr>\n",
              "  </tbody>\n",
              "</table>\n",
              "<p>10 rows × 100 columns</p>\n",
              "</div>\n",
              "      <button class=\"colab-df-convert\" onclick=\"convertToInteractive('df-7a5b9933-a78b-4233-a2f2-60413bd547b5')\"\n",
              "              title=\"Convert this dataframe to an interactive table.\"\n",
              "              style=\"display:none;\">\n",
              "        \n",
              "  <svg xmlns=\"http://www.w3.org/2000/svg\" height=\"24px\"viewBox=\"0 0 24 24\"\n",
              "       width=\"24px\">\n",
              "    <path d=\"M0 0h24v24H0V0z\" fill=\"none\"/>\n",
              "    <path d=\"M18.56 5.44l.94 2.06.94-2.06 2.06-.94-2.06-.94-.94-2.06-.94 2.06-2.06.94zm-11 1L8.5 8.5l.94-2.06 2.06-.94-2.06-.94L8.5 2.5l-.94 2.06-2.06.94zm10 10l.94 2.06.94-2.06 2.06-.94-2.06-.94-.94-2.06-.94 2.06-2.06.94z\"/><path d=\"M17.41 7.96l-1.37-1.37c-.4-.4-.92-.59-1.43-.59-.52 0-1.04.2-1.43.59L10.3 9.45l-7.72 7.72c-.78.78-.78 2.05 0 2.83L4 21.41c.39.39.9.59 1.41.59.51 0 1.02-.2 1.41-.59l7.78-7.78 2.81-2.81c.8-.78.8-2.07 0-2.86zM5.41 20L4 18.59l7.72-7.72 1.47 1.35L5.41 20z\"/>\n",
              "  </svg>\n",
              "      </button>\n",
              "      \n",
              "  <style>\n",
              "    .colab-df-container {\n",
              "      display:flex;\n",
              "      flex-wrap:wrap;\n",
              "      gap: 12px;\n",
              "    }\n",
              "\n",
              "    .colab-df-convert {\n",
              "      background-color: #E8F0FE;\n",
              "      border: none;\n",
              "      border-radius: 50%;\n",
              "      cursor: pointer;\n",
              "      display: none;\n",
              "      fill: #1967D2;\n",
              "      height: 32px;\n",
              "      padding: 0 0 0 0;\n",
              "      width: 32px;\n",
              "    }\n",
              "\n",
              "    .colab-df-convert:hover {\n",
              "      background-color: #E2EBFA;\n",
              "      box-shadow: 0px 1px 2px rgba(60, 64, 67, 0.3), 0px 1px 3px 1px rgba(60, 64, 67, 0.15);\n",
              "      fill: #174EA6;\n",
              "    }\n",
              "\n",
              "    [theme=dark] .colab-df-convert {\n",
              "      background-color: #3B4455;\n",
              "      fill: #D2E3FC;\n",
              "    }\n",
              "\n",
              "    [theme=dark] .colab-df-convert:hover {\n",
              "      background-color: #434B5C;\n",
              "      box-shadow: 0px 1px 3px 1px rgba(0, 0, 0, 0.15);\n",
              "      filter: drop-shadow(0px 1px 2px rgba(0, 0, 0, 0.3));\n",
              "      fill: #FFFFFF;\n",
              "    }\n",
              "  </style>\n",
              "\n",
              "      <script>\n",
              "        const buttonEl =\n",
              "          document.querySelector('#df-7a5b9933-a78b-4233-a2f2-60413bd547b5 button.colab-df-convert');\n",
              "        buttonEl.style.display =\n",
              "          google.colab.kernel.accessAllowed ? 'block' : 'none';\n",
              "\n",
              "        async function convertToInteractive(key) {\n",
              "          const element = document.querySelector('#df-7a5b9933-a78b-4233-a2f2-60413bd547b5');\n",
              "          const dataTable =\n",
              "            await google.colab.kernel.invokeFunction('convertToInteractive',\n",
              "                                                     [key], {});\n",
              "          if (!dataTable) return;\n",
              "\n",
              "          const docLinkHtml = 'Like what you see? Visit the ' +\n",
              "            '<a target=\"_blank\" href=https://colab.research.google.com/notebooks/data_table.ipynb>data table notebook</a>'\n",
              "            + ' to learn more about interactive tables.';\n",
              "          element.innerHTML = '';\n",
              "          dataTable['output_type'] = 'display_data';\n",
              "          await google.colab.output.renderOutput(dataTable, element);\n",
              "          const docLink = document.createElement('div');\n",
              "          docLink.innerHTML = docLinkHtml;\n",
              "          element.appendChild(docLink);\n",
              "        }\n",
              "      </script>\n",
              "    </div>\n",
              "  </div>\n",
              "  "
            ]
          },
          "metadata": {},
          "execution_count": 47
        }
      ]
    },
    {
      "cell_type": "markdown",
      "metadata": {
        "id": "k0fyfgvB90G5"
      },
      "source": [
        "###**9. Plot your Word Embeddings using t-SNE**\n"
      ]
    },
    {
      "cell_type": "code",
      "metadata": {
        "colab": {
          "base_uri": "https://localhost:8080/",
          "height": 483
        },
        "id": "JRPHIYEgGXRh",
        "outputId": "15cef8e1-e33a-4255-da69-e9e492e780e1"
      },
      "source": [
        "from sklearn.manifold import TSNE\n",
        "import matplotlib.pyplot as plt\n",
        "import numpy as np\n",
        "\n",
        "tsne = TSNE(perplexity=3, n_components=2, init='pca', n_iter=5000, method='exact')\n",
        "np.set_printoptions(suppress=True)\n",
        "plot_only = 50\n",
        "\n",
        "# don't plot the special tokens\n",
        "start = 3\n",
        "T = tsne.fit_transform(word_embeddings[start:plot_only, :])\n",
        "labels = [idx2word[i] for i in range(start, plot_only)]\n",
        "plt.figure(figsize=(14, 8))\n",
        "plt.scatter(T[:, 0], T[:, 1])\n",
        "for label, x, y in zip(labels, T[:, 0], T[:, 1]):\n",
        "    plt.annotate(label, xy=(x+1, y+1), xytext=(0, 0), textcoords='offset points', ha='right', va='bottom')                      \t                        \n"
      ],
      "execution_count": 48,
      "outputs": [
        {
          "output_type": "display_data",
          "data": {
            "text/plain": [
              "<Figure size 1008x576 with 1 Axes>"
            ],
            "image/png": "[encoded data removed]"
          },
          "metadata": {
            "needs_background": "light"
          }
        }
      ]
    },
    {
      "cell_type": "markdown",
      "metadata": {
        "id": "sHdy4PDVO8TN"
      },
      "source": [
        "###**10. Questions**\n",
        "\n",
        "1. Create a new model that is a copy of the model step 3. To this new model,add two dropout layers, one between the embedding layer and the LSTM layer and another between the LSTM layer and the output layer. Repeat steps 4 and 5 for this model. What do you observe?\n",
        "\n",
        "2. Experiment with training the model with batch sizes of 1, 32, len(training_data). What do you observe?\n",
        "\n",
        "3. (optional) Can you retrain with a Bidirectional LSTM instead of an LSTM? What do you observe about the Bi-LSTM model?\n"
      ]
    },
    {
      "cell_type": "code",
      "metadata": {
        "id": "dxvb_lmHZ0Qm",
        "colab": {
          "base_uri": "https://localhost:8080/"
        },
        "outputId": "78de097f-6a45-4430-e06b-b29b56a39fc5"
      },
      "source": [
        "from keras.layers import Dropout\n",
        "review_input = Input((MAX_LENGTH,), dtype=\"int32\")\n",
        "review_embedding = Embedding(\n",
        "    VOCAB_SIZE,\n",
        "    EMBED_SIZE,\n",
        "    name=\"review_embedding\",\n",
        "    embeddings_initializer=\"glorot_uniform\",\n",
        "    input_length=MAX_LENGTH,\n",
        ")(review_input)\n",
        "dropout_layer1 = Dropout(0.2)(review_embedding)\n",
        "final_lstm_step = LSTM(100, return_sequences=False)(dropout_layer1)\n",
        "label = Dense(1, activation='sigmoid')(final_lstm_step)\n",
        "final_label = Dropout(0.2)(label)\n",
        "model = Model(inputs=[review_input], outputs=[final_label])\n",
        "model.compile(\n",
        "    loss='binary_crossentropy', \n",
        "    optimizer='adam', \n",
        "    metrics=['accuracy'],\n",
        "    )\n",
        "\n",
        "history = model.fit(train_x, train_y, epochs=6, batch_size=1000, validation_data=(validation_x, validation_y))\n",
        "plot_history(history.history, path=\"standard.png\")\n",
        "plt.show()"
      ],
      "execution_count": null,
      "outputs": [
        {
          "output_type": "stream",
          "name": "stdout",
          "text": [
            "Epoch 1/6\n",
            "23/23 [==============================] - 225s 9s/step - loss: 2.0376 - accuracy: 0.5728 - val_loss: 0.6681 - val_accuracy: 0.5240\n",
            "Epoch 2/6\n",
            "23/23 [==============================] - 225s 10s/step - loss: 1.9261 - accuracy: 0.7187 - val_loss: 0.4038 - val_accuracy: 0.8400\n",
            "Epoch 3/6\n",
            "23/23 [==============================] - 209s 9s/step - loss: 1.7577 - accuracy: 0.8033 - val_loss: 0.3614 - val_accuracy: 0.8625\n",
            "Epoch 4/6\n",
            "22/23 [===========================>..] - ETA: 8s - loss: 1.7569 - accuracy: 0.8214 "
          ]
        }
      ]
    },
    {
      "cell_type": "code",
      "source": [
        "batch_sizes = [1, 32, len(train_data)]\n",
        "for batch_size in batch_sizes:\n",
        "    print(\"Training with batch size = {}\".format(batch_size))\n",
        "    history = model.fit(train_x, train_y, epochs=6, batch_size=batch_size, validation_data=(validation_x, validation_y))"
      ],
      "metadata": {
        "id": "7WpB5bJB_HKu"
      },
      "execution_count": null,
      "outputs": []
    }
  ]
}