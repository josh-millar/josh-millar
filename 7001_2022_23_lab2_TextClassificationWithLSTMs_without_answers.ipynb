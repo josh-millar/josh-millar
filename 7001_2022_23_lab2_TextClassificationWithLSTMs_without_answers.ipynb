{
  "nbformat": 4,
  "nbformat_minor": 0,
  "metadata": {
    "colab": {
      "provenance": [],
      "include_colab_link": true
    },
    "kernelspec": {
      "name": "python3",
      "display_name": "Python 3"
    }
  },
  "cells": [
    {
      "cell_type": "markdown",
      "metadata": {
        "id": "view-in-github",
        "colab_type": "text"
      },
      "source": [
        "<a href=\"https://colab.research.google.com/github/josh-millar/josh-millar/blob/main/7001_2022_23_lab2_TextClassificationWithLSTMs_without_answers.ipynb\" target=\"_parent\"><img src=\"https://colab.research.google.com/assets/colab-badge.svg\" alt=\"Open In Colab\"/></a>"
      ]
    },
    {
      "cell_type": "markdown",
      "metadata": {
        "id": "t_yvQBKrD8Se"
      },
      "source": [
        "# **ECS 7001 - NN & NNLP**\n",
        "\n",
        "## **Lab 2: LSTM for Text Classification**\n",
        "\n",
        "<br>\n",
        "\n",
        "**January 31st**\n",
        "\n",
        "In Lab 2, you trained word embeddings by casting the unsupervised learning problem as a binary classification problem (i.e. using the skip-gram model). This week, you will build an LSTM model to classify movie reviews as either positive or negative. After training, you will extract the word embeddings learned by the model.\n",
        "\n"
      ]
    },
    {
      "cell_type": "markdown",
      "metadata": {
        "id": "Ep2X91YdJpkG"
      },
      "source": [
        "### **0. Prepare the environment**\n",
        "\n",
        "Open Google Colab or activate the virtual environment you’ve created"
      ]
    },
    {
      "cell_type": "markdown",
      "metadata": {
        "id": "w6Pi5uvTLRCo"
      },
      "source": [
        "### **1. Getting the Dataset**\n",
        "\n",
        "You will be using the imdb dataset from Lab 0. This is a dataset of 25,000 movie reviews from IMDB, labeled by sentiment - positive (1) or negative (0). \n",
        "<br>\n",
        "\n",
        "The reviews have been preprocessed, and each review is encoded as a list of word indices. Last week, you assigned the indices to the word randomly (or in order of their first appearance in the corpus) but in this preprocessed corpus, the words are indexed by overall frequency in the dataset, such that a word with index 3 occurs more frequently than a word with index 10.\n",
        "<br>\n",
        "\n",
        "In the following blocks of code in this section, we will load and visualize the data.\n"
      ]
    },
    {
      "cell_type": "code",
      "metadata": {
        "id": "xn7sWMG-KoBV"
      },
      "source": [
        "from tensorflow.keras import datasets\n",
        "\n",
        "imdb = datasets.imdb"
      ],
      "execution_count": 26,
      "outputs": []
    },
    {
      "cell_type": "code",
      "metadata": {
        "id": "yCH0PmPcL83f"
      },
      "source": [
        "%%capture\n",
        "\n",
        "# we'll use the most frequent 10000 words in the vocabulary\n",
        "VOCAB_SIZE = 10000\n",
        "\n",
        "# 0 is reserved for ‘<PAD>’, 1 for ‘<START>’ and 2 for ‘<UNK>’ i.e. words not in vocabulary\n",
        "# the documentation says index_from = 3 but actually uses the value as an offset. The words\n",
        "# in the dictionary are indexed from 1 by default so, saying index_from=3 means any actual\n",
        "# words would start from 4 (1+3) and index 3 will be left unused. We use index_from=offset=2 to avoid this\n",
        "# If you want to explore this further, you may look up the source_code for load_data here\n",
        "# https://github.com/tensorflow/tensorflow/blob/v2.4.1/tensorflow/python/keras/datasets/imdb.py#L31-L162\n",
        "OFFSET = 2\n",
        "\n",
        "# for more information on the load_data method, type(help(load_data))\n",
        "(train_data,train_labels),(test_data,test_labels) = imdb.load_data(num_words=VOCAB_SIZE, index_from=OFFSET)"
      ],
      "execution_count": 27,
      "outputs": []
    },
    {
      "cell_type": "markdown",
      "metadata": {
        "id": "lVgaL5JIYBRm"
      },
      "source": [
        "***Sanity Check***\n",
        "\n",
        "Each instance in the training data is a list of word indices representing the words in a movie review.\n",
        "\n",
        "Each label is 1 if that review is positive, else 0."
      ]
    },
    {
      "cell_type": "code",
      "metadata": {
        "colab": {
          "base_uri": "https://localhost:8080/"
        },
        "id": "APFWiEejv9i5",
        "outputId": "19c8aca7-1341-45c0-da00-a608103fe522"
      },
      "source": [
        "print('Sample review:', train_data[0])"
      ],
      "execution_count": 28,
      "outputs": [
        {
          "output_type": "stream",
          "name": "stdout",
          "text": [
            "Sample review: [1, 13, 21, 15, 42, 529, 972, 1621, 1384, 64, 457, 4467, 65, 3940, 3, 172, 35, 255, 4, 24, 99, 42, 837, 111, 49, 669, 2, 8, 34, 479, 283, 4, 149, 3, 171, 111, 166, 2, 335, 384, 38, 3, 171, 4535, 1110, 16, 545, 37, 12, 446, 3, 191, 49, 15, 5, 146, 2024, 18, 13, 21, 3, 1919, 4612, 468, 3, 21, 70, 86, 11, 15, 42, 529, 37, 75, 14, 12, 1246, 3, 21, 16, 514, 16, 11, 15, 625, 17, 2, 4, 61, 385, 11, 7, 315, 7, 105, 4, 3, 2222, 5243, 15, 479, 65, 3784, 32, 3, 129, 11, 15, 37, 618, 4, 24, 123, 50, 35, 134, 47, 24, 1414, 32, 5, 21, 11, 214, 27, 76, 51, 4, 13, 406, 15, 81, 2, 7, 3, 106, 116, 5951, 14, 255, 3, 2, 6, 3765, 4, 722, 35, 70, 42, 529, 475, 25, 399, 316, 45, 6, 3, 2, 1028, 12, 103, 87, 3, 380, 14, 296, 97, 31, 2070, 55, 25, 140, 5, 193, 7485, 17, 3, 225, 21, 20, 133, 475, 25, 479, 4, 143, 29, 5534, 17, 50, 35, 27, 223, 91, 24, 103, 3, 225, 64, 15, 37, 1333, 87, 11, 15, 282, 4, 15, 4471, 112, 102, 31, 14, 15, 5344, 18, 177, 31]\n"
          ]
        }
      ]
    },
    {
      "cell_type": "code",
      "metadata": {
        "id": "CwgeiaF7n_lX",
        "colab": {
          "base_uri": "https://localhost:8080/"
        },
        "outputId": "f1b33109-b7f9-4f9c-d48d-3e941d02ae22"
      },
      "source": [
        "print('\\n Sample label:', train_labels[0])"
      ],
      "execution_count": 29,
      "outputs": [
        {
          "output_type": "stream",
          "name": "stdout",
          "text": [
            "\n",
            " Sample label: 1\n"
          ]
        }
      ]
    },
    {
      "cell_type": "markdown",
      "metadata": {
        "id": "4c14vElNvMGX"
      },
      "source": [
        "### **2. Readying the Inputs for the LSTM**\n",
        "\n",
        "The movie reviews are of different lengths. The standard way of dealing with varying length inputs is to ***pad*** or ***truncate*** each sentence to a fixed length (which we choose heuristically). \n",
        "\n",
        "Keras provides a way to do this.  In this section, you will use the keras.preprocessing.sequence method <pad_sequences> handle padding and truncating.\n",
        "\n",
        "**Hints**\n",
        "\n",
        "*  help(pad_sequences) will give you more information about how this works.\n",
        "*  You can experiment with 'pre' vs 'post' padding/truncating. In practice, 'pre' padding is more effective for our purposes; can you hypothesize about why this is?\n",
        "*  Since we have reserved 0 for \\<PAD\\>, your pad value should be set to 0.\n",
        "*  The maximum length has been specified below as MAX_LENGTH."
      ]
    },
    {
      "cell_type": "code",
      "metadata": {
        "id": "7XPwN_COagT9"
      },
      "source": [
        "# from keras.preprocessing.sequence import pad_sequences\n",
        "# from tensorflow.keras.preprocessing.sequence import pad_sequences\n",
        "# from keras_preprocessing.sequence import pad_sequences\n",
        "from tensorflow.keras.utils import pad_sequences\n",
        "\n",
        "\n",
        "MAX_LENGTH = 500\n",
        "\n",
        "padded_train_data = pad_sequences(train_data, maxlen=MAX_LENGTH, value=0, padding='pre')\n",
        "padded_test_data = pad_sequences(test_data, maxlen=MAX_LENGTH, value=0, padding='pre')"
      ],
      "execution_count": 30,
      "outputs": []
    },
    {
      "cell_type": "markdown",
      "metadata": {
        "id": "RhrUvhC2dO87"
      },
      "source": [
        "***Sanity Check***\n",
        "\n",
        "For the first training example, print its length and the padded sequence to see the effect of your padding process. \n",
        "\n",
        "PS: Pre-padding was used for the output you see below."
      ]
    },
    {
      "cell_type": "code",
      "metadata": {
        "colab": {
          "base_uri": "https://localhost:8080/"
        },
        "id": "DZb7keBfdKc_",
        "outputId": "074270f2-9d48-473d-e68c-27407afc727c"
      },
      "source": [
        "print('Length of sample train_data before preprocessing:', len(train_data[0]))\n",
        "print('Length of sample train_data after preprocessing:', len(padded_train_data[0]))\n",
        "print('Sample train data:', padded_train_data[0])"
      ],
      "execution_count": 31,
      "outputs": [
        {
          "output_type": "stream",
          "name": "stdout",
          "text": [
            "Length of sample train_data before preprocessing: 218\n",
            "Length of sample train_data after preprocessing: 500\n",
            "Sample train data: [   0    0    0    0    0    0    0    0    0    0    0    0    0    0\n",
            "    0    0    0    0    0    0    0    0    0    0    0    0    0    0\n",
            "    0    0    0    0    0    0    0    0    0    0    0    0    0    0\n",
            "    0    0    0    0    0    0    0    0    0    0    0    0    0    0\n",
            "    0    0    0    0    0    0    0    0    0    0    0    0    0    0\n",
            "    0    0    0    0    0    0    0    0    0    0    0    0    0    0\n",
            "    0    0    0    0    0    0    0    0    0    0    0    0    0    0\n",
            "    0    0    0    0    0    0    0    0    0    0    0    0    0    0\n",
            "    0    0    0    0    0    0    0    0    0    0    0    0    0    0\n",
            "    0    0    0    0    0    0    0    0    0    0    0    0    0    0\n",
            "    0    0    0    0    0    0    0    0    0    0    0    0    0    0\n",
            "    0    0    0    0    0    0    0    0    0    0    0    0    0    0\n",
            "    0    0    0    0    0    0    0    0    0    0    0    0    0    0\n",
            "    0    0    0    0    0    0    0    0    0    0    0    0    0    0\n",
            "    0    0    0    0    0    0    0    0    0    0    0    0    0    0\n",
            "    0    0    0    0    0    0    0    0    0    0    0    0    0    0\n",
            "    0    0    0    0    0    0    0    0    0    0    0    0    0    0\n",
            "    0    0    0    0    0    0    0    0    0    0    0    0    0    0\n",
            "    0    0    0    0    0    0    0    0    0    0    0    0    0    0\n",
            "    0    0    0    0    0    0    0    0    0    0    0    0    0    0\n",
            "    0    0    1   13   21   15   42  529  972 1621 1384   64  457 4467\n",
            "   65 3940    3  172   35  255    4   24   99   42  837  111   49  669\n",
            "    2    8   34  479  283    4  149    3  171  111  166    2  335  384\n",
            "   38    3  171 4535 1110   16  545   37   12  446    3  191   49   15\n",
            "    5  146 2024   18   13   21    3 1919 4612  468    3   21   70   86\n",
            "   11   15   42  529   37   75   14   12 1246    3   21   16  514   16\n",
            "   11   15  625   17    2    4   61  385   11    7  315    7  105    4\n",
            "    3 2222 5243   15  479   65 3784   32    3  129   11   15   37  618\n",
            "    4   24  123   50   35  134   47   24 1414   32    5   21   11  214\n",
            "   27   76   51    4   13  406   15   81    2    7    3  106  116 5951\n",
            "   14  255    3    2    6 3765    4  722   35   70   42  529  475   25\n",
            "  399  316   45    6    3    2 1028   12  103   87    3  380   14  296\n",
            "   97   31 2070   55   25  140    5  193 7485   17    3  225   21   20\n",
            "  133  475   25  479    4  143   29 5534   17   50   35   27  223   91\n",
            "   24  103    3  225   64   15   37 1333   87   11   15  282    4   15\n",
            " 4471  112  102   31   14   15 5344   18  177   31]\n"
          ]
        }
      ]
    },
    {
      "cell_type": "markdown",
      "metadata": {
        "id": "rghchHA66d-V"
      },
      "source": [
        "### **3. Building the Model**\n",
        "\n",
        "In this section, you will use the keras Model API to build a classification model.\n",
        "\n",
        "*   The first step is to tell the model what sort of input to expect using the keras \\<Input\\> layer \n",
        "*   The second step is to add an embedding layer like we did last week. \n",
        "This embedding layer creates a lookup table of the form {word:embedding} for each of the unique words in our corpus. Use EMBED_SIZE = 100 (i.e each word is represented by a 100D vector such that each movie review is 500 X 100 in dimension.  Don't forget to set mask_zero=True since we are using 0 index as out padding.\n",
        "*  The third step is to add an LSTM with 100 units. By leaving 'return_sequences' as False, the output of this model will be the output of the final time step of the LSTM. https://keras.io/api/layers/recurrent_layers/lstm/ \n",
        "*  The final layer of the model is a fully connected (Dense) layer. Can you figure out what activation function would be appropriate for this layer given the binary nature of the task?\n",
        "*  The model should be compiled with a 'binary_crossentropy' loss function, an 'adam' optimizer. We also want to visualize the model accuracy during training so the 'metrics' parameter of the compile method should be set to ['accuracy']."
      ]
    },
    {
      "cell_type": "code",
      "metadata": {
        "id": "L1EHilHl1l2m"
      },
      "source": [
        "from keras.layers import Input, Embedding, Dense, LSTM\n",
        "from keras.models import Model\n",
        "\n",
        "EMBED_SIZE = 100\n",
        "\n",
        "\n",
        "review_input = Input((MAX_LENGTH,), dtype=\"int32\")\n",
        "review_embedding = Embedding(\n",
        "    VOCAB_SIZE,\n",
        "    EMBED_SIZE,\n",
        "    name=\"review_embedding\",\n",
        "    embeddings_initializer=\"glorot_uniform\",\n",
        "    input_length=MAX_LENGTH,\n",
        ")(review_input)\n",
        "\n",
        "final_lstm_step = LSTM(100, return_sequences=False)(review_embedding)\n",
        "label = Dense(1, activation='sigmoid')(final_lstm_step)\n",
        "\n",
        "model = Model(inputs=[review_input], outputs=[label])\n",
        "model.compile(\n",
        "    loss='binary_crossentropy', \n",
        "    optimizer='adam', \n",
        "    metrics=['accuracy'],\n",
        "    )"
      ],
      "execution_count": 32,
      "outputs": []
    },
    {
      "cell_type": "markdown",
      "metadata": {
        "id": "6OMqaFQusbp-"
      },
      "source": [
        "***Sanity Check***\n",
        "\n",
        "Print the model summary and visualize it using vis_utils."
      ]
    },
    {
      "cell_type": "code",
      "metadata": {
        "colab": {
          "base_uri": "https://localhost:8080/"
        },
        "id": "PB7Gv4V6raWd",
        "outputId": "4f43c105-8cd7-4558-9c40-3dd97140bf92"
      },
      "source": [
        "model.summary()"
      ],
      "execution_count": 33,
      "outputs": [
        {
          "output_type": "stream",
          "name": "stdout",
          "text": [
            "Model: \"model_2\"\n",
            "_________________________________________________________________\n",
            " Layer (type)                Output Shape              Param #   \n",
            "=================================================================\n",
            " input_4 (InputLayer)        [(None, 500)]             0         \n",
            "                                                                 \n",
            " review_embedding (Embedding  (None, 500, 100)         1000000   \n",
            " )                                                               \n",
            "                                                                 \n",
            " lstm_3 (LSTM)               (None, 100)               80400     \n",
            "                                                                 \n",
            " dense_3 (Dense)             (None, 1)                 101       \n",
            "                                                                 \n",
            "=================================================================\n",
            "Total params: 1,080,501\n",
            "Trainable params: 1,080,501\n",
            "Non-trainable params: 0\n",
            "_________________________________________________________________\n"
          ]
        }
      ]
    },
    {
      "cell_type": "code",
      "metadata": {
        "colab": {
          "base_uri": "https://localhost:8080/",
          "height": 584
        },
        "id": "ZTq8GsWgsqCe",
        "outputId": "c96223fb-539e-422a-83da-b40c46abec84"
      },
      "source": [
        "from IPython.display import SVG\n",
        "from keras.utils import vis_utils\n",
        "SVG(vis_utils.model_to_dot(model, show_shapes=True, show_layer_names=True, dpi=100).create(prog='dot', format='svg'))  \n"
      ],
      "execution_count": 34,
      "outputs": [
        {
          "output_type": "execute_result",
          "data": {
            "text/plain": [
              "<IPython.core.display.SVG object>"
            ],
            "image/svg+xml": "<svg xmlns=\"http://www.w3.org/2000/svg\" xmlns:xlink=\"http://www.w3.org/1999/xlink\" width=\"408pt\" height=\"422pt\" viewBox=\"0.00 0.00 294.00 304.00\">\n<g id=\"graph0\" class=\"graph\" transform=\"scale(0.72 0.72) rotate(0) translate(4 300)\">\n<title>G</title>\n<polygon fill=\"white\" stroke=\"transparent\" points=\"-4,4 -4,-300 290,-300 290,4 -4,4\"/>\n<!-- 140375714697952 -->\n<g id=\"node1\" class=\"node\">\n<title>140375714697952</title>\n<polygon fill=\"none\" stroke=\"black\" points=\"31,-249.5 31,-295.5 255,-295.5 255,-249.5 31,-249.5\"/>\n<text text-anchor=\"middle\" x=\"69.5\" y=\"-280.3\" font-family=\"Times,serif\" font-size=\"14.00\">input_4</text>\n<polyline fill=\"none\" stroke=\"black\" points=\"31,-272.5 108,-272.5 \"/>\n<text text-anchor=\"middle\" x=\"69.5\" y=\"-257.3\" font-family=\"Times,serif\" font-size=\"14.00\">InputLayer</text>\n<polyline fill=\"none\" stroke=\"black\" points=\"108,-249.5 108,-295.5 \"/>\n<text text-anchor=\"middle\" x=\"135.5\" y=\"-280.3\" font-family=\"Times,serif\" font-size=\"14.00\">input:</text>\n<polyline fill=\"none\" stroke=\"black\" points=\"108,-272.5 163,-272.5 \"/>\n<text text-anchor=\"middle\" x=\"135.5\" y=\"-257.3\" font-family=\"Times,serif\" font-size=\"14.00\">output:</text>\n<polyline fill=\"none\" stroke=\"black\" points=\"163,-249.5 163,-295.5 \"/>\n<text text-anchor=\"middle\" x=\"209\" y=\"-280.3\" font-family=\"Times,serif\" font-size=\"14.00\">[(None, 500)]</text>\n<polyline fill=\"none\" stroke=\"black\" points=\"163,-272.5 255,-272.5 \"/>\n<text text-anchor=\"middle\" x=\"209\" y=\"-257.3\" font-family=\"Times,serif\" font-size=\"14.00\">[(None, 500)]</text>\n</g>\n<!-- 140375717245952 -->\n<g id=\"node2\" class=\"node\">\n<title>140375717245952</title>\n<polygon fill=\"none\" stroke=\"black\" points=\"0,-166.5 0,-212.5 286,-212.5 286,-166.5 0,-166.5\"/>\n<text text-anchor=\"middle\" x=\"60.5\" y=\"-197.3\" font-family=\"Times,serif\" font-size=\"14.00\">review_embedding</text>\n<polyline fill=\"none\" stroke=\"black\" points=\"0,-189.5 121,-189.5 \"/>\n<text text-anchor=\"middle\" x=\"60.5\" y=\"-174.3\" font-family=\"Times,serif\" font-size=\"14.00\">Embedding</text>\n<polyline fill=\"none\" stroke=\"black\" points=\"121,-166.5 121,-212.5 \"/>\n<text text-anchor=\"middle\" x=\"148.5\" y=\"-197.3\" font-family=\"Times,serif\" font-size=\"14.00\">input:</text>\n<polyline fill=\"none\" stroke=\"black\" points=\"121,-189.5 176,-189.5 \"/>\n<text text-anchor=\"middle\" x=\"148.5\" y=\"-174.3\" font-family=\"Times,serif\" font-size=\"14.00\">output:</text>\n<polyline fill=\"none\" stroke=\"black\" points=\"176,-166.5 176,-212.5 \"/>\n<text text-anchor=\"middle\" x=\"231\" y=\"-197.3\" font-family=\"Times,serif\" font-size=\"14.00\">(None, 500)</text>\n<polyline fill=\"none\" stroke=\"black\" points=\"176,-189.5 286,-189.5 \"/>\n<text text-anchor=\"middle\" x=\"231\" y=\"-174.3\" font-family=\"Times,serif\" font-size=\"14.00\">(None, 500, 100)</text>\n</g>\n<!-- 140375714697952&#45;&gt;140375717245952 -->\n<g id=\"edge1\" class=\"edge\">\n<title>140375714697952-&gt;140375717245952</title>\n<path fill=\"none\" stroke=\"black\" d=\"M143,-249.37C143,-241.15 143,-231.66 143,-222.73\"/>\n<polygon fill=\"black\" stroke=\"black\" points=\"146.5,-222.61 143,-212.61 139.5,-222.61 146.5,-222.61\"/>\n</g>\n<!-- 140375717245232 -->\n<g id=\"node3\" class=\"node\">\n<title>140375717245232</title>\n<polygon fill=\"none\" stroke=\"black\" points=\"33.5,-83.5 33.5,-129.5 252.5,-129.5 252.5,-83.5 33.5,-83.5\"/>\n<text text-anchor=\"middle\" x=\"60.5\" y=\"-114.3\" font-family=\"Times,serif\" font-size=\"14.00\">lstm_3</text>\n<polyline fill=\"none\" stroke=\"black\" points=\"33.5,-106.5 87.5,-106.5 \"/>\n<text text-anchor=\"middle\" x=\"60.5\" y=\"-91.3\" font-family=\"Times,serif\" font-size=\"14.00\">LSTM</text>\n<polyline fill=\"none\" stroke=\"black\" points=\"87.5,-83.5 87.5,-129.5 \"/>\n<text text-anchor=\"middle\" x=\"115\" y=\"-114.3\" font-family=\"Times,serif\" font-size=\"14.00\">input:</text>\n<polyline fill=\"none\" stroke=\"black\" points=\"87.5,-106.5 142.5,-106.5 \"/>\n<text text-anchor=\"middle\" x=\"115\" y=\"-91.3\" font-family=\"Times,serif\" font-size=\"14.00\">output:</text>\n<polyline fill=\"none\" stroke=\"black\" points=\"142.5,-83.5 142.5,-129.5 \"/>\n<text text-anchor=\"middle\" x=\"197.5\" y=\"-114.3\" font-family=\"Times,serif\" font-size=\"14.00\">(None, 500, 100)</text>\n<polyline fill=\"none\" stroke=\"black\" points=\"142.5,-106.5 252.5,-106.5 \"/>\n<text text-anchor=\"middle\" x=\"197.5\" y=\"-91.3\" font-family=\"Times,serif\" font-size=\"14.00\">(None, 100)</text>\n</g>\n<!-- 140375717245952&#45;&gt;140375717245232 -->\n<g id=\"edge2\" class=\"edge\">\n<title>140375717245952-&gt;140375717245232</title>\n<path fill=\"none\" stroke=\"black\" d=\"M143,-166.37C143,-158.15 143,-148.66 143,-139.73\"/>\n<polygon fill=\"black\" stroke=\"black\" points=\"146.5,-139.61 143,-129.61 139.5,-139.61 146.5,-139.61\"/>\n</g>\n<!-- 140375717245568 -->\n<g id=\"node4\" class=\"node\">\n<title>140375717245568</title>\n<polygon fill=\"none\" stroke=\"black\" points=\"43.5,-0.5 43.5,-46.5 242.5,-46.5 242.5,-0.5 43.5,-0.5\"/>\n<text text-anchor=\"middle\" x=\"74\" y=\"-31.3\" font-family=\"Times,serif\" font-size=\"14.00\">dense_3</text>\n<polyline fill=\"none\" stroke=\"black\" points=\"43.5,-23.5 104.5,-23.5 \"/>\n<text text-anchor=\"middle\" x=\"74\" y=\"-8.3\" font-family=\"Times,serif\" font-size=\"14.00\">Dense</text>\n<polyline fill=\"none\" stroke=\"black\" points=\"104.5,-0.5 104.5,-46.5 \"/>\n<text text-anchor=\"middle\" x=\"132\" y=\"-31.3\" font-family=\"Times,serif\" font-size=\"14.00\">input:</text>\n<polyline fill=\"none\" stroke=\"black\" points=\"104.5,-23.5 159.5,-23.5 \"/>\n<text text-anchor=\"middle\" x=\"132\" y=\"-8.3\" font-family=\"Times,serif\" font-size=\"14.00\">output:</text>\n<polyline fill=\"none\" stroke=\"black\" points=\"159.5,-0.5 159.5,-46.5 \"/>\n<text text-anchor=\"middle\" x=\"201\" y=\"-31.3\" font-family=\"Times,serif\" font-size=\"14.00\">(None, 100)</text>\n<polyline fill=\"none\" stroke=\"black\" points=\"159.5,-23.5 242.5,-23.5 \"/>\n<text text-anchor=\"middle\" x=\"201\" y=\"-8.3\" font-family=\"Times,serif\" font-size=\"14.00\">(None, 1)</text>\n</g>\n<!-- 140375717245232&#45;&gt;140375717245568 -->\n<g id=\"edge3\" class=\"edge\">\n<title>140375717245232-&gt;140375717245568</title>\n<path fill=\"none\" stroke=\"black\" d=\"M143,-83.37C143,-75.15 143,-65.66 143,-56.73\"/>\n<polygon fill=\"black\" stroke=\"black\" points=\"146.5,-56.61 143,-46.61 139.5,-56.61 146.5,-56.61\"/>\n</g>\n</g>\n</svg>"
          },
          "metadata": {},
          "execution_count": 34
        }
      ]
    },
    {
      "cell_type": "markdown",
      "metadata": {
        "id": "WXhJNdf9TIed"
      },
      "source": [
        "### **4. Training the Model**\n",
        "\n",
        "A model can memorize the training data (this is called 'overfitting' and when it does so, it's training accuracy can continue to go up but it's accuracy on previously unseen (i.e. non-training) examples can be very poor. To ensure that this doesn't happen, researchers often intermittently check the performance of a model being trained on a held back dataset called the ***validation dataset***. This way, 'early stopping' or 'random search' can be used to select the model that will generalize best to unseen data. \n",
        "<br>\n",
        "\n",
        "\n",
        "In this lab, you will just plot training accuracy against validation accuracy to monitor the progress of your model. And, using the plot, you will theorize about what the optimal stopping point for your model should have been.\n"
      ]
    },
    {
      "cell_type": "markdown",
      "metadata": {
        "id": "LFJtD1EgvPND"
      },
      "source": [
        "**Step 1: Getting a validation dataset**\n",
        "\n",
        "Before we begin training, you will split the padded training data into training and validation data. To avoid losing too much training data, use 2000 samples (i.e 8%) for validation and the other 23000 for training.\n",
        "\n",
        "We will do this using the sklearn train_test_split function. "
      ]
    },
    {
      "cell_type": "code",
      "metadata": {
        "id": "zqHSAlOev6kB"
      },
      "source": [
        "from sklearn.model_selection import train_test_split\n",
        "\n",
        "train_x, validation_x, train_y, validation_y = train_test_split(padded_train_data, train_labels, test_size=0.08) "
      ],
      "execution_count": 35,
      "outputs": []
    },
    {
      "cell_type": "markdown",
      "metadata": {
        "id": "xArEfNkX0DnN"
      },
      "source": [
        "Alternatively, we could have chosen to set validation_size=0.08 in our model.fit() function below instead of passing in a separate validation dataset."
      ]
    },
    {
      "cell_type": "markdown",
      "metadata": {
        "id": "3oXtkSBuyiWt"
      },
      "source": [
        "**Step 2: Training the model**\n",
        "\n",
        "We will use model.fit() to train the model. We will set our batch_size to 1000, which means the model will train int(23000/1000) batches each epoch. In other words, at each epoch the model will train 23 batches, each one consisting of 1000 movie reviews."
      ]
    },
    {
      "cell_type": "code",
      "metadata": {
        "colab": {
          "base_uri": "https://localhost:8080/"
        },
        "id": "Fgp3GWqiySHB",
        "outputId": "314e6806-8639-4a75-ddad-f0524c6b6a68"
      },
      "source": [
        "history = model.fit(train_x, train_y, epochs=6, batch_size=1000, validation_data=(validation_x, validation_y))"
      ],
      "execution_count": 36,
      "outputs": [
        {
          "output_type": "stream",
          "name": "stdout",
          "text": [
            "Epoch 1/6\n",
            "23/23 [==============================] - 201s 9s/step - loss: 0.6808 - accuracy: 0.5945 - val_loss: 0.6460 - val_accuracy: 0.6860\n",
            "Epoch 2/6\n",
            "23/23 [==============================] - 197s 9s/step - loss: 0.6106 - accuracy: 0.7690 - val_loss: 0.5610 - val_accuracy: 0.7705\n",
            "Epoch 3/6\n",
            "23/23 [==============================] - 199s 9s/step - loss: 0.4088 - accuracy: 0.8353 - val_loss: 0.3563 - val_accuracy: 0.8515\n",
            "Epoch 4/6\n",
            "23/23 [==============================] - 205s 9s/step - loss: 0.2709 - accuracy: 0.8937 - val_loss: 0.3195 - val_accuracy: 0.8705\n",
            "Epoch 5/6\n",
            "23/23 [==============================] - 199s 9s/step - loss: 0.2072 - accuracy: 0.9246 - val_loss: 0.3118 - val_accuracy: 0.8730\n",
            "Epoch 6/6\n",
            "23/23 [==============================] - 197s 9s/step - loss: 0.1651 - accuracy: 0.9432 - val_loss: 0.3168 - val_accuracy: 0.8840\n"
          ]
        }
      ]
    },
    {
      "cell_type": "markdown",
      "metadata": {
        "id": "2OaWng6v835A"
      },
      "source": [
        "**Step 3: Visualize the model plot**"
      ]
    },
    {
      "cell_type": "code",
      "metadata": {
        "colab": {
          "base_uri": "https://localhost:8080/"
        },
        "id": "R6xASJOM897O",
        "outputId": "e2653201-d31c-4d12-e49a-04b8cf35fe9d"
      },
      "source": [
        "pip install plot_keras_history"
      ],
      "execution_count": 14,
      "outputs": [
        {
          "output_type": "stream",
          "name": "stdout",
          "text": [
            "Looking in indexes: https://pypi.org/simple, https://us-python.pkg.dev/colab-wheels/public/simple/\n",
            "Collecting plot_keras_history\n",
            "  Downloading plot_keras_history-1.1.38.tar.gz (11 kB)\n",
            "  Preparing metadata (setup.py) ... \u001b[?25l\u001b[?25hdone\n",
            "Requirement already satisfied: matplotlib in /usr/local/lib/python3.8/dist-packages (from plot_keras_history) (3.5.3)\n",
            "Requirement already satisfied: pandas in /usr/local/lib/python3.8/dist-packages (from plot_keras_history) (1.3.5)\n",
            "Requirement already satisfied: scipy in /usr/local/lib/python3.8/dist-packages (from plot_keras_history) (1.10.1)\n",
            "Collecting support_developer>=1.0.2\n",
            "  Downloading support_developer-1.0.5.tar.gz (4.9 kB)\n",
            "  Preparing metadata (setup.py) ... \u001b[?25l\u001b[?25hdone\n",
            "Collecting sanitize_ml_labels>=1.0.48\n",
            "  Downloading sanitize_ml_labels-1.0.50.tar.gz (322 kB)\n",
            "\u001b[2K     \u001b[90m━━━━━━━━━━━━━━━━━━━━━━━━━━━━━━━━━━━━━━━\u001b[0m \u001b[32m322.1/322.1 KB\u001b[0m \u001b[31m6.2 MB/s\u001b[0m eta \u001b[36m0:00:00\u001b[0m\n",
            "\u001b[?25h  Preparing metadata (setup.py) ... \u001b[?25l\u001b[?25hdone\n",
            "Collecting compress_json\n",
            "  Downloading compress_json-1.0.8.tar.gz (4.7 kB)\n",
            "  Preparing metadata (setup.py) ... \u001b[?25l\u001b[?25hdone\n",
            "Requirement already satisfied: numpy>=1.17 in /usr/local/lib/python3.8/dist-packages (from matplotlib->plot_keras_history) (1.22.4)\n",
            "Requirement already satisfied: fonttools>=4.22.0 in /usr/local/lib/python3.8/dist-packages (from matplotlib->plot_keras_history) (4.38.0)\n",
            "Requirement already satisfied: cycler>=0.10 in /usr/local/lib/python3.8/dist-packages (from matplotlib->plot_keras_history) (0.11.0)\n",
            "Requirement already satisfied: kiwisolver>=1.0.1 in /usr/local/lib/python3.8/dist-packages (from matplotlib->plot_keras_history) (1.4.4)\n",
            "Requirement already satisfied: pyparsing>=2.2.1 in /usr/local/lib/python3.8/dist-packages (from matplotlib->plot_keras_history) (3.0.9)\n",
            "Requirement already satisfied: pillow>=6.2.0 in /usr/local/lib/python3.8/dist-packages (from matplotlib->plot_keras_history) (8.4.0)\n",
            "Requirement already satisfied: packaging>=20.0 in /usr/local/lib/python3.8/dist-packages (from matplotlib->plot_keras_history) (23.0)\n",
            "Requirement already satisfied: python-dateutil>=2.7 in /usr/local/lib/python3.8/dist-packages (from matplotlib->plot_keras_history) (2.8.2)\n",
            "Requirement already satisfied: pytz>=2017.3 in /usr/local/lib/python3.8/dist-packages (from pandas->plot_keras_history) (2022.7.1)\n",
            "Requirement already satisfied: six>=1.5 in /usr/local/lib/python3.8/dist-packages (from python-dateutil>=2.7->matplotlib->plot_keras_history) (1.15.0)\n",
            "Building wheels for collected packages: plot_keras_history, sanitize_ml_labels, support_developer, compress_json\n",
            "  Building wheel for plot_keras_history (setup.py) ... \u001b[?25l\u001b[?25hdone\n",
            "  Created wheel for plot_keras_history: filename=plot_keras_history-1.1.38-py3-none-any.whl size=9472 sha256=740c11fac3f73a61d4a6c7ea96cf98011afe09011bd8eb692bee5fff3588b25b\n",
            "  Stored in directory: /root/.cache/pip/wheels/97/a5/76/35ae3e15da1ce4530de8591b0bcd7716f6d6752a4808f01c04\n",
            "  Building wheel for sanitize_ml_labels (setup.py) ... \u001b[?25l\u001b[?25hdone\n",
            "  Created wheel for sanitize_ml_labels: filename=sanitize_ml_labels-1.0.50-py3-none-any.whl size=320514 sha256=dca2c9f253cb9ecb95803439ea3397fa9f7174268b1d6ac0354db6645728b650\n",
            "  Stored in directory: /root/.cache/pip/wheels/a3/5f/ba/ddd191edb6c749a63cffabd28714d5600b5b58014daf7434a8\n",
            "  Building wheel for support_developer (setup.py) ... \u001b[?25l\u001b[?25hdone\n",
            "  Created wheel for support_developer: filename=support_developer-1.0.5-py3-none-any.whl size=5650 sha256=172a09d5f955bc0bc6a9b6ae236d71f118f83e86093f0949dfc93c530f86bee9\n",
            "  Stored in directory: /root/.cache/pip/wheels/11/5e/63/51e84640e77a7dc5f1e5f5eb597e8f1bc730a2818ee5c3fc03\n",
            "  Building wheel for compress_json (setup.py) ... \u001b[?25l\u001b[?25hdone\n",
            "  Created wheel for compress_json: filename=compress_json-1.0.8-py3-none-any.whl size=4733 sha256=21e841fd01996d116c3653678e00aa5614de0b39504e5ce47dc86b7745f7db26\n",
            "  Stored in directory: /root/.cache/pip/wheels/fe/36/4b/69aaa23fc0ea813dc1f8cca3372bff314abed354cac20a1cb9\n",
            "Successfully built plot_keras_history sanitize_ml_labels support_developer compress_json\n",
            "Installing collected packages: support_developer, compress_json, sanitize_ml_labels, plot_keras_history\n",
            "Successfully installed compress_json-1.0.8 plot_keras_history-1.1.38 sanitize_ml_labels-1.0.50 support_developer-1.0.5\n"
          ]
        }
      ]
    },
    {
      "cell_type": "code",
      "metadata": {
        "id": "0-Qq9lwGDHVl"
      },
      "source": [
        "from plot_keras_history import plot_history\n",
        "import matplotlib.pyplot as plt"
      ],
      "execution_count": 15,
      "outputs": []
    },
    {
      "cell_type": "code",
      "metadata": {
        "colab": {
          "base_uri": "https://localhost:8080/",
          "height": 528
        },
        "id": "6jS3_xzmDJmk",
        "outputId": "f4f4c42b-6028-423e-fc03-150ef2e52106"
      },
      "source": [
        "plot_history(history.history, path=\"standard.png\")\n",
        "plt.show()"
      ],
      "execution_count": 37,
      "outputs": [
        {
          "output_type": "display_data",
          "data": {
            "text/plain": [
              "<Figure size 1000x500 with 2 Axes>"
            ],
            "image/png": "[encoded data removed]"
          },
          "metadata": {
            "needs_background": "light"
          }
        }
      ]
    },
    {
      "cell_type": "markdown",
      "metadata": {
        "id": "8Xy45WzGCkFJ"
      },
      "source": [
        "**Based on the accuracy plot, what do you think the optimal stopping point for your model should\n",
        "have been?**"
      ]
    },
    {
      "cell_type": "markdown",
      "metadata": {
        "id": "uMQJAolZWVLx"
      },
      "source": [
        "### **5. Evaluating the Model on the Test Data**\n",
        "\n",
        "Evaluate the model on the padded test data using the code in the following cell block."
      ]
    },
    {
      "cell_type": "code",
      "metadata": {
        "id": "fi0JmuY-Tlsp",
        "colab": {
          "base_uri": "https://localhost:8080/"
        },
        "outputId": "ebd50d21-f8a8-480b-ec02-7e82e8bbdfd1"
      },
      "source": [
        "results = model.evaluate(padded_test_data, test_labels)\n",
        "print('test_loss:', results[0], 'test_accuracy:', results[1])"
      ],
      "execution_count": 38,
      "outputs": [
        {
          "output_type": "stream",
          "name": "stdout",
          "text": [
            "782/782 [==============================] - 110s 139ms/step - loss: 0.3308 - accuracy: 0.8726\n",
            "test_loss: 0.33075347542762756 test_accuracy: 0.8726400136947632\n"
          ]
        }
      ]
    },
    {
      "cell_type": "markdown",
      "metadata": {
        "id": "zbOcZD6igpxy"
      },
      "source": [
        "###**6. Extracting the Word Embeddings**\n",
        "\n",
        "Extract the word embeddings from the embedding layer model like we did in the last lab. \n",
        "\n",
        "**Hints**\n",
        "\n",
        "*  You can use model.get_layer(layer_name).get_weights()[0] or model.layers[layer_number].get_weights()[0].  The layer number indicates the order in which the layers were added to the model.\n",
        "\n",
        "*  If you didn't explicitly name your layers, you can check layer names and numbers about the order from model.summary() or by calling model.layers"
      ]
    },
    {
      "cell_type": "code",
      "metadata": {
        "id": "dVG1le_LWBtq"
      },
      "source": [
        "word_embeddings = model.get_layer('review_embedding').get_weights()[0]"
      ],
      "execution_count": 41,
      "outputs": []
    },
    {
      "cell_type": "markdown",
      "metadata": {
        "id": "fXzDQ-7IE5Ou"
      },
      "source": [
        "***Sanity Check***\n",
        "\n",
        "Print the shape of the word embeddings using the line of code below. It should return (VOCAB_SIZE, EMBED_SIZE)"
      ]
    },
    {
      "cell_type": "code",
      "metadata": {
        "colab": {
          "base_uri": "https://localhost:8080/"
        },
        "id": "swJFPaX_E4f0",
        "outputId": "5700c9e6-f8e9-4870-93ec-afd056c5bdac"
      },
      "source": [
        "print('Shape of word_embeddings:', word_embeddings.shape)"
      ],
      "execution_count": 42,
      "outputs": [
        {
          "output_type": "stream",
          "name": "stdout",
          "text": [
            "Shape of word_embeddings: (10000, 100)\n"
          ]
        }
      ]
    },
    {
      "cell_type": "markdown",
      "metadata": {
        "id": "Bwz_8kTZ6UVF"
      },
      "source": [
        "###**7. Visualizing the Reviews**\n",
        "\n",
        "In this section, we will view the effects of padding the dataset. \n",
        "\n",
        "As mentioned before, Keras already preprocessed the corpus. In this preprocessed corpus, all the words have already been mapped to indices and were assigned these numbers in order of their frequency such that index 2 is the 2nd most frequent word in the dataset, and so on. However, when we loaded our training dataset, we reserved the first 3 indices - 0, 1, 2 - for \\<PAD\\>, \\<START\\> and \\<UNK\\>. Additionally, we limited our vocabulary to only the top 10000 most frequent words (9997 if you exclude the padding). We will now visualize what a movie review will look like with these changes\n",
        "\n"
      ]
    },
    {
      "cell_type": "markdown",
      "metadata": {
        "id": "lOmorAwXGZS9"
      },
      "source": [
        "\n",
        "**Step 1: Create a word2idx dictionary**\n",
        "\n",
        "Create the word2idx dictionary using the following lines of code."
      ]
    },
    {
      "cell_type": "code",
      "metadata": {
        "id": "AtU7lOD6GYtB",
        "colab": {
          "base_uri": "https://localhost:8080/"
        },
        "outputId": "c57bd3c6-cd71-43ed-e945-9029580e5c20"
      },
      "source": [
        "# in this dictionary, the words start from 1, 0 is reserved for padding but \n",
        "# <start> and <unknown> are not accounted for.\n",
        "word_indices = imdb.get_word_index()\n",
        "\n",
        "# so we shift each original word two places to make room for the two new tokens\n",
        "offset = 2\n",
        "word2idx = {k:(v+offset) for k,v in word_indices.items() if v < 9998}\n",
        "word2idx[\"<PAD>\"] = 0\n",
        "word2idx[\"<START>\"] = 1\n",
        "word2idx[\"<UNK>\"] = 2"
      ],
      "execution_count": 43,
      "outputs": [
        {
          "output_type": "stream",
          "name": "stdout",
          "text": [
            "Downloading data from https://storage.googleapis.com/tensorflow/tf-keras-datasets/imdb_word_index.json\n",
            "1641221/1641221 [==============================] - 0s 0us/step\n"
          ]
        }
      ]
    },
    {
      "cell_type": "markdown",
      "metadata": {
        "id": "H3oZeE74HCvL"
      },
      "source": [
        "\n",
        "**Step 2: Create a the idx2word dictionary**"
      ]
    },
    {
      "cell_type": "code",
      "metadata": {
        "id": "F0sWRDRIHIzp"
      },
      "source": [
        "idx2word = {value: key for key, value in word2idx.items()}"
      ],
      "execution_count": 44,
      "outputs": []
    },
    {
      "cell_type": "markdown",
      "metadata": {
        "id": "p7aGrCU1HTN0"
      },
      "source": [
        "\n",
        "**Step 3: Visualize sample review**\n",
        "\n",
        "View a sample review text using the lines of code below:"
      ]
    },
    {
      "cell_type": "code",
      "metadata": {
        "colab": {
          "base_uri": "https://localhost:8080/"
        },
        "id": "TgRbMGG3G8jb",
        "outputId": "cad88d65-6f70-4893-a43a-84726a9c3f74"
      },
      "source": [
        "print(' '.join(idx2word[idx] for idx in train_data[0]))"
      ],
      "execution_count": 45,
      "outputs": [
        {
          "output_type": "stream",
          "name": "stdout",
          "text": [
            "<START> this film was just brilliant casting location scenery story direction everyone's really suited the part they played and you could just imagine being there robert <UNK> is an amazing actor and now the same being director <UNK> father came from the same scottish island as myself so i loved the fact there was a real connection with this film the witty remarks throughout the film were great it was just brilliant so much that i bought the film as soon as it was released for <UNK> and would recommend it to everyone to watch and the fly fishing was amazing really cried at the end it was so sad and you know what they say if you cry at a film it must have been good and this definitely was also <UNK> to the two little boy's that played the <UNK> of norman and paul they were just brilliant children are often left out of the <UNK> list i think because the stars that play them all grown up are such a big profile for the whole film but these children are amazing and should be praised for what they have done don't you think the whole story was so lovely because it was true and was someone's life after all that was shared with us all\n"
          ]
        }
      ]
    },
    {
      "cell_type": "markdown",
      "metadata": {
        "id": "TFs4QSdFJrWL"
      },
      "source": [
        "###**8. Visualizing the Word_Embeddings**\n",
        "\n",
        "Visualize the word embeddings for 10 of the words using pandas DataFrame like we did in lab 3"
      ]
    },
    {
      "cell_type": "code",
      "metadata": {
        "colab": {
          "base_uri": "https://localhost:8080/",
          "height": 452
        },
        "id": "2IBvttx-J9re",
        "outputId": "40858a5e-c4e7-4cbc-e4e9-a279c79cd980"
      },
      "source": [
        "from pandas import DataFrame\n",
        "DataFrame(word_embeddings, index=idx2word.values()).head(10)"
      ],
      "execution_count": 46,
      "outputs": [
        {
          "output_type": "execute_result",
          "data": {
            "text/plain": [
              "                 0         1         2         3         4         5   \\\n",
              "woods     -0.026262 -0.026435  0.008073 -0.027074  0.024099 -0.010268   \n",
              "hanging    0.064340  0.032885 -0.051791  0.018511 -0.053158 -0.058172   \n",
              "woody     -0.016483  0.003262 -0.014757 -0.013361  0.019018  0.011587   \n",
              "arranged   0.016558  0.018900 -0.021796  0.022963  0.019057  0.021840   \n",
              "bringing   0.020107  0.001410 -0.028239  0.009222 -0.004685 -0.026053   \n",
              "wooden     0.018322  0.020263  0.022652  0.020054 -0.017995 -0.015099   \n",
              "errors     0.015010  0.016309 -0.039244  0.002208  0.007341 -0.011102   \n",
              "dialogs    0.020958 -0.001390 -0.023292  0.010553  0.012425 -0.018376   \n",
              "kids      -0.013934 -0.008796 -0.027860  0.002520  0.011035 -0.018894   \n",
              "uplifting -0.025644 -0.000804 -0.006288  0.018371 -0.002160  0.007852   \n",
              "\n",
              "                 6         7         8         9   ...        90        91  \\\n",
              "woods     -0.008823  0.014248 -0.002071  0.001162  ...  0.002087  0.003828   \n",
              "hanging   -0.026940  0.030661 -0.054032  0.076818  ...  0.049006  0.039584   \n",
              "woody     -0.008661 -0.013472  0.020214 -0.018059  ... -0.029509 -0.015740   \n",
              "arranged   0.013118  0.022633 -0.021076  0.016964  ...  0.019535 -0.012349   \n",
              "bringing  -0.014690  0.034354 -0.015614  0.011745  ...  0.006314  0.008585   \n",
              "wooden    -0.021546 -0.004465 -0.001599  0.015792  ... -0.000624 -0.011215   \n",
              "errors    -0.008432 -0.016166  0.010466  0.018954  ...  0.020257  0.008923   \n",
              "dialogs   -0.019204 -0.015663 -0.016386 -0.003434  ... -0.012172  0.012453   \n",
              "kids      -0.007362  0.001146 -0.018898 -0.002638  ...  0.003111  0.011385   \n",
              "uplifting -0.016348  0.010603  0.006066  0.008824  ... -0.018051  0.007335   \n",
              "\n",
              "                 92        93        94        95        96        97  \\\n",
              "woods      0.013027  0.006541 -0.056437  0.003968  0.009610 -0.014064   \n",
              "hanging   -0.063428 -0.060539 -0.077519  0.058871 -0.077459  0.048587   \n",
              "woody     -0.004302  0.008382  0.032991  0.017457  0.013383  0.005337   \n",
              "arranged   0.010746 -0.010409 -0.004913 -0.021588 -0.010533  0.013812   \n",
              "bringing  -0.037533  0.013367  0.032063  0.016889 -0.018488  0.005509   \n",
              "wooden    -0.014214 -0.012328  0.027112  0.020769  0.013404  0.028889   \n",
              "errors     0.009779  0.014353  0.073236 -0.007827  0.011483  0.010166   \n",
              "dialogs    0.004473  0.030603  0.006572 -0.004981  0.028086  0.031171   \n",
              "kids      -0.024511 -0.003825  0.035733 -0.008184 -0.012500  0.014265   \n",
              "uplifting -0.019229  0.017707 -0.017677  0.014660  0.023554  0.032733   \n",
              "\n",
              "                 98        99  \n",
              "woods      0.024080  0.025193  \n",
              "hanging   -0.001160 -0.065246  \n",
              "woody      0.001995  0.014487  \n",
              "arranged   0.011943 -0.008291  \n",
              "bringing   0.023213 -0.005642  \n",
              "wooden     0.018526 -0.017759  \n",
              "errors    -0.013260 -0.021058  \n",
              "dialogs   -0.014645 -0.005464  \n",
              "kids       0.009603 -0.027226  \n",
              "uplifting -0.028553 -0.013568  \n",
              "\n",
              "[10 rows x 100 columns]"
            ],
            "text/html": [
              "\n",
              "  <div id=\"df-6cda88cc-957e-4d53-9459-77e925aa1db4\">\n",
              "    <div class=\"colab-df-container\">\n",
              "      <div>\n",
              "<style scoped>\n",
              "    .dataframe tbody tr th:only-of-type {\n",
              "        vertical-align: middle;\n",
              "    }\n",
              "\n",
              "    .dataframe tbody tr th {\n",
              "        vertical-align: top;\n",
              "    }\n",
              "\n",
              "    .dataframe thead th {\n",
              "        text-align: right;\n",
              "    }\n",
              "</style>\n",
              "<table border=\"1\" class=\"dataframe\">\n",
              "  <thead>\n",
              "    <tr style=\"text-align: right;\">\n",
              "      <th></th>\n",
              "      <th>0</th>\n",
              "      <th>1</th>\n",
              "      <th>2</th>\n",
              "      <th>3</th>\n",
              "      <th>4</th>\n",
              "      <th>5</th>\n",
              "      <th>6</th>\n",
              "      <th>7</th>\n",
              "      <th>8</th>\n",
              "      <th>9</th>\n",
              "      <th>...</th>\n",
              "      <th>90</th>\n",
              "      <th>91</th>\n",
              "      <th>92</th>\n",
              "      <th>93</th>\n",
              "      <th>94</th>\n",
              "      <th>95</th>\n",
              "      <th>96</th>\n",
              "      <th>97</th>\n",
              "      <th>98</th>\n",
              "      <th>99</th>\n",
              "    </tr>\n",
              "  </thead>\n",
              "  <tbody>\n",
              "    <tr>\n",
              "      <th>woods</th>\n",
              "      <td>-0.026262</td>\n",
              "      <td>-0.026435</td>\n",
              "      <td>0.008073</td>\n",
              "      <td>-0.027074</td>\n",
              "      <td>0.024099</td>\n",
              "      <td>-0.010268</td>\n",
              "      <td>-0.008823</td>\n",
              "      <td>0.014248</td>\n",
              "      <td>-0.002071</td>\n",
              "      <td>0.001162</td>\n",
              "      <td>...</td>\n",
              "      <td>0.002087</td>\n",
              "      <td>0.003828</td>\n",
              "      <td>0.013027</td>\n",
              "      <td>0.006541</td>\n",
              "      <td>-0.056437</td>\n",
              "      <td>0.003968</td>\n",
              "      <td>0.009610</td>\n",
              "      <td>-0.014064</td>\n",
              "      <td>0.024080</td>\n",
              "      <td>0.025193</td>\n",
              "    </tr>\n",
              "    <tr>\n",
              "      <th>hanging</th>\n",
              "      <td>0.064340</td>\n",
              "      <td>0.032885</td>\n",
              "      <td>-0.051791</td>\n",
              "      <td>0.018511</td>\n",
              "      <td>-0.053158</td>\n",
              "      <td>-0.058172</td>\n",
              "      <td>-0.026940</td>\n",
              "      <td>0.030661</td>\n",
              "      <td>-0.054032</td>\n",
              "      <td>0.076818</td>\n",
              "      <td>...</td>\n",
              "      <td>0.049006</td>\n",
              "      <td>0.039584</td>\n",
              "      <td>-0.063428</td>\n",
              "      <td>-0.060539</td>\n",
              "      <td>-0.077519</td>\n",
              "      <td>0.058871</td>\n",
              "      <td>-0.077459</td>\n",
              "      <td>0.048587</td>\n",
              "      <td>-0.001160</td>\n",
              "      <td>-0.065246</td>\n",
              "    </tr>\n",
              "    <tr>\n",
              "      <th>woody</th>\n",
              "      <td>-0.016483</td>\n",
              "      <td>0.003262</td>\n",
              "      <td>-0.014757</td>\n",
              "      <td>-0.013361</td>\n",
              "      <td>0.019018</td>\n",
              "      <td>0.011587</td>\n",
              "      <td>-0.008661</td>\n",
              "      <td>-0.013472</td>\n",
              "      <td>0.020214</td>\n",
              "      <td>-0.018059</td>\n",
              "      <td>...</td>\n",
              "      <td>-0.029509</td>\n",
              "      <td>-0.015740</td>\n",
              "      <td>-0.004302</td>\n",
              "      <td>0.008382</td>\n",
              "      <td>0.032991</td>\n",
              "      <td>0.017457</td>\n",
              "      <td>0.013383</td>\n",
              "      <td>0.005337</td>\n",
              "      <td>0.001995</td>\n",
              "      <td>0.014487</td>\n",
              "    </tr>\n",
              "    <tr>\n",
              "      <th>arranged</th>\n",
              "      <td>0.016558</td>\n",
              "      <td>0.018900</td>\n",
              "      <td>-0.021796</td>\n",
              "      <td>0.022963</td>\n",
              "      <td>0.019057</td>\n",
              "      <td>0.021840</td>\n",
              "      <td>0.013118</td>\n",
              "      <td>0.022633</td>\n",
              "      <td>-0.021076</td>\n",
              "      <td>0.016964</td>\n",
              "      <td>...</td>\n",
              "      <td>0.019535</td>\n",
              "      <td>-0.012349</td>\n",
              "      <td>0.010746</td>\n",
              "      <td>-0.010409</td>\n",
              "      <td>-0.004913</td>\n",
              "      <td>-0.021588</td>\n",
              "      <td>-0.010533</td>\n",
              "      <td>0.013812</td>\n",
              "      <td>0.011943</td>\n",
              "      <td>-0.008291</td>\n",
              "    </tr>\n",
              "    <tr>\n",
              "      <th>bringing</th>\n",
              "      <td>0.020107</td>\n",
              "      <td>0.001410</td>\n",
              "      <td>-0.028239</td>\n",
              "      <td>0.009222</td>\n",
              "      <td>-0.004685</td>\n",
              "      <td>-0.026053</td>\n",
              "      <td>-0.014690</td>\n",
              "      <td>0.034354</td>\n",
              "      <td>-0.015614</td>\n",
              "      <td>0.011745</td>\n",
              "      <td>...</td>\n",
              "      <td>0.006314</td>\n",
              "      <td>0.008585</td>\n",
              "      <td>-0.037533</td>\n",
              "      <td>0.013367</td>\n",
              "      <td>0.032063</td>\n",
              "      <td>0.016889</td>\n",
              "      <td>-0.018488</td>\n",
              "      <td>0.005509</td>\n",
              "      <td>0.023213</td>\n",
              "      <td>-0.005642</td>\n",
              "    </tr>\n",
              "    <tr>\n",
              "      <th>wooden</th>\n",
              "      <td>0.018322</td>\n",
              "      <td>0.020263</td>\n",
              "      <td>0.022652</td>\n",
              "      <td>0.020054</td>\n",
              "      <td>-0.017995</td>\n",
              "      <td>-0.015099</td>\n",
              "      <td>-0.021546</td>\n",
              "      <td>-0.004465</td>\n",
              "      <td>-0.001599</td>\n",
              "      <td>0.015792</td>\n",
              "      <td>...</td>\n",
              "      <td>-0.000624</td>\n",
              "      <td>-0.011215</td>\n",
              "      <td>-0.014214</td>\n",
              "      <td>-0.012328</td>\n",
              "      <td>0.027112</td>\n",
              "      <td>0.020769</td>\n",
              "      <td>0.013404</td>\n",
              "      <td>0.028889</td>\n",
              "      <td>0.018526</td>\n",
              "      <td>-0.017759</td>\n",
              "    </tr>\n",
              "    <tr>\n",
              "      <th>errors</th>\n",
              "      <td>0.015010</td>\n",
              "      <td>0.016309</td>\n",
              "      <td>-0.039244</td>\n",
              "      <td>0.002208</td>\n",
              "      <td>0.007341</td>\n",
              "      <td>-0.011102</td>\n",
              "      <td>-0.008432</td>\n",
              "      <td>-0.016166</td>\n",
              "      <td>0.010466</td>\n",
              "      <td>0.018954</td>\n",
              "      <td>...</td>\n",
              "      <td>0.020257</td>\n",
              "      <td>0.008923</td>\n",
              "      <td>0.009779</td>\n",
              "      <td>0.014353</td>\n",
              "      <td>0.073236</td>\n",
              "      <td>-0.007827</td>\n",
              "      <td>0.011483</td>\n",
              "      <td>0.010166</td>\n",
              "      <td>-0.013260</td>\n",
              "      <td>-0.021058</td>\n",
              "    </tr>\n",
              "    <tr>\n",
              "      <th>dialogs</th>\n",
              "      <td>0.020958</td>\n",
              "      <td>-0.001390</td>\n",
              "      <td>-0.023292</td>\n",
              "      <td>0.010553</td>\n",
              "      <td>0.012425</td>\n",
              "      <td>-0.018376</td>\n",
              "      <td>-0.019204</td>\n",
              "      <td>-0.015663</td>\n",
              "      <td>-0.016386</td>\n",
              "      <td>-0.003434</td>\n",
              "      <td>...</td>\n",
              "      <td>-0.012172</td>\n",
              "      <td>0.012453</td>\n",
              "      <td>0.004473</td>\n",
              "      <td>0.030603</td>\n",
              "      <td>0.006572</td>\n",
              "      <td>-0.004981</td>\n",
              "      <td>0.028086</td>\n",
              "      <td>0.031171</td>\n",
              "      <td>-0.014645</td>\n",
              "      <td>-0.005464</td>\n",
              "    </tr>\n",
              "    <tr>\n",
              "      <th>kids</th>\n",
              "      <td>-0.013934</td>\n",
              "      <td>-0.008796</td>\n",
              "      <td>-0.027860</td>\n",
              "      <td>0.002520</td>\n",
              "      <td>0.011035</td>\n",
              "      <td>-0.018894</td>\n",
              "      <td>-0.007362</td>\n",
              "      <td>0.001146</td>\n",
              "      <td>-0.018898</td>\n",
              "      <td>-0.002638</td>\n",
              "      <td>...</td>\n",
              "      <td>0.003111</td>\n",
              "      <td>0.011385</td>\n",
              "      <td>-0.024511</td>\n",
              "      <td>-0.003825</td>\n",
              "      <td>0.035733</td>\n",
              "      <td>-0.008184</td>\n",
              "      <td>-0.012500</td>\n",
              "      <td>0.014265</td>\n",
              "      <td>0.009603</td>\n",
              "      <td>-0.027226</td>\n",
              "    </tr>\n",
              "    <tr>\n",
              "      <th>uplifting</th>\n",
              "      <td>-0.025644</td>\n",
              "      <td>-0.000804</td>\n",
              "      <td>-0.006288</td>\n",
              "      <td>0.018371</td>\n",
              "      <td>-0.002160</td>\n",
              "      <td>0.007852</td>\n",
              "      <td>-0.016348</td>\n",
              "      <td>0.010603</td>\n",
              "      <td>0.006066</td>\n",
              "      <td>0.008824</td>\n",
              "      <td>...</td>\n",
              "      <td>-0.018051</td>\n",
              "      <td>0.007335</td>\n",
              "      <td>-0.019229</td>\n",
              "      <td>0.017707</td>\n",
              "      <td>-0.017677</td>\n",
              "      <td>0.014660</td>\n",
              "      <td>0.023554</td>\n",
              "      <td>0.032733</td>\n",
              "      <td>-0.028553</td>\n",
              "      <td>-0.013568</td>\n",
              "    </tr>\n",
              "  </tbody>\n",
              "</table>\n",
              "<p>10 rows × 100 columns</p>\n",
              "</div>\n",
              "      <button class=\"colab-df-convert\" onclick=\"convertToInteractive('df-6cda88cc-957e-4d53-9459-77e925aa1db4')\"\n",
              "              title=\"Convert this dataframe to an interactive table.\"\n",
              "              style=\"display:none;\">\n",
              "        \n",
              "  <svg xmlns=\"http://www.w3.org/2000/svg\" height=\"24px\"viewBox=\"0 0 24 24\"\n",
              "       width=\"24px\">\n",
              "    <path d=\"M0 0h24v24H0V0z\" fill=\"none\"/>\n",
              "    <path d=\"M18.56 5.44l.94 2.06.94-2.06 2.06-.94-2.06-.94-.94-2.06-.94 2.06-2.06.94zm-11 1L8.5 8.5l.94-2.06 2.06-.94-2.06-.94L8.5 2.5l-.94 2.06-2.06.94zm10 10l.94 2.06.94-2.06 2.06-.94-2.06-.94-.94-2.06-.94 2.06-2.06.94z\"/><path d=\"M17.41 7.96l-1.37-1.37c-.4-.4-.92-.59-1.43-.59-.52 0-1.04.2-1.43.59L10.3 9.45l-7.72 7.72c-.78.78-.78 2.05 0 2.83L4 21.41c.39.39.9.59 1.41.59.51 0 1.02-.2 1.41-.59l7.78-7.78 2.81-2.81c.8-.78.8-2.07 0-2.86zM5.41 20L4 18.59l7.72-7.72 1.47 1.35L5.41 20z\"/>\n",
              "  </svg>\n",
              "      </button>\n",
              "      \n",
              "  <style>\n",
              "    .colab-df-container {\n",
              "      display:flex;\n",
              "      flex-wrap:wrap;\n",
              "      gap: 12px;\n",
              "    }\n",
              "\n",
              "    .colab-df-convert {\n",
              "      background-color: #E8F0FE;\n",
              "      border: none;\n",
              "      border-radius: 50%;\n",
              "      cursor: pointer;\n",
              "      display: none;\n",
              "      fill: #1967D2;\n",
              "      height: 32px;\n",
              "      padding: 0 0 0 0;\n",
              "      width: 32px;\n",
              "    }\n",
              "\n",
              "    .colab-df-convert:hover {\n",
              "      background-color: #E2EBFA;\n",
              "      box-shadow: 0px 1px 2px rgba(60, 64, 67, 0.3), 0px 1px 3px 1px rgba(60, 64, 67, 0.15);\n",
              "      fill: #174EA6;\n",
              "    }\n",
              "\n",
              "    [theme=dark] .colab-df-convert {\n",
              "      background-color: #3B4455;\n",
              "      fill: #D2E3FC;\n",
              "    }\n",
              "\n",
              "    [theme=dark] .colab-df-convert:hover {\n",
              "      background-color: #434B5C;\n",
              "      box-shadow: 0px 1px 3px 1px rgba(0, 0, 0, 0.15);\n",
              "      filter: drop-shadow(0px 1px 2px rgba(0, 0, 0, 0.3));\n",
              "      fill: #FFFFFF;\n",
              "    }\n",
              "  </style>\n",
              "\n",
              "      <script>\n",
              "        const buttonEl =\n",
              "          document.querySelector('#df-6cda88cc-957e-4d53-9459-77e925aa1db4 button.colab-df-convert');\n",
              "        buttonEl.style.display =\n",
              "          google.colab.kernel.accessAllowed ? 'block' : 'none';\n",
              "\n",
              "        async function convertToInteractive(key) {\n",
              "          const element = document.querySelector('#df-6cda88cc-957e-4d53-9459-77e925aa1db4');\n",
              "          const dataTable =\n",
              "            await google.colab.kernel.invokeFunction('convertToInteractive',\n",
              "                                                     [key], {});\n",
              "          if (!dataTable) return;\n",
              "\n",
              "          const docLinkHtml = 'Like what you see? Visit the ' +\n",
              "            '<a target=\"_blank\" href=https://colab.research.google.com/notebooks/data_table.ipynb>data table notebook</a>'\n",
              "            + ' to learn more about interactive tables.';\n",
              "          element.innerHTML = '';\n",
              "          dataTable['output_type'] = 'display_data';\n",
              "          await google.colab.output.renderOutput(dataTable, element);\n",
              "          const docLink = document.createElement('div');\n",
              "          docLink.innerHTML = docLinkHtml;\n",
              "          element.appendChild(docLink);\n",
              "        }\n",
              "      </script>\n",
              "    </div>\n",
              "  </div>\n",
              "  "
            ]
          },
          "metadata": {},
          "execution_count": 46
        }
      ]
    },
    {
      "cell_type": "markdown",
      "metadata": {
        "id": "k0fyfgvB90G5"
      },
      "source": [
        "###**9. Plot your Word Embeddings using t-SNE**\n"
      ]
    },
    {
      "cell_type": "code",
      "metadata": {
        "colab": {
          "base_uri": "https://localhost:8080/",
          "height": 483
        },
        "id": "JRPHIYEgGXRh",
        "outputId": "a655c584-1b8a-4251-ad9b-2b3324ac43bd"
      },
      "source": [
        "from sklearn.manifold import TSNE\n",
        "import matplotlib.pyplot as plt\n",
        "import numpy as np\n",
        "\n",
        "tsne = TSNE(perplexity=3, n_components=2, init='pca', n_iter=5000, method='exact')\n",
        "np.set_printoptions(suppress=True)\n",
        "plot_only = 50\n",
        "\n",
        "# don't plot the special tokens\n",
        "start = 3\n",
        "T = tsne.fit_transform(word_embeddings[start:plot_only, :])\n",
        "labels = [idx2word[i] for i in range(start, plot_only)]\n",
        "plt.figure(figsize=(14, 8))\n",
        "plt.scatter(T[:, 0], T[:, 1])\n",
        "for label, x, y in zip(labels, T[:, 0], T[:, 1]):\n",
        "    plt.annotate(label, xy=(x+1, y+1), xytext=(0, 0), textcoords='offset points', ha='right', va='bottom')                      \t                        \n"
      ],
      "execution_count": 48,
      "outputs": [
        {
          "output_type": "display_data",
          "data": {
            "text/plain": [
              "<Figure size 1008x576 with 1 Axes>"
            ],
            "image/png": "[encoded data removed]"
          },
          "metadata": {
            "needs_background": "light"
          }
        }
      ]
    },
    {
      "cell_type": "markdown",
      "metadata": {
        "id": "sHdy4PDVO8TN"
      },
      "source": [
        "###**10. Questions**\n",
        "\n",
        "1. Create a new model that is a copy of the model step 3. To this new model,add two dropout layers, one between the embedding layer and the LSTM layer and another between the LSTM layer and the output layer. Repeat steps 4 and 5 for this model. What do you observe?\n",
        "\n",
        "2. Experiment with training the model with batch sizes of 1, 32, len(training_data). What do you observe?\n",
        "\n",
        "3. (optional) Can you retrain with a Bidirectional LSTM instead of an LSTM? What do you observe about the Bi-LSTM model?\n"
      ]
    },
    {
      "cell_type": "code",
      "metadata": {
        "id": "dxvb_lmHZ0Qm"
      },
      "source": [],
      "execution_count": null,
      "outputs": []
    }
  ]
}